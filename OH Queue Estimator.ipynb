{
 "cells": [
  {
   "cell_type": "code",
   "execution_count": 2,
   "metadata": {},
   "outputs": [],
   "source": [
    "import pandas as pd\n",
    "import numpy as np"
   ]
  },
  {
   "cell_type": "markdown",
   "metadata": {},
   "source": [
    "### Obtaining and cleaning data"
   ]
  },
  {
   "cell_type": "code",
   "execution_count": 3,
   "metadata": {},
   "outputs": [],
   "source": [
    "df = pd.read_csv(\"entries.csv\")"
   ]
  },
  {
   "cell_type": "code",
   "execution_count": 6,
   "metadata": {},
   "outputs": [
    {
     "name": "stdout",
     "output_type": "stream",
     "text": [
      "17067\n",
      "   id                            andrew_id_hash semester           entry_time  \\\n",
      "0   1  5660915b416b110d3125eddaf15d004c09f2dcf9      S17  2017-01-18 16:30:42   \n",
      "1   2  7a3ff1726a9e59878e74b78b612e705ba388f35c      S17  2017-01-18 16:30:47   \n",
      "2   3  33573dcedddbc5924f4fc0c16db8b901fd1c8286      S17  2017-01-18 16:31:00   \n",
      "3   4  2291bad572687d3d7e8fb1c4c4ad21c0b83c1e67      S17  2017-01-18 16:31:09   \n",
      "4   5  9a08eb5de601714dce83c7c7e5040509349f512c      S17  2017-01-18 16:32:51   \n",
      "\n",
      "             help_time            exit_time  wait_estimate  topic_id  ta_id  \n",
      "0  2017-01-18 16:31:36  2017-01-18 16:31:39            NaN       5.0      8  \n",
      "1  2017-01-18 16:31:44  2017-01-18 16:34:53            NaN       4.0     22  \n",
      "2  2017-01-18 16:32:12  2017-01-18 16:33:05            NaN       4.0     17  \n",
      "3  2017-01-18 16:32:28  2017-01-18 16:38:52            NaN       4.0     16  \n",
      "4  2017-01-18 16:33:15  2017-01-18 16:39:42            0.0       1.0     17  \n"
     ]
    }
   ],
   "source": [
    "print(len(df))\n",
    "print(df.head())"
   ]
  },
  {
   "cell_type": "code",
   "execution_count": 17,
   "metadata": {},
   "outputs": [
    {
     "name": "stdout",
     "output_type": "stream",
     "text": [
      "16062\n"
     ]
    }
   ],
   "source": [
    "df2 = df.drop(['wait_estimate', 'ta_id', 'id', 'semester'], axis=1)\n",
    "df2 = df3.dropna(axis=0, how='any')\n",
    "print(len(df2))"
   ]
  },
  {
   "cell_type": "code",
   "execution_count": 20,
   "metadata": {},
   "outputs": [
    {
     "name": "stdout",
     "output_type": "stream",
     "text": [
      "<class 'pandas.core.frame.DataFrame'>\n",
      "Int64Index: 16062 entries, 0 to 17066\n",
      "Data columns (total 5 columns):\n",
      "andrew_id_hash    16062 non-null object\n",
      "entry_time        16062 non-null object\n",
      "help_time         16062 non-null object\n",
      "exit_time         16062 non-null object\n",
      "topic_id          16062 non-null float64\n",
      "dtypes: float64(1), object(4)\n",
      "memory usage: 752.9+ KB\n",
      "None\n"
     ]
    }
   ],
   "source": [
    "print(df2.info())"
   ]
  },
  {
   "cell_type": "code",
   "execution_count": 23,
   "metadata": {},
   "outputs": [],
   "source": [
    "# Do not execute again\n",
    "df2['entry_time'] = pd.to_datetime(df2['entry_time'])\n",
    "df2['help_time'] = pd.to_datetime(df2['help_time'])\n",
    "df2['exit_time'] = pd.to_datetime(df2['exit_time'])"
   ]
  },
  {
   "cell_type": "code",
   "execution_count": 24,
   "metadata": {},
   "outputs": [
    {
     "name": "stdout",
     "output_type": "stream",
     "text": [
      "<class 'pandas.core.frame.DataFrame'>\n",
      "Int64Index: 16062 entries, 0 to 17066\n",
      "Data columns (total 5 columns):\n",
      "andrew_id_hash    16062 non-null object\n",
      "entry_time        16062 non-null datetime64[ns]\n",
      "help_time         16062 non-null datetime64[ns]\n",
      "exit_time         16062 non-null datetime64[ns]\n",
      "topic_id          16062 non-null float64\n",
      "dtypes: datetime64[ns](3), float64(1), object(1)\n",
      "memory usage: 752.9+ KB\n",
      "None\n"
     ]
    }
   ],
   "source": [
    "print(df2.info())"
   ]
  },
  {
   "cell_type": "code",
   "execution_count": 25,
   "metadata": {},
   "outputs": [],
   "source": [
    "df2['WT'] = (df2['help_time'] - df2['entry_time']).astype('timedelta64[s]')\n",
    "df2['HT'] = (df2['exit_time'] - df2['help_time']).astype('timedelta64[s]')"
   ]
  },
  {
   "cell_type": "code",
   "execution_count": 28,
   "metadata": {},
   "outputs": [
    {
     "name": "stdout",
     "output_type": "stream",
     "text": [
      "<class 'pandas.core.frame.DataFrame'>\n",
      "Int64Index: 16062 entries, 0 to 17066\n",
      "Data columns (total 4 columns):\n",
      "andrew_id_hash    16062 non-null object\n",
      "WT                16062 non-null float64\n",
      "HT                16062 non-null float64\n",
      "topic_id          16062 non-null float64\n",
      "dtypes: float64(3), object(1)\n",
      "memory usage: 1.2+ MB\n",
      "None\n",
      "                             andrew_id_hash    WT     HT  topic_id\n",
      "0  5660915b416b110d3125eddaf15d004c09f2dcf9  54.0    3.0       5.0\n",
      "1  7a3ff1726a9e59878e74b78b612e705ba388f35c  57.0  189.0       4.0\n",
      "2  33573dcedddbc5924f4fc0c16db8b901fd1c8286  72.0   53.0       4.0\n",
      "3  2291bad572687d3d7e8fb1c4c4ad21c0b83c1e67  79.0  384.0       4.0\n",
      "4  9a08eb5de601714dce83c7c7e5040509349f512c  24.0  387.0       1.0\n",
      "16062\n"
     ]
    }
   ],
   "source": [
    "df3 = df2[['andrew_id_hash', 'WT', 'HT', 'topic_id']]\n",
    "print(df3.info())\n",
    "print(df3.head())\n",
    "print(len(df3))"
   ]
  },
  {
   "cell_type": "code",
   "execution_count": null,
   "metadata": {},
   "outputs": [],
   "source": []
  }
 ],
 "metadata": {
  "kernelspec": {
   "display_name": "Python 3",
   "language": "python",
   "name": "python3"
  },
  "language_info": {
   "codemirror_mode": {
    "name": "ipython",
    "version": 3
   },
   "file_extension": ".py",
   "mimetype": "text/x-python",
   "name": "python",
   "nbconvert_exporter": "python",
   "pygments_lexer": "ipython3",
   "version": "3.6.2"
  }
 },
 "nbformat": 4,
 "nbformat_minor": 2
}
