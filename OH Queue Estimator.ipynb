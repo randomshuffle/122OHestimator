{
 "cells": [
  {
   "cell_type": "markdown",
   "metadata": {},
   "source": [
    "# 15-122 OH Queue Wait Time Estimator\n",
    "\n",
    "Being former 15-122 students, and one of beung a current TA, 15-122 is a course that is very close to our hearts. Over the course of last semester however, we observed that the wait time prediction that the 122 OH Queue tries to do is pretty inaccurate. "
   ]
  },
  {
   "cell_type": "markdown",
   "metadata": {},
   "source": [
    "![chart](chart2.png)"
   ]
  },
  {
   "cell_type": "markdown",
   "metadata": {},
   "source": [
    "In this particular case, the TAs had actually managed to clear the queue in less than an hour!"
   ]
  },
  {
   "cell_type": "markdown",
   "metadata": {},
   "source": [
    "We decided to fix this. Fortunately, the 122 staff collects tons of data during its OH about a student's wait time, help time, topic id of question etc. We got access to this data for a semester and decided to use  a machine learning model to try to to  predict a particular student's estimated help  time. We would then use the estimated help times of all the students being helped currently to get an estimate of the wait time for a student entering the queue.  The ad hoc algorithm converting estimated help times to wait times already  exists within the 122 infrastructure and the only issue was the help time predictions themselves. \n"
   ]
  },
  {
   "cell_type": "markdown",
   "metadata": {},
   "source": [
    "Our data pipeline was as follows- \n",
    "1. Obtaining and cleaning data (Data is far from ideal and contains several flaws)\n",
    "2. Visualizing the data (To figure out f machine learning is feasible and the model to use)\n",
    "3. Creating and training the Model (We ended up using a GLM) \n",
    "4. Fine-tuning hyper-parameters, the size of prediction bins in our case, using cross-validation.\n",
    "\n",
    "We also created a fun game at the end to allow the user to compete with our model. "
   ]
  },
  {
   "cell_type": "code",
   "execution_count": 17,
   "metadata": {},
   "outputs": [],
   "source": [
    "import pandas as pd\n",
    "import numpy as np\n",
    "import matplotlib.pyplot as plt\n",
    "import statsmodels.api as sm\n",
    "import statsmodels\n",
    "import random"
   ]
  },
  {
   "cell_type": "markdown",
   "metadata": {},
   "source": [
    "## Obtaining and cleaning data"
   ]
  },
  {
   "cell_type": "code",
   "execution_count": 18,
   "metadata": {},
   "outputs": [],
   "source": [
    "df = pd.read_csv(\"entries.csv\")\n",
    "topics = pd.read_csv(\"topics.csv\")"
   ]
  },
  {
   "cell_type": "code",
   "execution_count": 19,
   "metadata": {},
   "outputs": [
    {
     "name": "stdout",
     "output_type": "stream",
     "text": [
      "17067\n",
      "   id                            andrew_id_hash semester           entry_time  \\\n",
      "0   1  5660915b416b110d3125eddaf15d004c09f2dcf9      S17  2017-01-18 16:30:42   \n",
      "1   2  7a3ff1726a9e59878e74b78b612e705ba388f35c      S17  2017-01-18 16:30:47   \n",
      "2   3  33573dcedddbc5924f4fc0c16db8b901fd1c8286      S17  2017-01-18 16:31:00   \n",
      "3   4  2291bad572687d3d7e8fb1c4c4ad21c0b83c1e67      S17  2017-01-18 16:31:09   \n",
      "4   5  9a08eb5de601714dce83c7c7e5040509349f512c      S17  2017-01-18 16:32:51   \n",
      "\n",
      "             help_time            exit_time  wait_estimate  topic_id  ta_id  \n",
      "0  2017-01-18 16:31:36  2017-01-18 16:31:39            NaN       5.0      8  \n",
      "1  2017-01-18 16:31:44  2017-01-18 16:34:53            NaN       4.0     22  \n",
      "2  2017-01-18 16:32:12  2017-01-18 16:33:05            NaN       4.0     17  \n",
      "3  2017-01-18 16:32:28  2017-01-18 16:38:52            NaN       4.0     16  \n",
      "4  2017-01-18 16:33:15  2017-01-18 16:39:42            0.0       1.0     17  \n",
      "   id             name       out_date       due_date semester\n",
      "0   1    setup (Linux)   1/17/17 0:00   1/24/17 0:00      S17\n",
      "1   2         written1  1/17/17 21:00  1/23/17 21:00      S17\n",
      "2   3         scavhunt  1/19/17 21:00  1/26/17 21:00      S17\n",
      "3   4      setup (Mac)   1/17/17 0:00   1/24/17 0:00      S17\n",
      "4   5  setup (Windows)   1/17/17 0:00   1/24/17 0:00      S17\n"
     ]
    }
   ],
   "source": [
    "print(len(df))\n",
    "print(df.head())\n",
    "print(topics.head())"
   ]
  },
  {
   "cell_type": "markdown",
   "metadata": {},
   "source": [
    "\n",
    "As is visible, for each query made at Office Hours, we have the Andrew ID of the student (hashed), the entry time, the help time (time at which a TA started helping the student), the exit time (time at which the TA finished helping the student), the estimated wait time, the topic ID, the TA ID etc.  A lot of the rows also have NaNs interspersed. \n",
    "\n",
    "We also have 'topics data-frame' with all the topics and unique ids from the last 4 years. \n",
    "\n",
    "The features important to us are solely the help time, the Andrew ID and the Topic IDs. Thus, we first remove the unimportant columns and then compute the time the student was helped. \n"
   ]
  },
  {
   "cell_type": "code",
   "execution_count": 20,
   "metadata": {},
   "outputs": [],
   "source": [
    "df2 = df.drop(['wait_estimate', 'ta_id', 'id', 'semester'], axis=1)\n",
    "df2 = df2.dropna(axis=0, how='any')\n"
   ]
  },
  {
   "cell_type": "code",
   "execution_count": 21,
   "metadata": {},
   "outputs": [
    {
     "name": "stdout",
     "output_type": "stream",
     "text": [
      "<class 'pandas.core.frame.DataFrame'>\n",
      "RangeIndex: 120 entries, 0 to 119\n",
      "Data columns (total 2 columns):\n",
      "id      120 non-null int64\n",
      "name    120 non-null object\n",
      "dtypes: int64(1), object(1)\n",
      "memory usage: 2.0+ KB\n",
      "None\n"
     ]
    }
   ],
   "source": [
    "topics = topics.drop(['out_date', 'due_date', 'semester'], axis=1)\n",
    "print(topics.info())"
   ]
  },
  {
   "cell_type": "code",
   "execution_count": 22,
   "metadata": {},
   "outputs": [
    {
     "name": "stdout",
     "output_type": "stream",
     "text": [
      "<class 'pandas.core.frame.DataFrame'>\n",
      "Int64Index: 16062 entries, 0 to 17066\n",
      "Data columns (total 5 columns):\n",
      "andrew_id_hash    16062 non-null object\n",
      "entry_time        16062 non-null object\n",
      "help_time         16062 non-null object\n",
      "exit_time         16062 non-null object\n",
      "topic_id          16062 non-null float64\n",
      "dtypes: float64(1), object(4)\n",
      "memory usage: 752.9+ KB\n",
      "None\n"
     ]
    }
   ],
   "source": [
    "print(df2.info())"
   ]
  },
  {
   "cell_type": "code",
   "execution_count": 23,
   "metadata": {},
   "outputs": [],
   "source": [
    "df2['entry_time'] = pd.to_datetime(df2['entry_time'])\n",
    "df2['help_time'] = pd.to_datetime(df2['help_time'])\n",
    "df2['exit_time'] = pd.to_datetime(df2['exit_time'])\n",
    "df2['topic_id'] = df2['topic_id'].astype(int)"
   ]
  },
  {
   "cell_type": "code",
   "execution_count": 24,
   "metadata": {},
   "outputs": [
    {
     "name": "stdout",
     "output_type": "stream",
     "text": [
      "<class 'pandas.core.frame.DataFrame'>\n",
      "Int64Index: 16062 entries, 0 to 17066\n",
      "Data columns (total 5 columns):\n",
      "andrew_id_hash    16062 non-null object\n",
      "entry_time        16062 non-null datetime64[ns]\n",
      "help_time         16062 non-null datetime64[ns]\n",
      "exit_time         16062 non-null datetime64[ns]\n",
      "topic_id          16062 non-null int32\n",
      "dtypes: datetime64[ns](3), int32(1), object(1)\n",
      "memory usage: 690.2+ KB\n",
      "None\n"
     ]
    }
   ],
   "source": [
    "print(df2.info())"
   ]
  },
  {
   "cell_type": "code",
   "execution_count": 25,
   "metadata": {},
   "outputs": [],
   "source": [
    "df2['WT'] = (df2['help_time'] - df2['entry_time']).astype('timedelta64[s]').astype(int)\n",
    "df2['HT'] = (df2['exit_time'] - df2['help_time']).astype('timedelta64[s]').astype(int)"
   ]
  },
  {
   "cell_type": "markdown",
   "metadata": {},
   "source": [
    "Here, we calculate a student's actual help time (HT) and wait time (WT) "
   ]
  },
  {
   "cell_type": "code",
   "execution_count": 26,
   "metadata": {},
   "outputs": [
    {
     "name": "stdout",
     "output_type": "stream",
     "text": [
      "<class 'pandas.core.frame.DataFrame'>\n",
      "Int64Index: 16062 entries, 0 to 17066\n",
      "Data columns (total 4 columns):\n",
      "andrew_id_hash    16062 non-null object\n",
      "WT                16062 non-null int32\n",
      "HT                16062 non-null int32\n",
      "topic_id          16062 non-null int32\n",
      "dtypes: int32(3), object(1)\n",
      "memory usage: 1.1+ MB\n",
      "None\n",
      "                             andrew_id_hash  WT   HT  topic_id\n",
      "0  5660915b416b110d3125eddaf15d004c09f2dcf9  54    3         5\n",
      "1  7a3ff1726a9e59878e74b78b612e705ba388f35c  57  189         4\n",
      "2  33573dcedddbc5924f4fc0c16db8b901fd1c8286  72   53         4\n",
      "3  2291bad572687d3d7e8fb1c4c4ad21c0b83c1e67  79  384         4\n",
      "4  9a08eb5de601714dce83c7c7e5040509349f512c  24  387         1\n",
      "   id             name\n",
      "0   1    setup (Linux)\n",
      "1   2         written1\n",
      "2   3         scavhunt\n",
      "3   4      setup (Mac)\n",
      "4   5  setup (Windows)\n"
     ]
    }
   ],
   "source": [
    "df3 = df2[['andrew_id_hash', 'WT', 'HT', 'topic_id']]\n",
    "print(df3.info())\n",
    "print(df3.head())\n",
    "print(topics.head())"
   ]
  },
  {
   "cell_type": "markdown",
   "metadata": {},
   "source": [
    "Finally, our data is ready (Almost). We still need to do 2 things:\n",
    "1. Remove the outliers (probably not actual records and were not entered correctly)\n",
    "2. Join the topic ID in the dataset with the topic ID in the topic dataset. (We need to do this because some topics have different ids, for example the topic C0VM has 4 different ids: one for each semester the assignment was given!)"
   ]
  },
  {
   "cell_type": "markdown",
   "metadata": {},
   "source": [
    "### 1. Removing outliers"
   ]
  },
  {
   "cell_type": "code",
   "execution_count": 27,
   "metadata": {},
   "outputs": [
    {
     "name": "stdout",
     "output_type": "stream",
     "text": [
      "15533\n"
     ]
    }
   ],
   "source": [
    "df3 = df3.where(df3['HT'] > 30).dropna()\n",
    "df3 = df3.where(df3['HT'] < 2700).dropna()\n",
    "print(len(df3))"
   ]
  },
  {
   "cell_type": "markdown",
   "metadata": {},
   "source": [
    "### 2. Merging with the topic list"
   ]
  },
  {
   "cell_type": "code",
   "execution_count": 28,
   "metadata": {},
   "outputs": [
    {
     "name": "stdout",
     "output_type": "stream",
     "text": [
      "                             andrew_id_hash   WT   HT         name\n",
      "0  7a3ff1726a9e59878e74b78b612e705ba388f35c   57  189  setup (Mac)\n",
      "1  33573dcedddbc5924f4fc0c16db8b901fd1c8286   72   53  setup (Mac)\n",
      "2  2291bad572687d3d7e8fb1c4c4ad21c0b83c1e67   79  384  setup (Mac)\n",
      "3  9bf345f89e209ba0c0cf5ffb6a450669fdc96910  116   61  setup (Mac)\n",
      "4  8098b7df9506a418f44cbf339a82d59f8c4b0391  126  145  setup (Mac)\n",
      "15533\n"
     ]
    }
   ],
   "source": [
    "df4 = df3.merge(topics, left_on='topic_id', right_on='id')\n",
    "df4 = df4.drop(['topic_id', 'id'], axis=1)\n",
    "df4['WT'] = df4['WT'].astype(int)\n",
    "df4['HT'] = df4['HT'].astype(int)\n",
    "print(df4.head())\n",
    "print(len(df4))"
   ]
  },
  {
   "cell_type": "code",
   "execution_count": 29,
   "metadata": {},
   "outputs": [
    {
     "name": "stdout",
     "output_type": "stream",
     "text": [
      "['setup (Mac)' 'setup (Linux)' 'setup (Windows)' 'written1' 'scavhunt'\n",
      " 'written2' 'pixels' 'written3' 'images' 'written4' 'doslingos'\n",
      " 'images style' 'written5' 'midterm1' 'written6' 'clac-exp' 'written7'\n",
      " 'tbuf' 'exp style' 'written8' 'bloom' 'written9' 'ropes' 'written10'\n",
      " 'queues' 'written11' 'lightsout' 'written12' 'c0vm' 'written13' 'speller'\n",
      " 'exam1' 'clac' 'exam3' 'editor-check' 'editor' 'midterm2' 'strbuf'\n",
      " 'huffman' 'final']\n"
     ]
    }
   ],
   "source": [
    "topiclist = df4['name'].unique()\n",
    "print(topiclist)"
   ]
  },
  {
   "cell_type": "markdown",
   "metadata": {},
   "source": [
    "Now that we have linked the topic ids in our dataset with the topic IDs in the topic dataset, we also decide to combine the topics that are similar: we merge all the written assignments and style issues and pre-exam questions\n",
    "\n",
    "We do this because these are very similar topics and take a fairly standard amount of help time. "
   ]
  },
  {
   "cell_type": "code",
   "execution_count": 30,
   "metadata": {},
   "outputs": [],
   "source": [
    "topicmap = {}\n",
    "for topic in topiclist:\n",
    "    if (topic[:7] == 'written'):\n",
    "        topicmap[topic] = 'written'\n",
    "    elif (topic[-5:] == 'style'):\n",
    "        topicmap[topic] = 'style'\n",
    "    elif (topic == 'midterm1' or topic == 'midterm2' or topic == 'final' or topic == 'exam1' or topic == 'exam2' or topic == 'exam3'):\n",
    "        topicmap[topic] = 'exam'\n",
    "    else:\n",
    "        topicmap[topic] = topic"
   ]
  },
  {
   "cell_type": "code",
   "execution_count": 31,
   "metadata": {},
   "outputs": [
    {
     "name": "stdout",
     "output_type": "stream",
     "text": [
      "['setup (Mac)' 'setup (Linux)' 'setup (Windows)' 'written' 'scavhunt'\n",
      " 'pixels' 'images' 'doslingos' 'style' 'exam' 'clac-exp' 'tbuf' 'bloom'\n",
      " 'ropes' 'queues' 'lightsout' 'c0vm' 'speller' 'clac' 'editor-check'\n",
      " 'editor' 'strbuf' 'huffman']\n",
      "                             andrew_id_hash   WT   HT       new_id\n",
      "0  7a3ff1726a9e59878e74b78b612e705ba388f35c   57  189  setup (Mac)\n",
      "1  33573dcedddbc5924f4fc0c16db8b901fd1c8286   72   53  setup (Mac)\n",
      "2  2291bad572687d3d7e8fb1c4c4ad21c0b83c1e67   79  384  setup (Mac)\n",
      "3  9bf345f89e209ba0c0cf5ffb6a450669fdc96910  116   61  setup (Mac)\n",
      "4  8098b7df9506a418f44cbf339a82d59f8c4b0391  126  145  setup (Mac)\n"
     ]
    }
   ],
   "source": [
    "df4['new_id'] = df4['name'].apply(lambda x : topicmap[x])\n",
    "df5 = df4.drop(['name'], axis=1)\n",
    "print(df5['new_id'].unique())\n",
    "print(df5.head())"
   ]
  },
  {
   "cell_type": "code",
   "execution_count": 32,
   "metadata": {},
   "outputs": [
    {
     "name": "stdout",
     "output_type": "stream",
     "text": [
      "written            3945\n",
      "c0vm               1758\n",
      "ropes              1024\n",
      "lightsout          1022\n",
      "style               709\n",
      "queues              701\n",
      "images              697\n",
      "bloom               651\n",
      "tbuf                570\n",
      "pixels              555\n",
      "clac-exp            504\n",
      "doslingos           493\n",
      "exam                428\n",
      "huffman             420\n",
      "strbuf              352\n",
      "clac                342\n",
      "speller             321\n",
      "scavhunt            290\n",
      "editor              236\n",
      "setup (Mac)         230\n",
      "editor-check        154\n",
      "setup (Windows)     120\n",
      "setup (Linux)        11\n",
      "Name: new_id, dtype: int64\n"
     ]
    }
   ],
   "source": [
    "print(df5['new_id'].value_counts())"
   ]
  },
  {
   "cell_type": "code",
   "execution_count": 33,
   "metadata": {},
   "outputs": [
    {
     "name": "stdout",
     "output_type": "stream",
     "text": [
      "1003\n",
      "757\n",
      "209\n"
     ]
    }
   ],
   "source": [
    "print(len(df5['andrew_id_hash'].value_counts().where(df5['andrew_id_hash'].value_counts() > 0).dropna()))\n",
    "print(len(df5['andrew_id_hash'].value_counts().where(df5['andrew_id_hash'].value_counts() > 1).dropna()))\n",
    "print(len(df5['andrew_id_hash'].value_counts().where(df5['andrew_id_hash'].value_counts() > 20).dropna()))"
   ]
  },
  {
   "cell_type": "markdown",
   "metadata": {},
   "source": [
    "Note that there's relatively few students who show up more than 20 times. "
   ]
  },
  {
   "cell_type": "markdown",
   "metadata": {},
   "source": [
    "## Visualization"
   ]
  },
  {
   "cell_type": "markdown",
   "metadata": {},
   "source": [
    "We now move on to visualizing our cleaned up data. \n",
    "\n",
    "If we focus on exact values for the topics or the andrew IDs and we plot of a histogram of the help times, we get plots that look like poisson distributions."
   ]
  },
  {
   "cell_type": "code",
   "execution_count": 34,
   "metadata": {},
   "outputs": [
    {
     "data": {
      "text/plain": [
       "(array([361., 502., 464., 431., 319., 296., 253., 217., 166., 130., 117.,\n",
       "         87.,  97.,  81.,  60.,  47.,  34.,  40.,  34.,  20.,  26.,  20.,\n",
       "         14.,  19.,  18.,  10.,  16.,  10.,   5.,   5.,   2.,   5.,   9.,\n",
       "          5.,   6.,   2.,   4.,   1.,   4.,   2.,   0.,   1.,   1.,   0.,\n",
       "          1.,   1.,   0.,   1.,   0.,   1.]),\n",
       " array([  31.  ,   83.82,  136.64,  189.46,  242.28,  295.1 ,  347.92,\n",
       "         400.74,  453.56,  506.38,  559.2 ,  612.02,  664.84,  717.66,\n",
       "         770.48,  823.3 ,  876.12,  928.94,  981.76, 1034.58, 1087.4 ,\n",
       "        1140.22, 1193.04, 1245.86, 1298.68, 1351.5 , 1404.32, 1457.14,\n",
       "        1509.96, 1562.78, 1615.6 , 1668.42, 1721.24, 1774.06, 1826.88,\n",
       "        1879.7 , 1932.52, 1985.34, 2038.16, 2090.98, 2143.8 , 2196.62,\n",
       "        2249.44, 2302.26, 2355.08, 2407.9 , 2460.72, 2513.54, 2566.36,\n",
       "        2619.18, 2672.  ]),\n",
       " <a list of 50 Patch objects>)"
      ]
     },
     "execution_count": 34,
     "metadata": {},
     "output_type": "execute_result"
    },
    {
     "data": {
      "image/png": "[encoded data removed]",
      "text/plain": [
       "<matplotlib.figure.Figure at 0x29b1267b208>"
      ]
     },
     "metadata": {},
     "output_type": "display_data"
    }
   ],
   "source": [
    "writtens = df5['HT'].where(df5['new_id'] == 'written').dropna()\n",
    "plt.hist(writtens, bins=50)"
   ]
  },
  {
   "cell_type": "code",
   "execution_count": 35,
   "metadata": {},
   "outputs": [
    {
     "data": {
      "text/plain": [
       "(array([ 79., 118., 137., 153., 132., 100., 122., 106.,  75.,  75.,  75.,\n",
       "         54.,  51.,  64.,  47.,  43.,  35.,  23.,  33.,  19.,  20.,  20.,\n",
       "         18.,  17.,   9.,  18.,  10.,   9.,  12.,  13.,   2.,   9.,   7.,\n",
       "          4.,   2.,   1.,   7.,   5.,   2.,   3.,   2.,   3.,   2.,   5.,\n",
       "          4.,   4.,   1.,   4.,   2.,   2.]),\n",
       " array([  31.  ,   83.96,  136.92,  189.88,  242.84,  295.8 ,  348.76,\n",
       "         401.72,  454.68,  507.64,  560.6 ,  613.56,  666.52,  719.48,\n",
       "         772.44,  825.4 ,  878.36,  931.32,  984.28, 1037.24, 1090.2 ,\n",
       "        1143.16, 1196.12, 1249.08, 1302.04, 1355.  , 1407.96, 1460.92,\n",
       "        1513.88, 1566.84, 1619.8 , 1672.76, 1725.72, 1778.68, 1831.64,\n",
       "        1884.6 , 1937.56, 1990.52, 2043.48, 2096.44, 2149.4 , 2202.36,\n",
       "        2255.32, 2308.28, 2361.24, 2414.2 , 2467.16, 2520.12, 2573.08,\n",
       "        2626.04, 2679.  ]),\n",
       " <a list of 50 Patch objects>)"
      ]
     },
     "execution_count": 35,
     "metadata": {},
     "output_type": "execute_result"
    },
    {
     "data": {
      "image/png": "[encoded data removed]",
      "text/plain": [
       "<matplotlib.figure.Figure at 0x29b116ee278>"
      ]
     },
     "metadata": {},
     "output_type": "display_data"
    }
   ],
   "source": [
    "c0vm = df5['HT'].where(df5['new_id'] == 'c0vm').dropna()\n",
    "plt.hist(c0vm, bins=50)"
   ]
  },
  {
   "cell_type": "code",
   "execution_count": 36,
   "metadata": {},
   "outputs": [
    {
     "data": {
      "text/plain": [
       "(array([17., 17., 23., 25., 25., 28., 23., 15., 24., 19., 16.,  8., 15.,\n",
       "        14., 19., 12., 15.,  6.,  8., 11.,  7.,  6.,  7.,  7.,  4.,  4.,\n",
       "         5.,  3.,  4.,  3.,  2.,  4.,  2.,  4.,  3.,  2.,  1.,  4.,  2.,\n",
       "         0.,  0.,  0.,  0.,  1.,  0.,  1.,  2.,  0.,  0.,  2.]),\n",
       " array([  40.  ,   91.54,  143.08,  194.62,  246.16,  297.7 ,  349.24,\n",
       "         400.78,  452.32,  503.86,  555.4 ,  606.94,  658.48,  710.02,\n",
       "         761.56,  813.1 ,  864.64,  916.18,  967.72, 1019.26, 1070.8 ,\n",
       "        1122.34, 1173.88, 1225.42, 1276.96, 1328.5 , 1380.04, 1431.58,\n",
       "        1483.12, 1534.66, 1586.2 , 1637.74, 1689.28, 1740.82, 1792.36,\n",
       "        1843.9 , 1895.44, 1946.98, 1998.52, 2050.06, 2101.6 , 2153.14,\n",
       "        2204.68, 2256.22, 2307.76, 2359.3 , 2410.84, 2462.38, 2513.92,\n",
       "        2565.46, 2617.  ]),\n",
       " <a list of 50 Patch objects>)"
      ]
     },
     "execution_count": 36,
     "metadata": {},
     "output_type": "execute_result"
    },
    {
     "data": {
      "image/png": "[encoded data removed]",
      "text/plain": [
       "<matplotlib.figure.Figure at 0x29b11739240>"
      ]
     },
     "metadata": {},
     "output_type": "display_data"
    }
   ],
   "source": [
    "huffman = df5['HT'].where(df5['new_id'] == 'huffman').dropna()\n",
    "plt.hist(huffman, bins=50)"
   ]
  },
  {
   "cell_type": "code",
   "execution_count": 37,
   "metadata": {},
   "outputs": [
    {
     "data": {
      "text/plain": [
       "(array([30., 38., 44., 34., 40., 25., 26., 10., 12.,  5.,  8.,  7.,  5.,\n",
       "         4.,  2.,  4.,  1.,  0.,  1.,  1.]),\n",
       " array([  39.  ,  167.35,  295.7 ,  424.05,  552.4 ,  680.75,  809.1 ,\n",
       "         937.45, 1065.8 , 1194.15, 1322.5 , 1450.85, 1579.2 , 1707.55,\n",
       "        1835.9 , 1964.25, 2092.6 , 2220.95, 2349.3 , 2477.65, 2606.  ]),\n",
       " <a list of 20 Patch objects>)"
      ]
     },
     "execution_count": 37,
     "metadata": {},
     "output_type": "execute_result"
    },
    {
     "data": {
      "image/png": "[encoded data removed]",
      "text/plain": [
       "<matplotlib.figure.Figure at 0x29b12426eb8>"
      ]
     },
     "metadata": {},
     "output_type": "display_data"
    }
   ],
   "source": [
    "helpthispersonpls297 = df5['HT'].where(df5['andrew_id_hash'] == '21cb1f9adbacb7cf4bfb15085966652648310c05').dropna()\n",
    "plt.hist(helpthispersonpls297, bins=20)"
   ]
  },
  {
   "cell_type": "code",
   "execution_count": 38,
   "metadata": {},
   "outputs": [
    {
     "data": {
      "text/plain": [
       "(array([2., 0., 1., 2., 0., 0., 0., 1., 2., 1., 0., 1., 0., 0., 0., 1., 0.,\n",
       "        0., 0., 1.]),\n",
       " array([ 33. ,  50.7,  68.4,  86.1, 103.8, 121.5, 139.2, 156.9, 174.6,\n",
       "        192.3, 210. , 227.7, 245.4, 263.1, 280.8, 298.5, 316.2, 333.9,\n",
       "        351.6, 369.3, 387. ]),\n",
       " <a list of 20 Patch objects>)"
      ]
     },
     "execution_count": 38,
     "metadata": {},
     "output_type": "execute_result"
    },
    {
     "data": {
      "image/png": "[encoded data removed]",
      "text/plain": [
       "<matplotlib.figure.Figure at 0x29b11a68240>"
      ]
     },
     "metadata": {},
     "output_type": "display_data"
    }
   ],
   "source": [
    "helpthispersonpls12 = df5['HT'].where(df5['andrew_id_hash'] == '8062624b2a0e63429aec70cb1f934fee704435ef').dropna()\n",
    "plt.hist(helpthispersonpls12, bins=20)"
   ]
  },
  {
   "cell_type": "markdown",
   "metadata": {},
   "source": [
    "This looked promising, so we tried to make a small game to see if we could predict help times ourselves using the features we had decided on."
   ]
  },
  {
   "cell_type": "code",
   "execution_count": 39,
   "metadata": {},
   "outputs": [],
   "source": [
    "def game():\n",
    "    \n",
    "    record = df5.sample()\n",
    "    andrew = record['andrew_id_hash'].to_string(header=False, index=False)\n",
    "    ht = int(record['HT'].to_string(header=False, index=False))\n",
    "    new_id = record['new_id'].to_string(header=False, index=False)\n",
    "    \n",
    "    print(\"Helping \" + andrew + \" with \" + new_id + \"!\")\n",
    "    \n",
    "    assignment_stats = df5['HT'].where(df5['new_id'] == new_id).dropna()\n",
    "    plt.hist(assignment_stats, bins=20, range=(0,1800))\n",
    "    \n",
    "    person_stats = df5['HT'].where(df5['andrew_id_hash'] == andrew).dropna()\n",
    "    plt.hist(person_stats, bins=20)\n",
    "    \n",
    "    plt.show()\n",
    "    \n",
    "    prediction = int(input(\"Predict the Help time!: \"))\n",
    "    \n",
    "    print(\"Your prediction: \" + str(prediction))\n",
    "    print(\"Actual help time: \" + str(ht))\n",
    "    print(\"Error is: \" + str(abs(prediction-ht)/ht * 100))"
   ]
  },
  {
   "cell_type": "code",
   "execution_count": 40,
   "metadata": {},
   "outputs": [
    {
     "name": "stdout",
     "output_type": "stream",
     "text": [
      "Helping 9641cfd54915b40ee1a83fc5e7caa0e75fa7ecae with written!\n"
     ]
    },
    {
     "data": {
      "image/png": "[encoded data removed]",
      "text/plain": [
       "<matplotlib.figure.Figure at 0x29b11ae52b0>"
      ]
     },
     "metadata": {},
     "output_type": "display_data"
    },
    {
     "name": "stdout",
     "output_type": "stream",
     "text": [
      "Predict the Help time!: 250\n",
      "Your prediction: 250\n",
      "Actual help time: 220\n",
      "Error is: 13.636363636363635\n"
     ]
    }
   ],
   "source": [
    "game()"
   ]
  },
  {
   "cell_type": "markdown",
   "metadata": {},
   "source": [
    "We played around for a while and started to get good at it.\n",
    "Thats when we decided to go ahead and tried to model the poisson distribution. We asked a few TAs and searched on the internet about what we should do and decided to use a Generalized linear model with a link function suited to a poisson distribution in the end. "
   ]
  },
  {
   "cell_type": "markdown",
   "metadata": {},
   "source": [
    "## Creating the Model and Training"
   ]
  },
  {
   "cell_type": "markdown",
   "metadata": {},
   "source": [
    "In order to create the training and test set and labels we remove the andrew IDs which have less than 10 entries in the dataset, because it is difficult to fit a distribution to such a small sample size.\n",
    "We then  do a 70-30 data split"
   ]
  },
  {
   "cell_type": "code",
   "execution_count": 41,
   "metadata": {},
   "outputs": [
    {
     "name": "stdout",
     "output_type": "stream",
     "text": [
      "<class 'pandas.core.frame.DataFrame'>\n",
      "Int64Index: 15533 entries, 0 to 15532\n",
      "Columns: 373 entries, 006224cb5c837901ba7551f1b8d087c3c2fcdba3 to HT\n",
      "dtypes: int32(1), uint8(372)\n",
      "memory usage: 6.3 MB\n",
      "None\n"
     ]
    }
   ],
   "source": [
    "data = pd.get_dummies(df5['andrew_id_hash'])\n",
    "data = data.drop([col for col, val in data.sum().iteritems() if val <= 10], axis=1)\n",
    "data = data.join(pd.get_dummies(df5['new_id']))\n",
    "data = data.join(df5['HT'])\n",
    "print(data.info())"
   ]
  },
  {
   "cell_type": "code",
   "execution_count": 42,
   "metadata": {},
   "outputs": [
    {
     "name": "stdout",
     "output_type": "stream",
     "text": [
      "<class 'pandas.core.frame.DataFrame'>\n",
      "Int64Index: 10873 entries, 10986 to 8891\n",
      "Columns: 372 entries, 006224cb5c837901ba7551f1b8d087c3c2fcdba3 to written\n",
      "dtypes: uint8(372)\n",
      "memory usage: 3.9 MB\n",
      "None\n",
      "<class 'pandas.core.frame.DataFrame'>\n",
      "Int64Index: 10873 entries, 10986 to 8891\n",
      "Data columns (total 1 columns):\n",
      "HT    10873 non-null int32\n",
      "dtypes: int32(1)\n",
      "memory usage: 127.4 KB\n",
      "None\n",
      "<class 'pandas.core.frame.DataFrame'>\n",
      "Int64Index: 4660 entries, 3832 to 7270\n",
      "Columns: 372 entries, 006224cb5c837901ba7551f1b8d087c3c2fcdba3 to written\n",
      "dtypes: uint8(372)\n",
      "memory usage: 1.7 MB\n",
      "None\n",
      "<class 'pandas.core.frame.DataFrame'>\n",
      "Int64Index: 4660 entries, 3832 to 7270\n",
      "Data columns (total 1 columns):\n",
      "HT    4660 non-null int32\n",
      "dtypes: int32(1)\n",
      "memory usage: 54.6 KB\n",
      "None\n"
     ]
    }
   ],
   "source": [
    "datalen = data.shape[0]\n",
    "np.random.seed(42)\n",
    "perm = np.random.permutation(datalen)\n",
    "train_idx = perm[:int(datalen*0.7)]\n",
    "cv_idx = perm[int(datalen * 0.7):]\n",
    "\n",
    "X_train = data.loc[train_idx, data.columns != 'HT']\n",
    "y_train = data.loc[train_idx, ['HT']]\n",
    "X_cv = data.loc[cv_idx, data.columns != 'HT']\n",
    "y_cv = data.loc[cv_idx, ['HT']]\n",
    "print(X_train.info())\n",
    "print(y_train.info())\n",
    "print(X_cv.info())\n",
    "print(y_cv.info())"
   ]
  },
  {
   "cell_type": "markdown",
   "metadata": {},
   "source": [
    "### A Failed Attempt"
   ]
  },
  {
   "cell_type": "code",
   "execution_count": 43,
   "metadata": {},
   "outputs": [],
   "source": [
    "model = sm.GLM(y_train, X_train, family=sm.families.Poisson(statsmodels.genmod.families.links.log))\n",
    "results = model.fit()"
   ]
  },
  {
   "cell_type": "code",
   "execution_count": 44,
   "metadata": {},
   "outputs": [
    {
     "name": "stdout",
     "output_type": "stream",
     "text": [
      "                 Generalized Linear Model Regression Results                  \n",
      "==============================================================================\n",
      "Dep. Variable:                     HT   No. Observations:                10873\n",
      "Model:                            GLM   Df Residuals:                    10501\n",
      "Model Family:                 Poisson   Df Model:                          371\n",
      "Link Function:                    log   Scale:                             1.0\n",
      "Method:                          IRLS   Log-Likelihood:            -1.3189e+06\n",
      "Date:                Fri, 11 May 2018   Deviance:                   2.5553e+06\n",
      "Time:                        22:33:35   Pearson chi2:                 2.98e+06\n",
      "No. Iterations:                     6                                         \n",
      "============================================================================================================\n",
      "                                               coef    std err          z      P>|z|      [0.025      0.975]\n",
      "------------------------------------------------------------------------------------------------------------\n",
      "006224cb5c837901ba7551f1b8d087c3c2fcdba3     0.2082      0.008     26.490      0.000       0.193       0.224\n",
      "0067b4aeba1b08d3fe5ada6472fa8a514a079711    -0.0629      0.017     -3.655      0.000      -0.097      -0.029\n",
      "00cb4d194d9203f201f0608575e0cab8e78aaf78     0.3115      0.004     69.746      0.000       0.303       0.320\n",
      "00e8f150107817ea183641d4cea292e2c42d3479    -0.2769      0.009    -30.705      0.000      -0.295      -0.259\n",
      "01b9c30a0a24f7a7b3b1e2b5ebbddff10a64159f    -0.6105      0.012    -50.882      0.000      -0.634      -0.587\n",
      "0301ce2ebf8e6acc96675078ec31915271ade772    -0.4513      0.007    -61.758      0.000      -0.466      -0.437\n",
      "0373ebbfc11248eaa87e1acb58c8712ad64c6f5f    -0.0491      0.013     -3.710      0.000      -0.075      -0.023\n",
      "041d5876aff768aec01146ca1c38b41d9ff86dc5    -0.0220      0.006     -3.588      0.000      -0.034      -0.010\n",
      "043f25b4402086ef46ab83c01b061911324ed320    -0.3413      0.007    -46.002      0.000      -0.356      -0.327\n",
      "04e1c1891039bac3824114bb548f6e43cb78192a    -0.2127      0.018    -12.108      0.000      -0.247      -0.178\n",
      "04f58f207a7227281555136355b3808419ffab92    -0.0497      0.014     -3.605      0.000      -0.077      -0.023\n",
      "050d1466a70dc5f775aedfe2a1e418142681dfa8     0.4179      0.012     35.718      0.000       0.395       0.441\n",
      "059bf44f0c6dc975e0a89dadd9ca883a4038b0cf     0.2712      0.006     41.788      0.000       0.258       0.284\n",
      "06caf76b6932f8bbe05f8cf97ed937ef8ff39093    -0.0556      0.017     -3.237      0.001      -0.089      -0.022\n",
      "075bc39fa82c2304078f7a8e45bfa882a767cf25    -0.5201      0.020    -26.312      0.000      -0.559      -0.481\n",
      "07b1735b526acbe4722f9a7f8dc76de4e0c0aeea    -0.0296      0.011     -2.696      0.007      -0.051      -0.008\n",
      "08020ea2213623e8b3b6f4686dbdc12bf3e1669f     0.4396      0.013     34.030      0.000       0.414       0.465\n",
      "08fe02a2fa2cbf80833c6884126b75d94ff611cd    -0.3234      0.011    -29.486      0.000      -0.345      -0.302\n",
      "097973347def5617759fb92a39aff8e6f232e2b7    -0.0190      0.010     -1.862      0.063      -0.039       0.001\n",
      "0a7f1085475e9e9287e127b43add68c90d68089f     0.1130      0.010     11.071      0.000       0.093       0.133\n",
      "0b4c1ae362a828b876ac9ac88082161a57b3750c     0.1164      0.005     23.809      0.000       0.107       0.126\n",
      "0e0983221f481c43fd9cd9eeeb383ff28ac154ae    -0.5330      0.009    -61.157      0.000      -0.550      -0.516\n",
      "0fc22eb3424b71918aa5ec9b1987b8b3ad0223fd     0.4627      0.009     53.374      0.000       0.446       0.480\n",
      "0fd0b74e791db9f550e88985d552068317be9358     0.2460      0.012     21.061      0.000       0.223       0.269\n",
      "0fe4cdbdfe2fe66ea6a1c0aa7f9828a668127430    -0.3485      0.018    -19.372      0.000      -0.384      -0.313\n",
      "100da17f34de60d3c2420ef5ade38e6f6a36cbd1     0.2564      0.011     22.605      0.000       0.234       0.279\n",
      "10f21890c19fea9765d49440052635eb3cac07ca     0.4837      0.013     37.007      0.000       0.458       0.509\n",
      "115fb322f24b2d2d24eef7798ac4cb0b86a6e301    -0.6715      0.018    -37.193      0.000      -0.707      -0.636\n",
      "13d5e3da748c2fe612fe731869c0f55150eb37b1    -0.5251      0.009    -56.464      0.000      -0.543      -0.507\n",
      "13f49095a84a678a942a847afe5947820ebce1a3    -0.2231      0.020    -11.427      0.000      -0.261      -0.185\n",
      "166d93666d13f48ea30bc6ac47e38f5077ada39f     0.0612      0.009      6.758      0.000       0.043       0.079\n",
      "17f9322cf35f4774749edaddda996fb621b6ed53    -0.0248      0.014     -1.725      0.085      -0.053       0.003\n",
      "1862a28eefc7f2b18c4d848332a7de7adc201509     0.2153      0.012     18.483      0.000       0.192       0.238\n",
      "1929276614360b33610ac9c83834315b4187e042    -0.2226      0.009    -24.925      0.000      -0.240      -0.205\n",
      "19527eed4d5fc6a84971849aed1ed43691e339c6    -0.0437      0.014     -3.096      0.002      -0.071      -0.016\n",
      "1b5ea13773948f4f078b0d2651731d8eba67c3cb     0.1303      0.006     20.346      0.000       0.118       0.143\n",
      "1b8197242af753737c19e53e0bf678354926ee40    -0.8327      0.013    -62.998      0.000      -0.859      -0.807\n",
      "1c106716a0a99bba9b2e8b98371df5c6eea1b4af     0.0895      0.013      6.982      0.000       0.064       0.115\n",
      "1c3a0ae9996ef2da3abbff59de6f368f16cdbcc7    -0.6499      0.023    -27.718      0.000      -0.696      -0.604\n",
      "1d73e18b566a00da0b06e6518938a8f19a08baed     0.1362      0.006     23.475      0.000       0.125       0.148\n",
      "1e71f0a29beb17e4924590a0bba9170aefc0e346    -0.1651      0.005    -34.623      0.000      -0.174      -0.156\n",
      "1fad85a9d2cc516e39eec39f46c459bd112e3606    -0.1011      0.011     -9.238      0.000      -0.123      -0.080\n",
      "1fd5ba8553115de12d0069c95c40766d5ec2acbc    -0.6891      0.013    -54.301      0.000      -0.714      -0.664\n",
      "1fe7f219cdc2365f894d56178c6a45c6331e4c42    -0.4493      0.022    -20.463      0.000      -0.492      -0.406\n",
      "210e913293696c1af8048239fe773048d1e6a01d    -0.3339      0.009    -35.950      0.000      -0.352      -0.316\n",
      "219d645628239e99950eb8ba15378a9e95e67e30     0.2860      0.009     33.229      0.000       0.269       0.303\n",
      "21ac5e86b1ae2f9156c29a4cb406eedd69e04b80     0.0035      0.014      0.246      0.806      -0.025       0.032\n",
      "21cb1f9adbacb7cf4bfb15085966652648310c05     0.3704      0.003    123.022      0.000       0.365       0.376\n",
      "21ea8a06b4b9a8a0e42da2ec998803e97d5948f9    -0.1620      0.017     -9.604      0.000      -0.195      -0.129\n",
      "2391b47589ed212e593bc58d1d08ece77db55cdf    -0.4101      0.015    -26.904      0.000      -0.440      -0.380\n",
      "247cd1db004c629a8ad5a7d88fc75de0de7972d1    -0.2844      0.007    -39.574      0.000      -0.299      -0.270\n",
      "25ce4f97010048d7baa2ecf47446184a1c934792    -0.0116      0.008     -1.411      0.158      -0.028       0.005\n",
      "2673bcce2989faf2477e041c5ab7f9bac50134ae    -0.0496      0.012     -4.118      0.000      -0.073      -0.026\n",
      "270d2fdab318091921a2f9940ec3ce04922d3e5d     0.0526      0.013      4.206      0.000       0.028       0.077\n",
      "276768edb4b4457e0d3f7d4cdcdaeeb6c0414ff9    -0.7214      0.011    -65.956      0.000      -0.743      -0.700\n",
      "277a75a3bb0244dfb329763b0e015d78abe98744    -0.0546      0.017     -3.228      0.001      -0.088      -0.021\n",
      "27f548c627aee06fb3628c34170ed4e1022c8f9c    -0.2108      0.017    -12.768      0.000      -0.243      -0.178\n",
      "27fb688bd59677dc60d4d73de945d102e9330271    -0.0766      0.007    -10.929      0.000      -0.090      -0.063\n",
      "29b01f04b8540af5dc920e524da46fb8d41ff8ee    -0.1424      0.008    -16.797      0.000      -0.159      -0.126\n",
      "2a00d3f90caf7d88fa184ddebad47b9e3fb7f5a6    -0.7595      0.020    -37.841      0.000      -0.799      -0.720\n",
      "2a67ec1fb5d7181ff9454c7760deff7c6d7fc1c2     0.0765      0.007     10.994      0.000       0.063       0.090\n",
      "2b433ff285f4e8913152d8db94952b20e263839e     0.1376      0.022      6.257      0.000       0.094       0.181\n",
      "2b43ae46d05473a644b5307b53a84c2439477a4f    -0.1946      0.010    -20.307      0.000      -0.213      -0.176\n",
      "2b527df985c4d3d4d0e06a1e969b810fadc55d8f     0.0671      0.012      5.476      0.000       0.043       0.091\n",
      "2d35f6eddd1809a245144f6d1be3e3862d603751    -0.1660      0.013    -12.355      0.000      -0.192      -0.140\n",
      "2d517df03e6f71ac84e04e7063d824e561067c2a    -0.4761      0.014    -34.381      0.000      -0.503      -0.449\n",
      "2d55ad4c9360a4b7e5fb63bffbe0b079759ddc7a    -0.6354      0.012    -52.401      0.000      -0.659      -0.612\n",
      "2d6e445ad50f65478dc179ef217e537262976c34     0.1221      0.009     12.962      0.000       0.104       0.141\n",
      "2f1fdc7dc00bc8902a0186dfe79962538d730322     0.0380      0.009      4.241      0.000       0.020       0.056\n",
      "2f60462a73646da3c350f41958c76c22856aab36     0.0762      0.013      5.955      0.000       0.051       0.101\n",
      "30750c67a349e59cfe1af5d73f90b8422c01d9ab    -0.2590      0.008    -33.493      0.000      -0.274      -0.244\n",
      "30ad8d33a547818087547dbc0f17b76da9b20305     0.3709      0.006     58.646      0.000       0.358       0.383\n",
      "30e250d40e24d282563e686c433cb1f92fb9e47b    -0.4920      0.011    -45.932      0.000      -0.513      -0.471\n",
      "313c408d07655f9e275d897e8c1d189b3841f16d    -0.0565      0.012     -4.560      0.000      -0.081      -0.032\n",
      "3142dc3fc3f941c98780e2d01a07672e897cc2d7    -0.3290      0.008    -41.756      0.000      -0.344      -0.314\n",
      "315006c2d2b2fb8c1d53c55296c1656bf2a6c88a    -0.3580      0.014    -24.741      0.000      -0.386      -0.330\n",
      "31c06a4d1d0c604dcf240d43dd0d364ed21a3869    -0.3013      0.007    -46.128      0.000      -0.314      -0.288\n",
      "31e68be39133fc9659fa1496e34bece63ec531f3    -0.0062      0.009     -0.648      0.517      -0.025       0.012\n",
      "322343b384ea6068479757efb5af834d0c6a548c    -0.0163      0.011     -1.500      0.134      -0.038       0.005\n",
      "3247ddcb13d38bc31852f16561c8301da3ed952e    -0.5823      0.014    -42.778      0.000      -0.609      -0.556\n",
      "3296db96d489d60dda39539deaeedb29884cfd3c    -0.3010      0.009    -32.432      0.000      -0.319      -0.283\n",
      "3338e35e1020feb5582e8cc9fd5cde5bdaefaf12    -0.5986      0.016    -38.158      0.000      -0.629      -0.568\n",
      "333ed3cf5d361856231657346e347becbf5c858d     0.2428      0.010     24.564      0.000       0.223       0.262\n",
      "33573dcedddbc5924f4fc0c16db8b901fd1c8286    -0.3009      0.011    -27.320      0.000      -0.323      -0.279\n",
      "355e8ac270cada6d77c0f5ac46759d16bb09083f    -0.1660      0.010    -15.920      0.000      -0.186      -0.146\n",
      "36f03b7ced0983db72f45f73dc9757efed3c9158     0.3903      0.008     46.114      0.000       0.374       0.407\n",
      "37f0f51c57e6e33fa548ddbc3efb9f94111bbc79     0.0215      0.016      1.311      0.190      -0.011       0.054\n",
      "38040bd8b3683d0ad005c809de49cb1036103acc    -0.1006      0.011     -8.901      0.000      -0.123      -0.078\n",
      "3847d9296290790cf7d189c89974fc38a5437e79     0.0097      0.012      0.817      0.414      -0.014       0.033\n",
      "384b70398d58b640fec183934f85a06a18cb7fe4    -0.3394      0.010    -32.803      0.000      -0.360      -0.319\n",
      "39336da3a02c026b0c12605951c433d870e4e021     0.1313      0.006     23.524      0.000       0.120       0.142\n",
      "3b6802bc37f49ff50b654b694684d905625d54d3    -0.0501      0.015     -3.265      0.001      -0.080      -0.020\n",
      "3bc93de5ca33ec17c0541244b7b47a13c0cc63ef     0.2120      0.006     33.042      0.000       0.199       0.225\n",
      "3c5b93c63599c4a3b7a72901271aa7fdd75c1df1     0.2421      0.008     31.048      0.000       0.227       0.257\n",
      "3d6aa4ff3b4286cdc215c73d79b584df1a777a96    -0.1180      0.006    -20.067      0.000      -0.129      -0.106\n",
      "3e02642b9fe7058bfc194716f70ad79ffebfc730     0.0604      0.006     10.540      0.000       0.049       0.072\n",
      "3e236fb0e2c1fbd7140c029ca6ba44a831775256    -0.4177      0.006    -72.450      0.000      -0.429      -0.406\n",
      "3e30a8ed7e03f141c9b2a38efdb9686806dd79db    -0.2918      0.017    -17.179      0.000      -0.325      -0.258\n",
      "40ad830a60baf6e374a0806135957ca5daa3f7ca    -0.1869      0.004    -42.034      0.000      -0.196      -0.178\n",
      "41f24f752535dc071b4bec92e4468cce97b3f168     0.0122      0.009      1.370      0.171      -0.005       0.030\n",
      "42064e9a9e14378becee617103935efa96a49a8d    -0.0269      0.018     -1.461      0.144      -0.063       0.009\n",
      "4264d8a93ff4fef8edfecda38ca9676a82f2d3ba    -0.4453      0.019    -23.527      0.000      -0.482      -0.408\n",
      "426f54cb4499db2583a17a81c21407a1b2124893    -0.3595      0.020    -18.087      0.000      -0.398      -0.320\n",
      "42abaaac0640eee186f066e7f7d3ec65d8705694     0.0119      0.013      0.952      0.341      -0.013       0.036\n",
      "42dd696b29be78e44ae82bd91bf22bfb8cbdd28b    -0.0428      0.009     -4.864      0.000      -0.060      -0.026\n",
      "43a1d7e6da0880f78247d715baaa1cf118389b1d    -0.0289      0.007     -4.001      0.000      -0.043      -0.015\n",
      "449bb2b2082df349ab4a682a363e7c47a549791b    -0.8783      0.018    -48.167      0.000      -0.914      -0.843\n",
      "46c2195d9ce7bb05fd488d2f5d15b979ff3310eb    -0.3730      0.015    -25.439      0.000      -0.402      -0.344\n",
      "47095acef2fd17eafc5721692bf06a81add83cbb     0.1073      0.006     17.166      0.000       0.095       0.120\n",
      "47ca0647afccdfc90230abfef6a10e3ae6087cb8    -0.6022      0.011    -56.998      0.000      -0.623      -0.582\n",
      "47e1f2010f648690070c3aec63dd23a467f5536b     0.2623      0.006     40.810      0.000       0.250       0.275\n",
      "48a2500d227c5a06e58b19cabf24f3b17afa85e4     0.4183      0.006     64.734      0.000       0.406       0.431\n",
      "48fbe0c7fd1ef3317ae558c0e46ae2fc290640c1     0.1683      0.007     24.036      0.000       0.155       0.182\n",
      "492333bcb6b4257abd4e8b1d5a4b76e91ee75f0a     0.5579      0.016     34.600      0.000       0.526       0.590\n",
      "4971eeff66a31cab39d56c0ac0fe1c348bc04c6c     0.0450      0.010      4.603      0.000       0.026       0.064\n",
      "49aa1eaed3a29e56d385c6d1b2d9fbabf6cbc11f    -0.1493      0.007    -20.628      0.000      -0.163      -0.135\n",
      "4a45c4de3aecc0089f12f401c1ffac6b0d94506e     0.4340      0.014     31.169      0.000       0.407       0.461\n",
      "4c2182cf9d2ac00fb8ce8fceb3ec852eb9ac441c    -0.3027      0.019    -15.951      0.000      -0.340      -0.266\n",
      "4c408220b16483f4c7aefbd40bceccc399c42817    -0.1963      0.013    -14.968      0.000      -0.222      -0.171\n",
      "4d95d05ec29ea5d581c21166810342e51807242d    -0.5009      0.017    -30.101      0.000      -0.533      -0.468\n",
      "4da4eacb00b805713edf2c67860c9b5a6fb53b24     0.2933      0.005     57.088      0.000       0.283       0.303\n",
      "4e7054288040b6712e858f9153769bcc5ab6d19c    -0.1098      0.010    -10.574      0.000      -0.130      -0.089\n",
      "4e91b67af0b399db887b7b186c6437e92190db66    -0.2465      0.006    -38.798      0.000      -0.259      -0.234\n",
      "4fea534d79da5cecc4be81aa689e5fd8662f7d07     0.6149      0.011     56.757      0.000       0.594       0.636\n",
      "4ff2013af51f271aa2294f536d934cfe5778679f    -0.2793      0.009    -30.506      0.000      -0.297      -0.261\n",
      "51eef7ce297b546b888391e74166e53be9563aac     0.0757      0.008      9.467      0.000       0.060       0.091\n",
      "5573b626d831e5339408f2d947ca1790550dccf8     0.5844      0.011     50.823      0.000       0.562       0.607\n",
      "563adbdaa4a9620648b079483d6867382de9bd84     0.5272      0.017     30.380      0.000       0.493       0.561\n",
      "5660915b416b110d3125eddaf15d004c09f2dcf9    -0.8669      0.007   -122.581      0.000      -0.881      -0.853\n",
      "56a38d1000e34a968e618dc6e64908807ac8fc2e    -0.6771      0.018    -38.347      0.000      -0.712      -0.643\n",
      "575fca6254c8980f71e534de68c86c2d3f8fd004    -0.3930      0.015    -26.111      0.000      -0.422      -0.363\n",
      "57c2fcd817b3483e5b1f8ea7feb59c4fd2a6af0a     0.0595      0.009      6.597      0.000       0.042       0.077\n",
      "580bfddeea5ee95f5e777e663f82f34bee03e651    -0.1575      0.013    -12.292      0.000      -0.183      -0.132\n",
      "581eee7050c54e3c5f442a9c8c5f2722a6fbe0a2    -0.4533      0.008    -60.032      0.000      -0.468      -0.438\n",
      "58a4104a868305e40cd6f5aab23f0caad3f655ad    -0.0659      0.018     -3.666      0.000      -0.101      -0.031\n",
      "590644fec550ce235ce0bf7a24bbfb7a2c536f4e    -0.1283      0.018     -7.157      0.000      -0.163      -0.093\n",
      "59d8475e437f4eb54794b6a11a271a8d12beec7b     0.0183      0.014      1.310      0.190      -0.009       0.046\n",
      "59e157632260cb73a713bbeb1ded3b7ea0fc3a07     0.2965      0.005     53.937      0.000       0.286       0.307\n",
      "5a16be629064e57edec1840f1e5fa23f750bd01d    -0.5819      0.020    -28.484      0.000      -0.622      -0.542\n",
      "5b339c2a7cff47dd2041d241acad97418cf20b6d     0.0719      0.012      6.022      0.000       0.048       0.095\n",
      "5bc97e2e81c49356cc716e20517b7c64b3008c8d    -0.0599      0.017     -3.578      0.000      -0.093      -0.027\n",
      "5f42be54b640055ce2ced08e9fe012927b72fc16    -0.1961      0.014    -13.810      0.000      -0.224      -0.168\n",
      "5f60008ae16fc614cab06927b0dea2377c198dc2     0.0812      0.010      8.124      0.000       0.062       0.101\n",
      "5ff5e0307bea0fa7bad712f60649b13fc8187bb1     0.0875      0.011      8.132      0.000       0.066       0.109\n",
      "628fdbfc9b05860953ea4ef7c0749e66ad1329df    -0.2957      0.017    -17.545      0.000      -0.329      -0.263\n",
      "62f9a90d15775a44e6c5898c1f5dabdc55193d6f     0.4006      0.010     39.018      0.000       0.380       0.421\n",
      "63caea29f0c23d186273efd85721e58288f82130    -0.0339      0.005     -6.401      0.000      -0.044      -0.023\n",
      "653285a988ffcf8b845aad2381fe8108abee4081     0.2308      0.014     16.994      0.000       0.204       0.257\n",
      "656e7c9ff49ddc42d04fa3b3301f1b711fdbc855     0.0905      0.006     14.954      0.000       0.079       0.102\n",
      "6610023792163716e8d302ddd50a38c2bdfdf1d7     0.0434      0.009      4.663      0.000       0.025       0.062\n",
      "664aaf8d52e1654b54408d23b2276d9171d19a9b     0.1701      0.006     27.775      0.000       0.158       0.182\n",
      "67a87b244c9fbf50006ad301e7340d7e70a7fcb8    -0.1788      0.015    -12.189      0.000      -0.208      -0.150\n",
      "68310824f4d9e2d9e888a4c00a2d2c05057786e6    -0.0397      0.011     -3.611      0.000      -0.061      -0.018\n",
      "6945099e0f9cf384a32a2674fcd0a31361247f23     0.0747      0.016      4.792      0.000       0.044       0.105\n",
      "6ab1a2443068dae41c502d2d5f786d812b272ea1     0.0752      0.011      6.564      0.000       0.053       0.098\n",
      "6b76b0a17c0280e67db38b5473229ee2520e398d     0.4257      0.013     31.642      0.000       0.399       0.452\n",
      "6b8fbe72c62315b5262975984ea3a513f1c26497    -0.4442      0.017    -26.077      0.000      -0.478      -0.411\n",
      "6c76f2af59d3eeafe4eb8ef19531391b9e25115a    -0.1502      0.010    -15.188      0.000      -0.170      -0.131\n",
      "6cf75327f5f8b23b19dec4917d533e76b23e15cc    -0.3700      0.012    -31.074      0.000      -0.393      -0.347\n",
      "6d4d5cd1b52184b97491adb1655b9181a7bab19b    -0.1533      0.010    -15.296      0.000      -0.173      -0.134\n",
      "6f08a7f53cc94c199618278f3bf47146912843b6     0.0429      0.012      3.592      0.000       0.019       0.066\n",
      "7055453cf94056f98ffc291299d56e417f0c3b14    -0.9978      0.023    -42.922      0.000      -1.043      -0.952\n",
      "71da11206ef6c10b692e263240d7fbbd60d87fc6    -0.0592      0.018     -3.227      0.001      -0.095      -0.023\n",
      "7352ff7ca7cb4d9e7c841332aaae0765f1243005    -0.3868      0.014    -27.447      0.000      -0.414      -0.359\n",
      "7440b6c752206a2c301485231f351d6a888b0add     0.0746      0.017      4.500      0.000       0.042       0.107\n",
      "76b666ff15995a70a41331f061850ee82294c43a     0.1021      0.017      5.924      0.000       0.068       0.136\n",
      "76c468d5cd44912cd75638eb6c51d0cc9719fc16    -0.0587      0.008     -7.227      0.000      -0.075      -0.043\n",
      "773f5f725a8f8c491d73539ad76c752d9457993b     0.3872      0.004     91.003      0.000       0.379       0.396\n",
      "7754767892b082c0d16b457e2ffe303de439c131     0.3176      0.017     18.660      0.000       0.284       0.351\n",
      "7938be65cd2c79192b13e9d8716d65db29ad75df    -0.4134      0.020    -20.937      0.000      -0.452      -0.375\n",
      "7a3ff1726a9e59878e74b78b612e705ba388f35c    -0.0845      0.006    -13.778      0.000      -0.097      -0.072\n",
      "7a8f5bf354658dde241106286ad21cf57e74f017    -0.3645      0.009    -41.770      0.000      -0.382      -0.347\n",
      "7b5f28d89687bc1df89e901219eda1cb40f939ef     0.0140      0.013      1.116      0.265      -0.011       0.039\n",
      "7da5e32e0017fb0c502ef47960f523dc8d525e31    -0.3558      0.015    -23.510      0.000      -0.385      -0.326\n",
      "7df0b64e9fd9debcd0f901590a02051c38a642a7    -0.3895      0.019    -20.867      0.000      -0.426      -0.353\n",
      "7f016e1d4fdc455735937f4f4a531457322004bf    -0.1557      0.015    -10.547      0.000      -0.185      -0.127\n",
      "7f7bd56ff08cbb5411feb5c4e98529a35ce2415d     0.2820      0.011     25.441      0.000       0.260       0.304\n",
      "7f8f2d9019551c367d3c764b2a5198d84ba90517    -0.4790      0.012    -39.463      0.000      -0.503      -0.455\n",
      "803decb3ca5868e7a7413f7c6dbb4fb256f61c51     0.0785      0.007     10.865      0.000       0.064       0.093\n",
      "8062624b2a0e63429aec70cb1f934fee704435ef    -0.7553      0.035    -21.412      0.000      -0.824      -0.686\n",
      "8098b7df9506a418f44cbf339a82d59f8c4b0391     0.6770      0.008     83.024      0.000       0.661       0.693\n",
      "81e1a611a108f1e2d531b94b3f4cf0dd4c7fb930    -0.0107      0.007     -1.464      0.143      -0.025       0.004\n",
      "81e6820d262d74bae6968f1d5326f2afd2f6bb66     0.4039      0.008     47.959      0.000       0.387       0.420\n",
      "81e877faf250aa3c2fc7ed90be433dc11b9513a3    -0.6755      0.021    -31.917      0.000      -0.717      -0.634\n",
      "8272305d124e80ee83a0009b7406456d5d520ba8    -0.4317      0.019    -23.161      0.000      -0.468      -0.395\n",
      "82f266f7ceb05c52bf2bc89f4b1455523f1cc7f5     0.2026      0.010     20.955      0.000       0.184       0.222\n",
      "83b396eee89bd80cbb021f119efbffb22fb1867d     0.1158      0.009     12.209      0.000       0.097       0.134\n",
      "849f2df0747aebb29ee76fd70eb75c74ee681778    -0.4461      0.010    -46.339      0.000      -0.465      -0.427\n",
      "8593cedd0de7aaca29bc3f5d509e4f1770a1bdc4     0.3460      0.007     52.408      0.000       0.333       0.359\n",
      "867d5758e905586d2d1650e70f91bb0c4b310533     0.1167      0.008     14.647      0.000       0.101       0.132\n",
      "8696809cc621a57e997a3a349a72d26fb56bfea6    -0.4016      0.011    -34.984      0.000      -0.424      -0.379\n",
      "87037400ecb4fd5e0ecf0096947803bd2b7b9a10    -0.1822      0.016    -11.529      0.000      -0.213      -0.151\n",
      "8a5346d573517fecd831becd37c5538c170bf368     0.3523      0.012     28.511      0.000       0.328       0.377\n",
      "8b0e30464f484ee586865d461703010ea966e707     0.2282      0.007     33.600      0.000       0.215       0.241\n",
      "8c023ae13a70ffa4826606ece75a2928fc61dd16    -0.1027      0.011     -9.532      0.000      -0.124      -0.082\n",
      "8d52f28edcb04652e633cd593d5c37289638f746    -0.1357      0.010    -13.400      0.000      -0.156      -0.116\n",
      "8d5e79990881fe4be9b70ea301f860c42bbd20cc    -0.4083      0.017    -24.203      0.000      -0.441      -0.375\n",
      "8dbb2526e3f8a4efc609454044518860b7f1ddd1     0.6439      0.007     97.698      0.000       0.631       0.657\n",
      "8ed639b0c8ae8edfb51645e089226478b7a13ba5    -0.2455      0.011    -21.717      0.000      -0.268      -0.223\n",
      "8f7a073dd44a92f0cedc517309b006634c43c5ad    -0.3608      0.018    -20.306      0.000      -0.396      -0.326\n",
      "90d6c6bf0521dbc1cf763a2178a71b0de84e833e     0.0613      0.013      4.797      0.000       0.036       0.086\n",
      "91357c46a192cd532c97ffd3a99fdc18d65a497a    -0.1387      0.013    -10.353      0.000      -0.165      -0.112\n",
      "915399dcefbadc7a7e56b1421018fab2da5f2482     0.3920      0.011     35.018      0.000       0.370       0.414\n",
      "915c4101b071bd566dfb0920e32aef3273abf773     0.0200      0.014      1.405      0.160      -0.008       0.048\n",
      "91e1c8bd7117dfd8c86a0b442beea4ed70923643     0.4402      0.007     61.050      0.000       0.426       0.454\n",
      "92292bc8465dd87c634d8a64a75407af742652f3    -0.2172      0.016    -13.813      0.000      -0.248      -0.186\n",
      "92e0730924f4a1082e5c2760438bfc13d2065d2d     0.5713      0.013     44.690      0.000       0.546       0.596\n",
      "93764dbd3290c27576b388b0e8a51e3bd1345f9c    -0.2589      0.012    -21.945      0.000      -0.282      -0.236\n",
      "9402246e9b175e16c3637c85eed01fb6d341193d    -0.1918      0.009    -22.408      0.000      -0.209      -0.175\n",
      "9552e74bcf06aaccfc4ac863c57ac0c8040d7640    -0.4610      0.005    -96.639      0.000      -0.470      -0.452\n",
      "95858c4cb9d93eef6a2463b657b037d5048966cf     0.0246      0.008      3.027      0.002       0.009       0.041\n",
      "963ea0569d2afed71716cc0f3ad5d79b3912027b    -0.0671      0.011     -5.961      0.000      -0.089      -0.045\n",
      "9641cfd54915b40ee1a83fc5e7caa0e75fa7ecae    -0.3413      0.006    -55.201      0.000      -0.353      -0.329\n",
      "972a2615f00f45be69a0a56fcb76713fd2fc3dd1     0.1943      0.006     31.292      0.000       0.182       0.206\n",
      "975c415fb97778a8d564634e18e1cbb6ce5cbd9f    -0.2855      0.014    -20.924      0.000      -0.312      -0.259\n",
      "97c1dad684d894c38237c91176b2ca5c490feedf    -0.3230      0.017    -18.776      0.000      -0.357      -0.289\n",
      "984cb063745ed978785516d79167329f62ddb1da     0.5667      0.006     93.836      0.000       0.555       0.579\n",
      "9968a51f274e661affdd90dfee5282bd734b70c7    -0.2112      0.014    -15.430      0.000      -0.238      -0.184\n",
      "9983f5fa63a848aefff3dd354e5bfd89d8903c05     0.4112      0.006     71.925      0.000       0.400       0.422\n",
      "9a74b50212290bec369a19a0c66dcf473e619429    -0.7932      0.018    -43.413      0.000      -0.829      -0.757\n",
      "9a7869df9eae678099a5328f06f85298246923ed    -0.0368      0.011     -3.272      0.001      -0.059      -0.015\n",
      "9af33cc369b031fb335f04660b1207915496e40f    -0.5571      0.007    -79.124      0.000      -0.571      -0.543\n",
      "9bf345f89e209ba0c0cf5ffb6a450669fdc96910    -0.6096      0.014    -44.418      0.000      -0.637      -0.583\n",
      "9d8bae8b2e979663cc0ecd6e78d64378c835507c    -0.4805      0.008    -60.998      0.000      -0.496      -0.465\n",
      "9ddb09b95dc9160bb16e5cb9c5b575f71f426927     0.2469      0.006     42.358      0.000       0.235       0.258\n",
      "9e323fc7eb1998a0eb5b130bfa8950fc8f6211f4     0.7261      0.009     81.128      0.000       0.709       0.744\n",
      "a09211e7154c75063976d4cb552c1408c7698729    -0.3631      0.012    -31.089      0.000      -0.386      -0.340\n",
      "a096c854b584f07f3f48896287679fc3cbcbe02a    -0.1644      0.013    -12.305      0.000      -0.191      -0.138\n",
      "a1eecba00a0b2acc8070df8b98cfd93a0dee5fd3     0.4830      0.006     76.020      0.000       0.471       0.495\n",
      "a2aae1d4eaf2ddb857668f91c40333aacd1780b9    -0.0052      0.007     -0.793      0.428      -0.018       0.008\n",
      "a321b778e1858698be151af2c7652733bcc1e28a    -0.3345      0.008    -39.870      0.000      -0.351      -0.318\n",
      "a34e6dcd71b7cbd85572e920a11dd05fc0223b8c     0.1511      0.005     30.318      0.000       0.141       0.161\n",
      "a397140013b2537852fb4d2a803eac27a0438df4    -0.7255      0.017    -43.013      0.000      -0.759      -0.692\n",
      "a3f510a0ce644d8f47bb5f43c5c66a74f8caf5d6    -0.2634      0.009    -30.601      0.000      -0.280      -0.247\n",
      "a546ca7aef9685e22698350cbac5da70bb03b2af    -0.4161      0.019    -21.409      0.000      -0.454      -0.378\n",
      "a5db86c0062957e03fc1f1150833603acb7f7762     0.3525      0.007     51.578      0.000       0.339       0.366\n",
      "a5fd656a67818e1eecab3af45509cc0ff46822fd     0.4619      0.012     38.434      0.000       0.438       0.485\n",
      "a8aa1562664dd51661ffdc8e3a7eab08c503b21d    -0.4641      0.015    -30.560      0.000      -0.494      -0.434\n",
      "a8dcb8dcd76d16187f2817a3a9c299776b2257cb    -0.0632      0.013     -4.990      0.000      -0.088      -0.038\n",
      "aac8a77c368168fec6ae74ebf03ca0acd9752819    -0.3111      0.015    -21.353      0.000      -0.340      -0.283\n",
      "aad0a41753cc2b7c4f2e44b830cc4572cc15218a    -0.2986      0.020    -14.731      0.000      -0.338      -0.259\n",
      "ab3bc670c4cc6e81bf96e8f14e65bdd0b72aca0b    -0.4091      0.011    -37.595      0.000      -0.430      -0.388\n",
      "ac4994ec0910f62695bd3eb25f1987af03568f21    -0.4807      0.011    -44.539      0.000      -0.502      -0.460\n",
      "ac8af5454f7d9abbd2615da5bbf0734314583cb3     0.2318      0.010     22.845      0.000       0.212       0.252\n",
      "ad36a7bdf2f2d8947fd30b607ee75936b107f028    -0.1117      0.010    -10.652      0.000      -0.132      -0.091\n",
      "ad696e0bc59b73219456b01a4324b333824f9e04    -0.6028      0.020    -30.379      0.000      -0.642      -0.564\n",
      "adef72ffeefe14666adb798230eff8abe9e5ffdb    -0.0837      0.008    -10.359      0.000      -0.099      -0.068\n",
      "ae0e49a9e50fa38c65f0a09a503b0827a2131947    -0.0335      0.006     -5.874      0.000      -0.045      -0.022\n",
      "ae80ee5278d3573dadc91bbe3a1d9f66e79768dc    -0.1290      0.017     -7.748      0.000      -0.162      -0.096\n",
      "aeb6435e58f2359bf9420c8249789e02b27dfacb     0.2748      0.013     20.925      0.000       0.249       0.301\n",
      "b12363c2697652e975586f056c9ead4fa918ab1e    -0.0099      0.008     -1.206      0.228      -0.026       0.006\n",
      "b206d4676c0614f8cfce8ed5a726f193b6c10382    -0.2123      0.008    -26.452      0.000      -0.228      -0.197\n",
      "b234a5a065b24b550614b3272b7962ab8a71698d    -0.4356      0.010    -43.656      0.000      -0.455      -0.416\n",
      "b3410512fdbf24a6ab4ee26c44d72942f29d7054    -0.3905      0.005    -81.119      0.000      -0.400      -0.381\n",
      "b6b66650176b28b41a2ccc6e17f80fe34089d1e3     0.1627      0.011     14.417      0.000       0.141       0.185\n",
      "b80f208a662b4436a75432b323ab12a5deae5315    -0.4300      0.019    -22.432      0.000      -0.468      -0.392\n",
      "b893f6b076eb0b3fc42ae9187ff5e91488715462    -0.4038      0.016    -25.670      0.000      -0.435      -0.373\n",
      "b90a99b0cd1128060cd80bbd1a17746e08b2b04a     0.4732      0.006     74.262      0.000       0.461       0.486\n",
      "b94f8abee597235b3295f127dcce8027bd6a3510     0.1110      0.004     25.756      0.000       0.103       0.119\n",
      "ba2323c9590875cf01c2debe21a8e2bed17614ae    -0.5104      0.013    -39.450      0.000      -0.536      -0.485\n",
      "bb18b735d6a628bf23adec769b2f33c994761ca2    -0.0008      0.012     -0.067      0.947      -0.025       0.024\n",
      "bb5e7d6c093642e31f8e68f43773e06c79f0e51c    -0.7444      0.014    -54.796      0.000      -0.771      -0.718\n",
      "bea9a9855ee488d7c4d5a8882adca2146bb7fa0e     0.0037      0.017      0.214      0.830      -0.030       0.037\n",
      "bff0bbef06c2234dc1d5f77d8722849a40a51e73    -0.1794      0.018    -10.200      0.000      -0.214      -0.145\n",
      "c05d21bbe9c01fa10dfc6d6255c3e8fdeceb7127     0.5285      0.008     63.334      0.000       0.512       0.545\n",
      "c0cbeefd2eb33fcca5ea17601bbe0597f8e2eb08    -0.0869      0.014     -6.079      0.000      -0.115      -0.059\n",
      "c18c10d143fea7f55401c71f7a1f685fc248ea86    -0.1352      0.018     -7.618      0.000      -0.170      -0.100\n",
      "c2026557bd28135abbdbf9998bd8f18c2f128a77     0.1804      0.009     19.928      0.000       0.163       0.198\n",
      "c472b0aad7dd89e1698360c24f9d5bf1760c34a4    -0.3188      0.017    -18.916      0.000      -0.352      -0.286\n",
      "c491c56420a39042d7211ad43d120919312026e7    -0.0316      0.008     -3.770      0.000      -0.048      -0.015\n",
      "c58c8f96fcd00472acdf4a1ab059f9aad91eb7ef    -0.9833      0.021    -46.080      0.000      -1.025      -0.941\n",
      "c59a787616be48bffa7d6dd2286d644205f7ae3d     0.1088      0.024      4.580      0.000       0.062       0.155\n",
      "c5ae5840e837e1637590ef1e57ca0cba5cf35fab    -0.0503      0.009     -5.797      0.000      -0.067      -0.033\n",
      "c7c0a3097c0d7f0550dbfd2704257418d93bbaf1     0.1509      0.009     17.380      0.000       0.134       0.168\n",
      "c857da256ff22bd4f6506047c8e0ca3f7b9bff3b    -0.2889      0.009    -32.163      0.000      -0.306      -0.271\n",
      "ca153e9263a1e638b79522999eda86fbba848339    -0.6400      0.015    -41.904      0.000      -0.670      -0.610\n",
      "cad652bbf9947ad4acc334acdabbe88905584e4d    -0.3635      0.013    -27.568      0.000      -0.389      -0.338\n",
      "cb9a833a2d7d2753589877b74a82744a3bde0cd9    -0.4290      0.015    -28.641      0.000      -0.458      -0.400\n",
      "cbfc2ad6a0e7caf204ffaa3fa3fb79e160158855     0.1949      0.018     10.958      0.000       0.160       0.230\n",
      "cdc4e15452a01b07fa15d7289e3ffbbed3e0ed8f     0.1647      0.006     25.800      0.000       0.152       0.177\n",
      "ce232f0ab834bd7e3ae1a44cbbbe04257250c87c     0.3452      0.009     39.040      0.000       0.328       0.363\n",
      "cec70327954cf33522d07d72eb76d62f1fe13e78     0.8095      0.012     65.908      0.000       0.785       0.834\n",
      "cee7af469b8ba846c49318f3a4068563cf3dd05b     0.1347      0.012     11.320      0.000       0.111       0.158\n",
      "cef638b49e1b4018f5678e726c449929c08e3ee6    -0.2230      0.011    -20.334      0.000      -0.244      -0.201\n",
      "cf5913ec250ca38f1367dcdaf20425636bdca082    -0.1622      0.009    -17.718      0.000      -0.180      -0.144\n",
      "d10dd724825291d9244ca25610172432542c741d    -0.1835      0.016    -11.771      0.000      -0.214      -0.153\n",
      "d15a1896a3de599389f0dd7adbf343b2eb530b8a    -0.3120      0.012    -26.222      0.000      -0.335      -0.289\n",
      "d19c913f78a9be3c1bf1cd7cdda3199027aced29     0.1518      0.015     10.147      0.000       0.122       0.181\n",
      "d1b7f8c5b8722e228fbe31695cb044b541f2f227    -1.6068      0.037    -43.868      0.000      -1.679      -1.535\n",
      "d3a16dae731076229d9f44b1e84fcf74695c8aca    -0.6337      0.013    -48.675      0.000      -0.659      -0.608\n",
      "d40b370026cdc5658409b7f2576d00dac432bb20    -0.0055      0.014     -0.379      0.704      -0.034       0.023\n",
      "d539a57bf8b8ce9da4ff837951ddf00600617213    -0.2614      0.010    -25.991      0.000      -0.281      -0.242\n",
      "d79a59d8495ec1a94057488f50ccd5e7c37a0489    -0.1517      0.007    -20.504      0.000      -0.166      -0.137\n",
      "d826d72a54b4f55d113d9ea50a823b36c13a7fbc    -0.2657      0.016    -16.847      0.000      -0.297      -0.235\n",
      "d8d3b7acffdec28e930f9069e3be6a6edf402167    -0.3201      0.018    -18.227      0.000      -0.355      -0.286\n",
      "d905a8320cc784535f84b66c8bae4c8b870fcf8f     0.1874      0.008     22.777      0.000       0.171       0.204\n",
      "d9a98666339e7f6dadd0f6935460cb04d85163a5    -0.5788      0.017    -33.776      0.000      -0.612      -0.545\n",
      "da55d310d2dacac4915e5e5560fd260d68bf4a54    -0.3091      0.009    -35.249      0.000      -0.326      -0.292\n",
      "dd6d90e48bce2e5ad0adb3f594a864a69ed71291    -0.0256      0.009     -2.827      0.005      -0.043      -0.008\n",
      "ddb6ed217a03b71b9051f86b74dc0d75965c7225     0.2052      0.014     14.901      0.000       0.178       0.232\n",
      "ddecaeb35b0ebd41e5636f6e4c2fda182705ecd5     0.0970      0.007     14.273      0.000       0.084       0.110\n",
      "de10039b521331ccf9fc13de304b18ed64d40a3b     0.3604      0.006     56.587      0.000       0.348       0.373\n",
      "de12906e0db36d2e4bbc1c5ff90414836ec64fd0     0.4384      0.013     34.962      0.000       0.414       0.463\n",
      "de7949ad59a95e3a509a3b42c45d8f6f76b73952     0.0356      0.012      2.901      0.004       0.012       0.060\n",
      "df47bcaba9551482dfc8ef430d05ecbd0b9673be    -0.0474      0.009     -5.047      0.000      -0.066      -0.029\n",
      "df49403aec05b3350597a2e9d724a0270fbaa7bb    -0.8879      0.019    -47.276      0.000      -0.925      -0.851\n",
      "df790bd15f8c8cf554782c311601498a590ce0d1    -0.0984      0.015     -6.645      0.000      -0.127      -0.069\n",
      "e010ecae51bb3c407e56dd2f200d71af58fc6f07     0.6100      0.013     47.396      0.000       0.585       0.635\n",
      "e1659ed921375627c30b7d53cecc63d0df309064    -0.0818      0.010     -8.196      0.000      -0.101      -0.062\n",
      "e3ff7f7a5cdf6d7a096d0fc3f5d137ff69f59bef    -0.0609      0.015     -4.110      0.000      -0.090      -0.032\n",
      "e49b2ae619e18e50adeb21199a974e01ef468580    -0.4757      0.015    -31.393      0.000      -0.505      -0.446\n",
      "e56ff8ec62ca5873b5b7eb1f1cbdf0d8a1875306     0.1064      0.008     13.645      0.000       0.091       0.122\n",
      "e66507266a0bbc94eeb885e7fd7324a9c4cce1d3     0.2959      0.010     28.642      0.000       0.276       0.316\n",
      "e740b05973b3001388429e166c9bf301ea43dfc2    -0.2747      0.006    -46.664      0.000      -0.286      -0.263\n",
      "e7685ebac46af7caddac9e8cbbad7d5c7005de9d    -0.0719      0.015     -4.786      0.000      -0.101      -0.042\n",
      "e7b846a5ec1fad720b7a3669bb6fdc8896c422fe    -0.4153      0.011    -36.950      0.000      -0.437      -0.393\n",
      "e8a6af1314e59a3e871fd865833dfd44eaed7002    -0.5495      0.012    -47.037      0.000      -0.572      -0.527\n",
      "e8c9039d3beefa84a0df078d109da01318ec206e     0.4546      0.007     62.147      0.000       0.440       0.469\n",
      "e95edbc398975eb64a9b9d396b445669adbbb586    -0.4011      0.006    -71.091      0.000      -0.412      -0.390\n",
      "e9df02ccd91097a071ca6ea33277b736c88ae3c8    -0.0830      0.011     -7.240      0.000      -0.105      -0.061\n",
      "e9f8a9e0f5137535c6f6695b5da63333c7f67c92    -0.2783      0.008    -34.494      0.000      -0.294      -0.262\n",
      "ea8773a50f8d2a535315e9057028289a8fd3e02d     0.0274      0.015      1.775      0.076      -0.003       0.058\n",
      "eada375a4dbc87210ca2ea195deaa1dc7413729b     0.4470      0.008     55.073      0.000       0.431       0.463\n",
      "ec3086730e41038e61583da08c07a9dbeae5f35e     0.0572      0.006      8.962      0.000       0.045       0.070\n",
      "ee1c8ba564283e324c5748adc1c957d90962244d     0.0501      0.015      3.291      0.001       0.020       0.080\n",
      "ee9df52b8820e414b470c173f87d1f9191947508    -0.3818      0.005    -71.719      0.000      -0.392      -0.371\n",
      "efb40a74341dc767bea620bf1bf0104ce9d0beba     0.1180      0.009     13.161      0.000       0.100       0.136\n",
      "f0feca71d9fbb60bdabea63cb5ad6b75e3a0ca1d     0.2026      0.014     14.428      0.000       0.175       0.230\n",
      "f13cb4eff1aecd583aea9cac14b5bb11bbb022b0     0.2481      0.010     26.101      0.000       0.230       0.267\n",
      "f1ab198a6a10ad41077b49ea1b90a29b3fb68d3a    -0.6443      0.017    -38.284      0.000      -0.677      -0.611\n",
      "f23074d04da5190ae2b95814c9a366654f73ca74    -0.1169      0.019     -6.220      0.000      -0.154      -0.080\n",
      "f2dda96c0216a749dcefb7ff962aa388f5d3ae7b    -0.0258      0.009     -2.792      0.005      -0.044      -0.008\n",
      "f2fc1d050b679b69b9b9f1995aec92792b7a1407    -0.2807      0.019    -14.521      0.000      -0.319      -0.243\n",
      "f40f7c1a4acb1267c0b098bbc49cb28960bf07ba     0.1570      0.011     14.156      0.000       0.135       0.179\n",
      "f44dc84ccf754972f63d5c97cf74874b809c39ea    -0.4619      0.008    -56.232      0.000      -0.478      -0.446\n",
      "f4781db7e0d574739153110499d48aa08ab72c5b     0.1190      0.013      9.280      0.000       0.094       0.144\n",
      "f69a2a62d9093d5b2f4bb512314d5d1754b10d70    -0.5755      0.013    -43.990      0.000      -0.601      -0.550\n",
      "f6e04d5135da2b0c0767dc81e3a1c6fad371625b     0.1625      0.011     15.013      0.000       0.141       0.184\n",
      "f6f14762c3326ff771a3b3dd75c88680a52ff9bb     0.2096      0.013     16.663      0.000       0.185       0.234\n",
      "f712079737d9c9543296064f52165919f093aa88    -0.1028      0.014     -7.596      0.000      -0.129      -0.076\n",
      "f7830893dd49fe39ed52f3a9cb424ca959b5580f    -0.1737      0.019     -9.105      0.000      -0.211      -0.136\n",
      "f9893eab7863a2150c5237db07e747c41a424dca    -0.4531      0.010    -43.791      0.000      -0.473      -0.433\n",
      "fb7d1e4d3aaf8a9e4ce51301a5d15241c6c3cad7    -0.3152      0.019    -16.953      0.000      -0.352      -0.279\n",
      "fbc89d655b0bee5e28be220fd32b387c7a05a5e2     0.3318      0.012     28.754      0.000       0.309       0.354\n",
      "fc0ae5b9e0cdd41054037a6394d7bd2e6e067eef    -0.3418      0.009    -36.141      0.000      -0.360      -0.323\n",
      "fc66dfab82fdad061547aa40cdf9c33329d35928     0.0399      0.005      8.851      0.000       0.031       0.049\n",
      "fcba6c814e849d1bbe22e5d46ff473f8153c0da5     0.2636      0.009     28.170      0.000       0.245       0.282\n",
      "fcd7f19d1b99ab5e1897984c08887df30eb0449b     0.4912      0.004    112.787      0.000       0.483       0.500\n",
      "ff756eb5ea347265b69af40d828247445923f17c    -0.0699      0.011     -6.372      0.000      -0.091      -0.048\n",
      "bloom                                        6.0473      0.003   2136.145      0.000       6.042       6.053\n",
      "c0vm                                         6.4054      0.002   3533.216      0.000       6.402       6.409\n",
      "clac                                         6.0405      0.003   1739.901      0.000       6.034       6.047\n",
      "clac-exp                                     6.0118      0.003   1876.105      0.000       6.006       6.018\n",
      "doslingos                                    5.8622      0.003   1716.063      0.000       5.855       5.869\n",
      "editor                                       6.2038      0.004   1605.014      0.000       6.196       6.211\n",
      "editor-check                                 5.7194      0.006    966.032      0.000       5.708       5.731\n",
      "exam                                         6.6237      0.003   2537.143      0.000       6.619       6.629\n",
      "huffman                                      6.4514      0.003   2323.108      0.000       6.446       6.457\n",
      "images                                       6.1310      0.003   2357.284      0.000       6.126       6.136\n",
      "lightsout                                    6.4264      0.002   3014.958      0.000       6.422       6.431\n",
      "pixels                                       5.7871      0.003   1777.977      0.000       5.781       5.793\n",
      "queues                                       6.3628      0.002   2628.444      0.000       6.358       6.368\n",
      "ropes                                        6.3663      0.002   3119.423      0.000       6.362       6.370\n",
      "scavhunt                                     5.8235      0.004   1341.732      0.000       5.815       5.832\n",
      "setup (Linux)                                5.4723      0.027    199.843      0.000       5.419       5.526\n",
      "setup (Mac)                                  5.3035      0.006    905.058      0.000       5.292       5.315\n",
      "setup (Windows)                              5.3839      0.008    712.574      0.000       5.369       5.399\n",
      "speller                                      6.2297      0.003   1931.189      0.000       6.223       6.236\n",
      "strbuf                                       6.3252      0.003   2064.911      0.000       6.319       6.331\n",
      "style                                        5.3576      0.003   1677.010      0.000       5.351       5.364\n",
      "tbuf                                         6.2097      0.003   2183.751      0.000       6.204       6.215\n",
      "written                                      6.0128      0.002   3699.617      0.000       6.010       6.016\n",
      "============================================================================================================\n"
     ]
    }
   ],
   "source": [
    "print(results.summary())"
   ]
  },
  {
   "cell_type": "code",
   "execution_count": 45,
   "metadata": {},
   "outputs": [
    {
     "name": "stdout",
     "output_type": "stream",
     "text": [
      "Actual help time: 196\n",
      "Predicted help time: 752.6903499088932\n"
     ]
    }
   ],
   "source": [
    "i = random.randint(0, X_train.shape[0])\n",
    "rec = X_train.iloc[[i]]\n",
    "label = y_train.iloc[[i]]\n",
    "print(\"Actual help time: \" + str(label['HT'].values[0]))\n",
    "print(\"Predicted help time: \" + str(results.predict(rec).values[0]))"
   ]
  },
  {
   "cell_type": "markdown",
   "metadata": {},
   "source": [
    "So initially, we tried this a lot of times but did not get good results. Thats when we realized an important mistake: we did  not divide our labels into time slots and were instead trying to predict discrete time values. (A bad idea)"
   ]
  },
  {
   "cell_type": "markdown",
   "metadata": {},
   "source": [
    "### Testing the Waters with Timeslots"
   ]
  },
  {
   "cell_type": "code",
   "execution_count": 46,
   "metadata": {},
   "outputs": [
    {
     "name": "stdout",
     "output_type": "stream",
     "text": [
      "        HT\n",
      "10986  296\n",
      "8878   417\n",
      "1346   254\n",
      "2099   160\n",
      "11498  201\n",
      "       HT\n",
      "10986   2\n",
      "8878    3\n",
      "1346    2\n",
      "2099    1\n",
      "11498   1\n"
     ]
    }
   ],
   "source": [
    "timeslot = 120\n",
    "y2_train = y_train.apply(lambda x : x // timeslot)\n",
    "print(y_train.head())\n",
    "print(y2_train.head())"
   ]
  },
  {
   "cell_type": "code",
   "execution_count": 47,
   "metadata": {},
   "outputs": [],
   "source": [
    "model = sm.GLM(y2_train, X_train, family=sm.families.Poisson(statsmodels.genmod.families.links.log))\n",
    "results2 = model.fit()"
   ]
  },
  {
   "cell_type": "code",
   "execution_count": 48,
   "metadata": {},
   "outputs": [
    {
     "name": "stdout",
     "output_type": "stream",
     "text": [
      "                 Generalized Linear Model Regression Results                  \n",
      "==============================================================================\n",
      "Dep. Variable:                     HT   No. Observations:                10873\n",
      "Model:                            GLM   Df Residuals:                    10501\n",
      "Model Family:                 Poisson   Df Model:                          371\n",
      "Link Function:                    log   Scale:                             1.0\n",
      "Method:                          IRLS   Log-Likelihood:                -26945.\n",
      "Date:                Fri, 11 May 2018   Deviance:                       26857.\n",
      "Time:                        22:33:45   Pearson chi2:                 2.96e+04\n",
      "No. Iterations:                     6                                         \n",
      "============================================================================================================\n",
      "                                               coef    std err          z      P>|z|      [0.025      0.975]\n",
      "------------------------------------------------------------------------------------------------------------\n",
      "006224cb5c837901ba7551f1b8d087c3c2fcdba3     0.2534      0.090      2.825      0.005       0.078       0.429\n",
      "0067b4aeba1b08d3fe5ada6472fa8a514a079711    -0.1206      0.210     -0.574      0.566      -0.532       0.291\n",
      "00cb4d194d9203f201f0608575e0cab8e78aaf78     0.3499      0.051      6.842      0.000       0.250       0.450\n",
      "00e8f150107817ea183641d4cea292e2c42d3479    -0.3076      0.106     -2.892      0.004      -0.516      -0.099\n",
      "01b9c30a0a24f7a7b3b1e2b5ebbddff10a64159f    -0.7261      0.148     -4.892      0.000      -1.017      -0.435\n",
      "0301ce2ebf8e6acc96675078ec31915271ade772    -0.5353      0.089     -5.988      0.000      -0.710      -0.360\n",
      "0373ebbfc11248eaa87e1acb58c8712ad64c6f5f    -0.0278      0.153     -0.181      0.856      -0.329       0.273\n",
      "041d5876aff768aec01146ca1c38b41d9ff86dc5    -0.0396      0.072     -0.549      0.583      -0.181       0.102\n",
      "043f25b4402086ef46ab83c01b061911324ed320    -0.4311      0.092     -4.690      0.000      -0.611      -0.251\n",
      "04e1c1891039bac3824114bb548f6e43cb78192a    -0.2572      0.209     -1.229      0.219      -0.668       0.153\n",
      "04f58f207a7227281555136355b3808419ffab92    -0.0797      0.164     -0.487      0.627      -0.401       0.241\n",
      "050d1466a70dc5f775aedfe2a1e418142681dfa8     0.4957      0.134      3.708      0.000       0.234       0.758\n",
      "059bf44f0c6dc975e0a89dadd9ca883a4038b0cf     0.3088      0.074      4.168      0.000       0.164       0.454\n",
      "06caf76b6932f8bbe05f8cf97ed937ef8ff39093    -0.0275      0.197     -0.140      0.889      -0.414       0.359\n",
      "075bc39fa82c2304078f7a8e45bfa882a767cf25    -0.7111      0.260     -2.740      0.006      -1.220      -0.202\n",
      "07b1735b526acbe4722f9a7f8dc76de4e0c0aeea    -0.0315      0.127     -0.248      0.804      -0.280       0.217\n",
      "08020ea2213623e8b3b6f4686dbdc12bf3e1669f     0.5294      0.144      3.669      0.000       0.247       0.812\n",
      "08fe02a2fa2cbf80833c6884126b75d94ff611cd    -0.3972      0.132     -3.000      0.003      -0.657      -0.138\n",
      "097973347def5617759fb92a39aff8e6f232e2b7    -0.0174      0.118     -0.147      0.883      -0.250       0.215\n",
      "0a7f1085475e9e9287e127b43add68c90d68089f     0.1305      0.118      1.104      0.270      -0.101       0.362\n",
      "0b4c1ae362a828b876ac9ac88082161a57b3750c     0.1258      0.057      2.226      0.026       0.015       0.237\n",
      "0e0983221f481c43fd9cd9eeeb383ff28ac154ae    -0.6558      0.108     -6.078      0.000      -0.867      -0.444\n",
      "0fc22eb3424b71918aa5ec9b1987b8b3ad0223fd     0.4874      0.100      4.888      0.000       0.292       0.683\n",
      "0fd0b74e791db9f550e88985d552068317be9358     0.2634      0.136      1.932      0.053      -0.004       0.531\n",
      "0fe4cdbdfe2fe66ea6a1c0aa7f9828a668127430    -0.4472      0.224     -1.993      0.046      -0.887      -0.007\n",
      "100da17f34de60d3c2420ef5ade38e6f6a36cbd1     0.2857      0.129      2.208      0.027       0.032       0.539\n",
      "10f21890c19fea9765d49440052635eb3cac07ca     0.5676      0.149      3.817      0.000       0.276       0.859\n",
      "115fb322f24b2d2d24eef7798ac4cb0b86a6e301    -0.7415      0.219     -3.383      0.001      -1.171      -0.312\n",
      "13d5e3da748c2fe612fe731869c0f55150eb37b1    -0.6673      0.117     -5.720      0.000      -0.896      -0.439\n",
      "13f49095a84a678a942a847afe5947820ebce1a3    -0.2234      0.225     -0.992      0.321      -0.665       0.218\n",
      "166d93666d13f48ea30bc6ac47e38f5077ada39f     0.0553      0.105      0.526      0.599      -0.151       0.262\n",
      "17f9322cf35f4774749edaddda996fb621b6ed53    -0.0825      0.176     -0.470      0.638      -0.427       0.262\n",
      "1862a28eefc7f2b18c4d848332a7de7adc201509     0.2159      0.134      1.613      0.107      -0.046       0.478\n",
      "1929276614360b33610ac9c83834315b4187e042    -0.2602      0.106     -2.450      0.014      -0.468      -0.052\n",
      "19527eed4d5fc6a84971849aed1ed43691e339c6    -0.0309      0.165     -0.187      0.852      -0.355       0.293\n",
      "1b5ea13773948f4f078b0d2651731d8eba67c3cb     0.1415      0.074      1.911      0.056      -0.004       0.287\n",
      "1b8197242af753737c19e53e0bf678354926ee40    -0.9924      0.166     -5.988      0.000      -1.317      -0.668\n",
      "1c106716a0a99bba9b2e8b98371df5c6eea1b4af     0.0965      0.149      0.649      0.516      -0.195       0.388\n",
      "1c3a0ae9996ef2da3abbff59de6f368f16cdbcc7    -0.7644      0.289     -2.642      0.008      -1.331      -0.197\n",
      "1d73e18b566a00da0b06e6518938a8f19a08baed     0.1540      0.067      2.292      0.022       0.022       0.286\n",
      "1e71f0a29beb17e4924590a0bba9170aefc0e346    -0.2006      0.057     -3.529      0.000      -0.312      -0.089\n",
      "1fad85a9d2cc516e39eec39f46c459bd112e3606    -0.1270      0.128     -0.990      0.322      -0.378       0.124\n",
      "1fd5ba8553115de12d0069c95c40766d5ec2acbc    -0.8340      0.157     -5.303      0.000      -1.142      -0.526\n",
      "1fe7f219cdc2365f894d56178c6a45c6331e4c42    -0.5057      0.268     -1.887      0.059      -1.031       0.019\n",
      "210e913293696c1af8048239fe773048d1e6a01d    -0.3860      0.110     -3.493      0.000      -0.603      -0.169\n",
      "219d645628239e99950eb8ba15378a9e95e67e30     0.3078      0.101      3.037      0.002       0.109       0.506\n",
      "21ac5e86b1ae2f9156c29a4cb406eedd69e04b80    -0.0068      0.170     -0.040      0.968      -0.340       0.327\n",
      "21cb1f9adbacb7cf4bfb15085966652648310c05     0.4134      0.035     11.906      0.000       0.345       0.481\n",
      "21ea8a06b4b9a8a0e42da2ec998803e97d5948f9    -0.2325      0.205     -1.135      0.256      -0.634       0.169\n",
      "2391b47589ed212e593bc58d1d08ece77db55cdf    -0.4597      0.181     -2.541      0.011      -0.814      -0.105\n",
      "247cd1db004c629a8ad5a7d88fc75de0de7972d1    -0.3261      0.086     -3.784      0.000      -0.495      -0.157\n",
      "25ce4f97010048d7baa2ecf47446184a1c934792     0.0001      0.096      0.001      0.999      -0.188       0.188\n",
      "2673bcce2989faf2477e041c5ab7f9bac50134ae    -0.0869      0.144     -0.602      0.547      -0.370       0.196\n",
      "270d2fdab318091921a2f9940ec3ce04922d3e5d     0.0506      0.145      0.348      0.728      -0.234       0.336\n",
      "276768edb4b4457e0d3f7d4cdcdaeeb6c0414ff9    -0.9411      0.143     -6.600      0.000      -1.221      -0.662\n",
      "277a75a3bb0244dfb329763b0e015d78abe98744    -0.0219      0.197     -0.111      0.911      -0.408       0.364\n",
      "27f548c627aee06fb3628c34170ed4e1022c8f9c    -0.2909      0.201     -1.446      0.148      -0.685       0.103\n",
      "27fb688bd59677dc60d4d73de945d102e9330271    -0.0789      0.082     -0.963      0.336      -0.239       0.082\n",
      "29b01f04b8540af5dc920e524da46fb8d41ff8ee    -0.1672      0.099     -1.684      0.092      -0.362       0.027\n",
      "2a00d3f90caf7d88fa184ddebad47b9e3fb7f5a6    -0.9672      0.259     -3.730      0.000      -1.475      -0.459\n",
      "2a67ec1fb5d7181ff9454c7760deff7c6d7fc1c2     0.0985      0.080      1.228      0.220      -0.059       0.256\n",
      "2b433ff285f4e8913152d8db94952b20e263839e     0.1548      0.251      0.617      0.537      -0.337       0.647\n",
      "2b43ae46d05473a644b5307b53a84c2439477a4f    -0.2065      0.112     -1.848      0.065      -0.426       0.013\n",
      "2b527df985c4d3d4d0e06a1e969b810fadc55d8f     0.0859      0.143      0.602      0.547      -0.193       0.365\n",
      "2d35f6eddd1809a245144f6d1be3e3862d603751    -0.2363      0.166     -1.427      0.154      -0.561       0.088\n",
      "2d517df03e6f71ac84e04e7063d824e561067c2a    -0.5762      0.171     -3.377      0.001      -0.911      -0.242\n",
      "2d55ad4c9360a4b7e5fb63bffbe0b079759ddc7a    -0.8392      0.158     -5.328      0.000      -1.148      -0.530\n",
      "2d6e445ad50f65478dc179ef217e537262976c34     0.1240      0.111      1.114      0.265      -0.094       0.342\n",
      "2f1fdc7dc00bc8902a0186dfe79962538d730322    -0.0222      0.108     -0.206      0.837      -0.234       0.189\n",
      "2f60462a73646da3c350f41958c76c22856aab36     0.0794      0.149      0.534      0.593      -0.212       0.371\n",
      "30750c67a349e59cfe1af5d73f90b8422c01d9ab    -0.3184      0.093     -3.416      0.001      -0.501      -0.136\n",
      "30ad8d33a547818087547dbc0f17b76da9b20305     0.3996      0.073      5.510      0.000       0.257       0.542\n",
      "30e250d40e24d282563e686c433cb1f92fb9e47b    -0.5821      0.130     -4.469      0.000      -0.837      -0.327\n",
      "313c408d07655f9e275d897e8c1d189b3841f16d    -0.0895      0.145     -0.616      0.538      -0.374       0.195\n",
      "3142dc3fc3f941c98780e2d01a07672e897cc2d7    -0.3934      0.095     -4.159      0.000      -0.579      -0.208\n",
      "315006c2d2b2fb8c1d53c55296c1656bf2a6c88a    -0.3886      0.170     -2.281      0.023      -0.723      -0.055\n",
      "31c06a4d1d0c604dcf240d43dd0d364ed21a3869    -0.3790      0.079     -4.773      0.000      -0.535      -0.223\n",
      "31e68be39133fc9659fa1496e34bece63ec531f3     0.0093      0.109      0.085      0.932      -0.204       0.223\n",
      "322343b384ea6068479757efb5af834d0c6a548c    -0.0405      0.130     -0.311      0.756      -0.296       0.215\n",
      "3247ddcb13d38bc31852f16561c8301da3ed952e    -0.7262      0.170     -4.273      0.000      -1.059      -0.393\n",
      "3296db96d489d60dda39539deaeedb29884cfd3c    -0.3197      0.109     -2.929      0.003      -0.534      -0.106\n",
      "3338e35e1020feb5582e8cc9fd5cde5bdaefaf12    -0.7569      0.197     -3.843      0.000      -1.143      -0.371\n",
      "333ed3cf5d361856231657346e347becbf5c858d     0.2631      0.113      2.323      0.020       0.041       0.485\n",
      "33573dcedddbc5924f4fc0c16db8b901fd1c8286    -0.3774      0.133     -2.846      0.004      -0.637      -0.117\n",
      "355e8ac270cada6d77c0f5ac46759d16bb09083f    -0.1736      0.121     -1.440      0.150      -0.410       0.063\n",
      "36f03b7ced0983db72f45f73dc9757efed3c9158     0.4478      0.096      4.646      0.000       0.259       0.637\n",
      "37f0f51c57e6e33fa548ddbc3efb9f94111bbc79    -0.0278      0.193     -0.144      0.886      -0.407       0.351\n",
      "38040bd8b3683d0ad005c809de49cb1036103acc    -0.1384      0.135     -1.025      0.305      -0.403       0.126\n",
      "3847d9296290790cf7d189c89974fc38a5437e79     0.0052      0.139      0.038      0.970      -0.266       0.277\n",
      "384b70398d58b640fec183934f85a06a18cb7fe4    -0.4137      0.125     -3.303      0.001      -0.659      -0.168\n",
      "39336da3a02c026b0c12605951c433d870e4e021     0.1452      0.065      2.244      0.025       0.018       0.272\n",
      "3b6802bc37f49ff50b654b694684d905625d54d3    -0.0161      0.175     -0.092      0.927      -0.360       0.327\n",
      "3bc93de5ca33ec17c0541244b7b47a13c0cc63ef     0.2423      0.074      3.283      0.001       0.098       0.387\n",
      "3c5b93c63599c4a3b7a72901271aa7fdd75c1df1     0.2740      0.089      3.074      0.002       0.099       0.449\n",
      "3d6aa4ff3b4286cdc215c73d79b584df1a777a96    -0.1419      0.070     -2.041      0.041      -0.278      -0.006\n",
      "3e02642b9fe7058bfc194716f70ad79ffebfc730     0.0572      0.067      0.855      0.393      -0.074       0.188\n",
      "3e236fb0e2c1fbd7140c029ca6ba44a831775256    -0.4883      0.070     -6.989      0.000      -0.625      -0.351\n",
      "3e30a8ed7e03f141c9b2a38efdb9686806dd79db    -0.3744      0.206     -1.821      0.069      -0.777       0.029\n",
      "40ad830a60baf6e374a0806135957ca5daa3f7ca    -0.2355      0.053     -4.435      0.000      -0.340      -0.131\n",
      "41f24f752535dc071b4bec92e4468cce97b3f168     0.0121      0.103      0.118      0.906      -0.189       0.213\n",
      "42064e9a9e14378becee617103935efa96a49a8d    -0.0075      0.214     -0.035      0.972      -0.427       0.412\n",
      "4264d8a93ff4fef8edfecda38ca9676a82f2d3ba    -0.5258      0.230     -2.285      0.022      -0.977      -0.075\n",
      "426f54cb4499db2583a17a81c21407a1b2124893    -0.5044      0.251     -2.010      0.044      -0.996      -0.013\n",
      "42abaaac0640eee186f066e7f7d3ec65d8705694     0.0083      0.147      0.056      0.955      -0.280       0.297\n",
      "42dd696b29be78e44ae82bd91bf22bfb8cbdd28b    -0.0312      0.104     -0.301      0.763      -0.235       0.172\n",
      "43a1d7e6da0880f78247d715baaa1cf118389b1d    -0.0274      0.084     -0.325      0.745      -0.193       0.138\n",
      "449bb2b2082df349ab4a682a363e7c47a549791b    -1.0529      0.230     -4.575      0.000      -1.504      -0.602\n",
      "46c2195d9ce7bb05fd488d2f5d15b979ff3310eb    -0.4258      0.173     -2.460      0.014      -0.765      -0.087\n",
      "47095acef2fd17eafc5721692bf06a81add83cbb     0.1144      0.073      1.573      0.116      -0.028       0.257\n",
      "47ca0647afccdfc90230abfef6a10e3ae6087cb8    -0.7294      0.131     -5.553      0.000      -0.987      -0.472\n",
      "47e1f2010f648690070c3aec63dd23a467f5536b     0.2823      0.074      3.800      0.000       0.137       0.428\n",
      "48a2500d227c5a06e58b19cabf24f3b17afa85e4     0.4365      0.074      5.866      0.000       0.291       0.582\n",
      "48fbe0c7fd1ef3317ae558c0e46ae2fc290640c1     0.1883      0.081      2.329      0.020       0.030       0.347\n",
      "492333bcb6b4257abd4e8b1d5a4b76e91ee75f0a     0.6526      0.184      3.551      0.000       0.292       1.013\n",
      "4971eeff66a31cab39d56c0ac0fe1c348bc04c6c     0.0692      0.112      0.619      0.536      -0.150       0.288\n",
      "49aa1eaed3a29e56d385c6d1b2d9fbabf6cbc11f    -0.1931      0.087     -2.232      0.026      -0.363      -0.024\n",
      "4a45c4de3aecc0089f12f401c1ffac6b0d94506e     0.5028      0.159      3.157      0.002       0.191       0.815\n",
      "4c2182cf9d2ac00fb8ce8fceb3ec852eb9ac441c    -0.3525      0.230     -1.532      0.126      -0.803       0.098\n",
      "4c408220b16483f4c7aefbd40bceccc399c42817    -0.2307      0.157     -1.465      0.143      -0.539       0.078\n",
      "4d95d05ec29ea5d581c21166810342e51807242d    -0.6256      0.205     -3.053      0.002      -1.027      -0.224\n",
      "4da4eacb00b805713edf2c67860c9b5a6fb53b24     0.3265      0.059      5.533      0.000       0.211       0.442\n",
      "4e7054288040b6712e858f9153769bcc5ab6d19c    -0.1147      0.121     -0.949      0.343      -0.352       0.122\n",
      "4e91b67af0b399db887b7b186c6437e92190db66    -0.3049      0.076     -3.993      0.000      -0.455      -0.155\n",
      "4fea534d79da5cecc4be81aa689e5fd8662f7d07     0.6680      0.123      5.444      0.000       0.428       0.909\n",
      "4ff2013af51f271aa2294f536d934cfe5778679f    -0.3246      0.110     -2.957      0.003      -0.540      -0.109\n",
      "51eef7ce297b546b888391e74166e53be9563aac     0.0979      0.094      1.038      0.299      -0.087       0.283\n",
      "5573b626d831e5339408f2d947ca1790550dccf8     0.6866      0.130      5.262      0.000       0.431       0.942\n",
      "563adbdaa4a9620648b079483d6867382de9bd84     0.5818      0.197      2.952      0.003       0.196       0.968\n",
      "5660915b416b110d3125eddaf15d004c09f2dcf9    -1.0984      0.093    -11.838      0.000      -1.280      -0.917\n",
      "56a38d1000e34a968e618dc6e64908807ac8fc2e    -0.9322      0.237     -3.941      0.000      -1.396      -0.469\n",
      "575fca6254c8980f71e534de68c86c2d3f8fd004    -0.4333      0.178     -2.438      0.015      -0.782      -0.085\n",
      "57c2fcd817b3483e5b1f8ea7feb59c4fd2a6af0a     0.0466      0.105      0.442      0.658      -0.160       0.253\n",
      "580bfddeea5ee95f5e777e663f82f34bee03e651    -0.1866      0.150     -1.243      0.214      -0.481       0.108\n",
      "581eee7050c54e3c5f442a9c8c5f2722a6fbe0a2    -0.5727      0.094     -6.099      0.000      -0.757      -0.389\n",
      "58a4104a868305e40cd6f5aab23f0caad3f655ad    -0.0826      0.216     -0.383      0.702      -0.505       0.340\n",
      "590644fec550ce235ce0bf7a24bbfb7a2c536f4e    -0.2035      0.219     -0.929      0.353      -0.633       0.226\n",
      "59d8475e437f4eb54794b6a11a271a8d12beec7b    -0.0217      0.166     -0.131      0.896      -0.347       0.303\n",
      "59e157632260cb73a713bbeb1ded3b7ea0fc3a07     0.3417      0.063      5.431      0.000       0.218       0.465\n",
      "5a16be629064e57edec1840f1e5fa23f750bd01d    -0.7930      0.268     -2.960      0.003      -1.318      -0.268\n",
      "5b339c2a7cff47dd2041d241acad97418cf20b6d     0.0780      0.139      0.561      0.575      -0.195       0.351\n",
      "5bc97e2e81c49356cc716e20517b7c64b3008c8d    -0.0184      0.190     -0.097      0.923      -0.391       0.354\n",
      "5f42be54b640055ce2ced08e9fe012927b72fc16    -0.2437      0.172     -1.414      0.157      -0.581       0.094\n",
      "5f60008ae16fc614cab06927b0dea2377c198dc2     0.0984      0.116      0.848      0.396      -0.129       0.326\n",
      "5ff5e0307bea0fa7bad712f60649b13fc8187bb1     0.1083      0.124      0.877      0.381      -0.134       0.350\n",
      "628fdbfc9b05860953ea4ef7c0749e66ad1329df    -0.3890      0.209     -1.857      0.063      -0.799       0.022\n",
      "62f9a90d15775a44e6c5898c1f5dabdc55193d6f     0.4483      0.117      3.836      0.000       0.219       0.677\n",
      "63caea29f0c23d186273efd85721e58288f82130    -0.0336      0.061     -0.547      0.584      -0.154       0.087\n",
      "653285a988ffcf8b845aad2381fe8108abee4081     0.2516      0.157      1.601      0.109      -0.056       0.560\n",
      "656e7c9ff49ddc42d04fa3b3301f1b711fdbc855     0.0963      0.070      1.369      0.171      -0.042       0.234\n",
      "6610023792163716e8d302ddd50a38c2bdfdf1d7     0.0583      0.108      0.540      0.589      -0.153       0.270\n",
      "664aaf8d52e1654b54408d23b2276d9171d19a9b     0.1843      0.071      2.593      0.010       0.045       0.324\n",
      "67a87b244c9fbf50006ad301e7340d7e70a7fcb8    -0.2756      0.178     -1.550      0.121      -0.624       0.073\n",
      "68310824f4d9e2d9e888a4c00a2d2c05057786e6    -0.0370      0.130     -0.284      0.776      -0.292       0.218\n",
      "6945099e0f9cf384a32a2674fcd0a31361247f23     0.0499      0.187      0.267      0.789      -0.316       0.416\n",
      "6ab1a2443068dae41c502d2d5f786d812b272ea1     0.0580      0.133      0.436      0.663      -0.203       0.319\n",
      "6b76b0a17c0280e67db38b5473229ee2520e398d     0.5042      0.154      3.284      0.001       0.203       0.805\n",
      "6b8fbe72c62315b5262975984ea3a513f1c26497    -0.4788      0.201     -2.385      0.017      -0.872      -0.085\n",
      "6c76f2af59d3eeafe4eb8ef19531391b9e25115a    -0.1647      0.116     -1.420      0.156      -0.392       0.063\n",
      "6cf75327f5f8b23b19dec4917d533e76b23e15cc    -0.4260      0.141     -3.015      0.003      -0.703      -0.149\n",
      "6d4d5cd1b52184b97491adb1655b9181a7bab19b    -0.1652      0.118     -1.395      0.163      -0.397       0.067\n",
      "6f08a7f53cc94c199618278f3bf47146912843b6     0.0414      0.139      0.298      0.765      -0.230       0.313\n",
      "7055453cf94056f98ffc291299d56e417f0c3b14    -1.3772      0.334     -4.123      0.000      -2.032      -0.722\n",
      "71da11206ef6c10b692e263240d7fbbd60d87fc6    -0.0689      0.220     -0.313      0.754      -0.500       0.362\n",
      "7352ff7ca7cb4d9e7c841332aaae0765f1243005    -0.4541      0.170     -2.674      0.008      -0.787      -0.121\n",
      "7440b6c752206a2c301485231f351d6a888b0add     0.0640      0.197      0.324      0.746      -0.323       0.451\n",
      "76b666ff15995a70a41331f061850ee82294c43a     0.1413      0.202      0.701      0.483      -0.254       0.537\n",
      "76c468d5cd44912cd75638eb6c51d0cc9719fc16    -0.1089      0.097     -1.120      0.263      -0.299       0.082\n",
      "773f5f725a8f8c491d73539ad76c752d9457993b     0.4321      0.049      8.898      0.000       0.337       0.527\n",
      "7754767892b082c0d16b457e2ffe303de439c131     0.3948      0.197      2.002      0.045       0.008       0.781\n",
      "7938be65cd2c79192b13e9d8716d65db29ad75df    -0.5849      0.251     -2.332      0.020      -1.077      -0.093\n",
      "7a3ff1726a9e59878e74b78b612e705ba388f35c    -0.0833      0.072     -1.165      0.244      -0.223       0.057\n",
      "7a8f5bf354658dde241106286ad21cf57e74f017    -0.4197      0.105     -4.015      0.000      -0.625      -0.215\n",
      "7b5f28d89687bc1df89e901219eda1cb40f939ef     0.0371      0.145      0.256      0.798      -0.248       0.322\n",
      "7da5e32e0017fb0c502ef47960f523dc8d525e31    -0.3965      0.178     -2.228      0.026      -0.745      -0.048\n",
      "7df0b64e9fd9debcd0f901590a02051c38a642a7    -0.6081      0.251     -2.421      0.015      -1.100      -0.116\n",
      "7f016e1d4fdc455735937f4f4a531457322004bf    -0.1830      0.179     -1.022      0.307      -0.534       0.168\n",
      "7f7bd56ff08cbb5411feb5c4e98529a35ce2415d     0.3135      0.129      2.436      0.015       0.061       0.566\n",
      "7f8f2d9019551c367d3c764b2a5198d84ba90517    -0.5700      0.148     -3.840      0.000      -0.861      -0.279\n",
      "803decb3ca5868e7a7413f7c6dbb4fb256f61c51     0.0921      0.086      1.077      0.282      -0.076       0.260\n",
      "8062624b2a0e63429aec70cb1f934fee704435ef    -1.3223      0.579     -2.286      0.022      -2.456      -0.188\n",
      "8098b7df9506a418f44cbf339a82d59f8c4b0391     0.7293      0.093      7.856      0.000       0.547       0.911\n",
      "81e1a611a108f1e2d531b94b3f4cf0dd4c7fb930     0.0014      0.085      0.017      0.986      -0.164       0.167\n",
      "81e6820d262d74bae6968f1d5326f2afd2f6bb66     0.4561      0.097      4.714      0.000       0.266       0.646\n",
      "81e877faf250aa3c2fc7ed90be433dc11b9513a3    -0.7900      0.260     -3.043      0.002      -1.299      -0.281\n",
      "8272305d124e80ee83a0009b7406456d5d520ba8    -0.6118      0.243     -2.513      0.012      -1.089      -0.135\n",
      "82f266f7ceb05c52bf2bc89f4b1455523f1cc7f5     0.2452      0.111      2.202      0.028       0.027       0.463\n",
      "83b396eee89bd80cbb021f119efbffb22fb1867d     0.1061      0.111      0.959      0.337      -0.111       0.323\n",
      "849f2df0747aebb29ee76fd70eb75c74ee681778    -0.5344      0.118     -4.512      0.000      -0.767      -0.302\n",
      "8593cedd0de7aaca29bc3f5d509e4f1770a1bdc4     0.3663      0.076      4.839      0.000       0.218       0.515\n",
      "867d5758e905586d2d1650e70f91bb0c4b310533     0.1243      0.093      1.343      0.179      -0.057       0.306\n",
      "8696809cc621a57e997a3a349a72d26fb56bfea6    -0.4513      0.138     -3.260      0.001      -0.723      -0.180\n",
      "87037400ecb4fd5e0ecf0096947803bd2b7b9a10    -0.2572      0.193     -1.331      0.183      -0.636       0.121\n",
      "8a5346d573517fecd831becd37c5538c170bf368     0.4211      0.141      2.980      0.003       0.144       0.698\n",
      "8b0e30464f484ee586865d461703010ea966e707     0.2366      0.079      3.006      0.003       0.082       0.391\n",
      "8c023ae13a70ffa4826606ece75a2928fc61dd16    -0.1332      0.126     -1.054      0.292      -0.381       0.114\n",
      "8d52f28edcb04652e633cd593d5c37289638f746    -0.2086      0.123     -1.700      0.089      -0.449       0.032\n",
      "8d5e79990881fe4be9b70ea301f860c42bbd20cc    -0.4066      0.197     -2.062      0.039      -0.793      -0.020\n",
      "8dbb2526e3f8a4efc609454044518860b7f1ddd1     0.7063      0.075      9.371      0.000       0.559       0.854\n",
      "8ed639b0c8ae8edfb51645e089226478b7a13ba5    -0.3307      0.138     -2.402      0.016      -0.601      -0.061\n",
      "8f7a073dd44a92f0cedc517309b006634c43c5ad    -0.4877      0.224     -2.175      0.030      -0.927      -0.048\n",
      "90d6c6bf0521dbc1cf763a2178a71b0de84e833e     0.0626      0.147      0.424      0.671      -0.226       0.351\n",
      "91357c46a192cd532c97ffd3a99fdc18d65a497a    -0.1248      0.155     -0.804      0.422      -0.429       0.179\n",
      "915399dcefbadc7a7e56b1421018fab2da5f2482     0.4352      0.130      3.341      0.001       0.180       0.691\n",
      "915c4101b071bd566dfb0920e32aef3273abf773     0.0243      0.166      0.146      0.884      -0.301       0.349\n",
      "91e1c8bd7117dfd8c86a0b442beea4ed70923643     0.4790      0.082      5.853      0.000       0.319       0.639\n",
      "92292bc8465dd87c634d8a64a75407af742652f3    -0.2928      0.190     -1.542      0.123      -0.665       0.079\n",
      "92e0730924f4a1082e5c2760438bfc13d2065d2d     0.6440      0.145      4.428      0.000       0.359       0.929\n",
      "93764dbd3290c27576b388b0e8a51e3bd1345f9c    -0.2735      0.140     -1.950      0.051      -0.548       0.001\n",
      "9402246e9b175e16c3637c85eed01fb6d341193d    -0.2124      0.102     -2.085      0.037      -0.412      -0.013\n",
      "9552e74bcf06aaccfc4ac863c57ac0c8040d7640    -0.5657      0.059     -9.605      0.000      -0.681      -0.450\n",
      "95858c4cb9d93eef6a2463b657b037d5048966cf     0.0217      0.094      0.230      0.818      -0.163       0.206\n",
      "963ea0569d2afed71716cc0f3ad5d79b3912027b    -0.1077      0.135     -0.796      0.426      -0.373       0.157\n",
      "9641cfd54915b40ee1a83fc5e7caa0e75fa7ecae    -0.4285      0.075     -5.684      0.000      -0.576      -0.281\n",
      "972a2615f00f45be69a0a56fcb76713fd2fc3dd1     0.2049      0.072      2.855      0.004       0.064       0.346\n",
      "975c415fb97778a8d564634e18e1cbb6ce5cbd9f    -0.3376      0.161     -2.093      0.036      -0.654      -0.022\n",
      "97c1dad684d894c38237c91176b2ca5c490feedf    -0.3651      0.209     -1.744      0.081      -0.775       0.045\n",
      "984cb063745ed978785516d79167329f62ddb1da     0.6037      0.069      8.715      0.000       0.468       0.740\n",
      "9968a51f274e661affdd90dfee5282bd734b70c7    -0.2350      0.163     -1.440      0.150      -0.555       0.085\n",
      "9983f5fa63a848aefff3dd354e5bfd89d8903c05     0.4631      0.066      7.025      0.000       0.334       0.592\n",
      "9a74b50212290bec369a19a0c66dcf473e619429    -1.0516      0.243     -4.325      0.000      -1.528      -0.575\n",
      "9a7869df9eae678099a5328f06f85298246923ed    -0.0352      0.133     -0.266      0.790      -0.295       0.225\n",
      "9af33cc369b031fb335f04660b1207915496e40f    -0.6746      0.088     -7.694      0.000      -0.846      -0.503\n",
      "9bf345f89e209ba0c0cf5ffb6a450669fdc96910    -0.6914      0.165     -4.179      0.000      -1.016      -0.367\n",
      "9d8bae8b2e979663cc0ecd6e78d64378c835507c    -0.5448      0.094     -5.770      0.000      -0.730      -0.360\n",
      "9ddb09b95dc9160bb16e5cb9c5b575f71f426927     0.2722      0.067      4.054      0.000       0.141       0.404\n",
      "9e323fc7eb1998a0eb5b130bfa8950fc8f6211f4     0.7731      0.101      7.642      0.000       0.575       0.971\n",
      "a09211e7154c75063976d4cb552c1408c7698729    -0.4523      0.143     -3.155      0.002      -0.733      -0.171\n",
      "a096c854b584f07f3f48896287679fc3cbcbe02a    -0.2365      0.166     -1.429      0.153      -0.561       0.088\n",
      "a1eecba00a0b2acc8070df8b98cfd93a0dee5fd3     0.5342      0.072      7.380      0.000       0.392       0.676\n",
      "a2aae1d4eaf2ddb857668f91c40333aacd1780b9    -0.0001      0.077     -0.002      0.999      -0.150       0.150\n",
      "a321b778e1858698be151af2c7652733bcc1e28a    -0.4301      0.102     -4.222      0.000      -0.630      -0.230\n",
      "a34e6dcd71b7cbd85572e920a11dd05fc0223b8c     0.1763      0.058      3.062      0.002       0.063       0.289\n",
      "a397140013b2537852fb4d2a803eac27a0438df4    -0.8560      0.209     -4.090      0.000      -1.266      -0.446\n",
      "a3f510a0ce644d8f47bb5f43c5c66a74f8caf5d6    -0.3045      0.103     -2.967      0.003      -0.506      -0.103\n",
      "a546ca7aef9685e22698350cbac5da70bb03b2af    -0.4591      0.231     -1.989      0.047      -0.912      -0.007\n",
      "a5db86c0062957e03fc1f1150833603acb7f7762     0.3889      0.078      5.005      0.000       0.237       0.541\n",
      "a5fd656a67818e1eecab3af45509cc0ff46822fd     0.5043      0.136      3.702      0.000       0.237       0.771\n",
      "a8aa1562664dd51661ffdc8e3a7eab08c503b21d    -0.5694      0.187     -3.051      0.002      -0.935      -0.204\n",
      "a8dcb8dcd76d16187f2817a3a9c299776b2257cb    -0.0656      0.148     -0.442      0.658      -0.356       0.225\n",
      "aac8a77c368168fec6ae74ebf03ca0acd9752819    -0.3592      0.175     -2.053      0.040      -0.702      -0.016\n",
      "aad0a41753cc2b7c4f2e44b830cc4572cc15218a    -0.2709      0.237     -1.143      0.253      -0.735       0.194\n",
      "ab3bc670c4cc6e81bf96e8f14e65bdd0b72aca0b    -0.4679      0.133     -3.531      0.000      -0.728      -0.208\n",
      "ac4994ec0910f62695bd3eb25f1987af03568f21    -0.6038      0.137     -4.415      0.000      -0.872      -0.336\n",
      "ac8af5454f7d9abbd2615da5bbf0734314583cb3     0.2515      0.117      2.155      0.031       0.023       0.480\n",
      "ad36a7bdf2f2d8947fd30b607ee75936b107f028    -0.1569      0.125     -1.253      0.210      -0.402       0.088\n",
      "ad696e0bc59b73219456b01a4324b333824f9e04    -0.7020      0.251     -2.800      0.005      -1.193      -0.211\n",
      "adef72ffeefe14666adb798230eff8abe9e5ffdb    -0.1007      0.095     -1.065      0.287      -0.286       0.085\n",
      "ae0e49a9e50fa38c65f0a09a503b0827a2131947    -0.0528      0.067     -0.786      0.432      -0.184       0.079\n",
      "ae80ee5278d3573dadc91bbe3a1d9f66e79768dc    -0.1061      0.193     -0.549      0.583      -0.485       0.273\n",
      "aeb6435e58f2359bf9420c8249789e02b27dfacb     0.3288      0.150      2.187      0.029       0.034       0.623\n",
      "b12363c2697652e975586f056c9ead4fa918ab1e    -0.0164      0.096     -0.171      0.864      -0.204       0.171\n",
      "b206d4676c0614f8cfce8ed5a726f193b6c10382    -0.2604      0.097     -2.685      0.007      -0.450      -0.070\n",
      "b234a5a065b24b550614b3272b7962ab8a71698d    -0.5233      0.123     -4.264      0.000      -0.764      -0.283\n",
      "b3410512fdbf24a6ab4ee26c44d72942f29d7054    -0.4510      0.058     -7.807      0.000      -0.564      -0.338\n",
      "b6b66650176b28b41a2ccc6e17f80fe34089d1e3     0.1469      0.132      1.117      0.264      -0.111       0.405\n",
      "b80f208a662b4436a75432b323ab12a5deae5315    -0.4456      0.224     -1.986      0.047      -0.885      -0.006\n",
      "b893f6b076eb0b3fc42ae9187ff5e91488715462    -0.5242      0.197     -2.660      0.008      -0.910      -0.138\n",
      "b90a99b0cd1128060cd80bbd1a17746e08b2b04a     0.5325      0.073      7.323      0.000       0.390       0.675\n",
      "b94f8abee597235b3295f127dcce8027bd6a3510     0.1191      0.050      2.371      0.018       0.021       0.218\n",
      "ba2323c9590875cf01c2debe21a8e2bed17614ae    -0.6151      0.159     -3.859      0.000      -0.928      -0.303\n",
      "bb18b735d6a628bf23adec769b2f33c994761ca2    -0.0169      0.147     -0.115      0.908      -0.305       0.271\n",
      "bb5e7d6c093642e31f8e68f43773e06c79f0e51c    -0.8664      0.168     -5.170      0.000      -1.195      -0.538\n",
      "bea9a9855ee488d7c4d5a8882adca2146bb7fa0e     0.0320      0.201      0.159      0.874      -0.363       0.427\n",
      "bff0bbef06c2234dc1d5f77d8722849a40a51e73    -0.2703      0.219     -1.233      0.218      -0.700       0.159\n",
      "c05d21bbe9c01fa10dfc6d6255c3e8fdeceb7127     0.5884      0.096      6.154      0.000       0.401       0.776\n",
      "c0cbeefd2eb33fcca5ea17601bbe0597f8e2eb08    -0.1284      0.170     -0.755      0.450      -0.462       0.205\n",
      "c18c10d143fea7f55401c71f7a1f685fc248ea86    -0.1530      0.210     -0.729      0.466      -0.565       0.259\n",
      "c2026557bd28135abbdbf9998bd8f18c2f128a77     0.1775      0.105      1.684      0.092      -0.029       0.384\n",
      "c472b0aad7dd89e1698360c24f9d5bf1760c34a4    -0.4625      0.214     -2.161      0.031      -0.882      -0.043\n",
      "c491c56420a39042d7211ad43d120919312026e7    -0.0610      0.099     -0.615      0.539      -0.255       0.133\n",
      "c58c8f96fcd00472acdf4a1ab059f9aad91eb7ef    -1.5214      0.334     -4.556      0.000      -2.176      -0.867\n",
      "c59a787616be48bffa7d6dd2286d644205f7ae3d     0.1388      0.278      0.499      0.618      -0.407       0.684\n",
      "c5ae5840e837e1637590ef1e57ca0cba5cf35fab    -0.0328      0.100     -0.329      0.742      -0.228       0.163\n",
      "c7c0a3097c0d7f0550dbfd2704257418d93bbaf1     0.1433      0.101      1.414      0.157      -0.055       0.342\n",
      "c857da256ff22bd4f6506047c8e0ca3f7b9bff3b    -0.3484      0.106     -3.272      0.001      -0.557      -0.140\n",
      "ca153e9263a1e638b79522999eda86fbba848339    -0.8371      0.197     -4.253      0.000      -1.223      -0.451\n",
      "cad652bbf9947ad4acc334acdabbe88905584e4d    -0.3933      0.157     -2.499      0.012      -0.702      -0.085\n",
      "cb9a833a2d7d2753589877b74a82744a3bde0cd9    -0.5614      0.186     -3.011      0.003      -0.927      -0.196\n",
      "cbfc2ad6a0e7caf204ffaa3fa3fb79e160158855     0.2408      0.205      1.174      0.240      -0.161       0.643\n",
      "cdc4e15452a01b07fa15d7289e3ffbbed3e0ed8f     0.1753      0.074      2.368      0.018       0.030       0.320\n",
      "ce232f0ab834bd7e3ae1a44cbbbe04257250c87c     0.3672      0.101      3.636      0.000       0.169       0.565\n",
      "cec70327954cf33522d07d72eb76d62f1fe13e78     0.8496      0.139      6.122      0.000       0.578       1.122\n",
      "cee7af469b8ba846c49318f3a4068563cf3dd05b     0.1549      0.139      1.118      0.264      -0.117       0.426\n",
      "cef638b49e1b4018f5678e726c449929c08e3ee6    -0.2526      0.130     -1.939      0.052      -0.508       0.003\n",
      "cf5913ec250ca38f1367dcdaf20425636bdca082    -0.1842      0.107     -1.714      0.087      -0.395       0.026\n",
      "d10dd724825291d9244ca25610172432542c741d    -0.1303      0.178     -0.732      0.464      -0.479       0.219\n",
      "d15a1896a3de599389f0dd7adbf343b2eb530b8a    -0.3502      0.140     -2.504      0.012      -0.624      -0.076\n",
      "d19c913f78a9be3c1bf1cd7cdda3199027aced29     0.2082      0.176      1.186      0.236      -0.136       0.552\n",
      "d1b7f8c5b8722e228fbe31695cb044b541f2f227    -2.5893      0.707     -3.660      0.000      -3.976      -1.203\n",
      "d3a16dae731076229d9f44b1e84fcf74695c8aca    -0.8829      0.173     -5.116      0.000      -1.221      -0.545\n",
      "d40b370026cdc5658409b7f2576d00dac432bb20    -0.0007      0.168     -0.004      0.997      -0.330       0.328\n",
      "d539a57bf8b8ce9da4ff837951ddf00600617213    -0.3236      0.122     -2.642      0.008      -0.564      -0.084\n",
      "d79a59d8495ec1a94057488f50ccd5e7c37a0489    -0.1761      0.088     -2.002      0.045      -0.349      -0.004\n",
      "d826d72a54b4f55d113d9ea50a823b36c13a7fbc    -0.3045      0.187     -1.632      0.103      -0.670       0.061\n",
      "d8d3b7acffdec28e930f9069e3be6a6edf402167    -0.4085      0.214     -1.909      0.056      -0.828       0.011\n",
      "d905a8320cc784535f84b66c8bae4c8b870fcf8f     0.2162      0.094      2.307      0.021       0.032       0.400\n",
      "d9a98666339e7f6dadd0f6935460cb04d85163a5    -0.7289      0.219     -3.327      0.001      -1.158      -0.300\n",
      "da55d310d2dacac4915e5e5560fd260d68bf4a54    -0.3392      0.103     -3.293      0.001      -0.541      -0.137\n",
      "dd6d90e48bce2e5ad0adb3f594a864a69ed71291    -0.0261      0.105     -0.248      0.804      -0.232       0.180\n",
      "ddb6ed217a03b71b9051f86b74dc0d75965c7225     0.2315      0.161      1.435      0.151      -0.085       0.548\n",
      "ddecaeb35b0ebd41e5636f6e4c2fda182705ecd5     0.1210      0.078      1.546      0.122      -0.032       0.274\n",
      "de10039b521331ccf9fc13de304b18ed64d40a3b     0.4047      0.073      5.544      0.000       0.262       0.548\n",
      "de12906e0db36d2e4bbc1c5ff90414836ec64fd0     0.5112      0.141      3.634      0.000       0.235       0.787\n",
      "de7949ad59a95e3a509a3b42c45d8f6f76b73952     0.0557      0.141      0.395      0.693      -0.221       0.332\n",
      "df47bcaba9551482dfc8ef430d05ecbd0b9673be    -0.0651      0.110     -0.593      0.553      -0.280       0.150\n",
      "df49403aec05b3350597a2e9d724a0270fbaa7bb    -1.2574      0.268     -4.694      0.000      -1.782      -0.732\n",
      "df790bd15f8c8cf554782c311601498a590ce0d1    -0.0846      0.173     -0.490      0.624      -0.423       0.254\n",
      "e010ecae51bb3c407e56dd2f200d71af58fc6f07     0.6994      0.145      4.807      0.000       0.414       0.985\n",
      "e1659ed921375627c30b7d53cecc63d0df309064    -0.0881      0.116     -0.758      0.448      -0.316       0.140\n",
      "e3ff7f7a5cdf6d7a096d0fc3f5d137ff69f59bef    -0.0670      0.175     -0.383      0.702      -0.410       0.276\n",
      "e49b2ae619e18e50adeb21199a974e01ef468580    -0.5647      0.186     -3.028      0.002      -0.930      -0.199\n",
      "e56ff8ec62ca5873b5b7eb1f1cbdf0d8a1875306     0.1128      0.091      1.241      0.215      -0.065       0.291\n",
      "e66507266a0bbc94eeb885e7fd7324a9c4cce1d3     0.3100      0.120      2.584      0.010       0.075       0.545\n",
      "e740b05973b3001388429e166c9bf301ea43dfc2    -0.3329      0.071     -4.722      0.000      -0.471      -0.195\n",
      "e7685ebac46af7caddac9e8cbbad7d5c7005de9d    -0.0404      0.173     -0.234      0.815      -0.379       0.299\n",
      "e7b846a5ec1fad720b7a3669bb6fdc8896c422fe    -0.4740      0.135     -3.516      0.000      -0.738      -0.210\n",
      "e8a6af1314e59a3e871fd865833dfd44eaed7002    -0.6499      0.143     -4.557      0.000      -0.929      -0.370\n",
      "e8c9039d3beefa84a0df078d109da01318ec206e     0.5081      0.083      6.131      0.000       0.346       0.671\n",
      "e95edbc398975eb64a9b9d396b445669adbbb586    -0.4797      0.068     -7.049      0.000      -0.613      -0.346\n",
      "e9df02ccd91097a071ca6ea33277b736c88ae3c8    -0.0964      0.133     -0.725      0.469      -0.357       0.164\n",
      "e9f8a9e0f5137535c6f6695b5da63333c7f67c92    -0.2932      0.095     -3.095      0.002      -0.479      -0.108\n",
      "ea8773a50f8d2a535315e9057028289a8fd3e02d     0.0580      0.175      0.331      0.741      -0.285       0.401\n",
      "eada375a4dbc87210ca2ea195deaa1dc7413729b     0.4852      0.092      5.268      0.000       0.305       0.666\n",
      "ec3086730e41038e61583da08c07a9dbeae5f35e     0.0866      0.073      1.179      0.238      -0.057       0.231\n",
      "ee1c8ba564283e324c5748adc1c957d90962244d     0.0620      0.178      0.349      0.727      -0.287       0.411\n",
      "ee9df52b8820e414b470c173f87d1f9191947508    -0.4613      0.065     -7.126      0.000      -0.588      -0.334\n",
      "efb40a74341dc767bea620bf1bf0104ce9d0beba     0.1669      0.102      1.629      0.103      -0.034       0.368\n",
      "f0feca71d9fbb60bdabea63cb5ad6b75e3a0ca1d     0.2461      0.161      1.527      0.127      -0.070       0.562\n",
      "f13cb4eff1aecd583aea9cac14b5bb11bbb022b0     0.2823      0.111      2.538      0.011       0.064       0.500\n",
      "f1ab198a6a10ad41077b49ea1b90a29b3fb68d3a    -0.7923      0.214     -3.703      0.000      -1.212      -0.373\n",
      "f23074d04da5190ae2b95814c9a366654f73ca74    -0.1272      0.225     -0.564      0.573      -0.569       0.315\n",
      "f2dda96c0216a749dcefb7ff962aa388f5d3ae7b    -0.0539      0.109     -0.496      0.620      -0.267       0.159\n",
      "f2fc1d050b679b69b9b9f1995aec92792b7a1407    -0.3578      0.236     -1.514      0.130      -0.821       0.105\n",
      "f40f7c1a4acb1267c0b098bbc49cb28960bf07ba     0.1712      0.131      1.311      0.190      -0.085       0.427\n",
      "f44dc84ccf754972f63d5c97cf74874b809c39ea    -0.5532      0.100     -5.510      0.000      -0.750      -0.356\n",
      "f4781db7e0d574739153110499d48aa08ab72c5b     0.1260      0.150      0.840      0.401      -0.168       0.420\n",
      "f69a2a62d9093d5b2f4bb512314d5d1754b10d70    -0.6501      0.157     -4.138      0.000      -0.958      -0.342\n",
      "f6e04d5135da2b0c0767dc81e3a1c6fad371625b     0.1855      0.125      1.480      0.139      -0.060       0.431\n",
      "f6f14762c3326ff771a3b3dd75c88680a52ff9bb     0.2317      0.147      1.578      0.115      -0.056       0.520\n",
      "f712079737d9c9543296064f52165919f093aa88    -0.0760      0.155     -0.490      0.624      -0.380       0.228\n",
      "f7830893dd49fe39ed52f3a9cb424ca959b5580f    -0.2541      0.238     -1.069      0.285      -0.720       0.212\n",
      "f9893eab7863a2150c5237db07e747c41a424dca    -0.5501      0.127     -4.328      0.000      -0.799      -0.301\n",
      "fb7d1e4d3aaf8a9e4ce51301a5d15241c6c3cad7    -0.3674      0.225     -1.636      0.102      -0.807       0.073\n",
      "fbc89d655b0bee5e28be220fd32b387c7a05a5e2     0.3748      0.130      2.885      0.004       0.120       0.629\n",
      "fc0ae5b9e0cdd41054037a6394d7bd2e6e067eef    -0.4181      0.115     -3.629      0.000      -0.644      -0.192\n",
      "fc66dfab82fdad061547aa40cdf9c33329d35928     0.0545      0.052      1.040      0.298      -0.048       0.157\n",
      "fcba6c814e849d1bbe22e5d46ff473f8153c0da5     0.2928      0.109      2.693      0.007       0.080       0.506\n",
      "fcd7f19d1b99ab5e1897984c08887df30eb0449b     0.5446      0.050     10.903      0.000       0.447       0.642\n",
      "ff756eb5ea347265b69af40d828247445923f17c    -0.0844      0.127     -0.662      0.508      -0.334       0.165\n",
      "bloom                                        1.1019      0.034     32.684      0.000       1.036       1.168\n",
      "c0vm                                         1.5192      0.021     71.852      0.000       1.478       1.561\n",
      "clac                                         1.1053      0.041     27.095      0.000       1.025       1.185\n",
      "clac-exp                                     1.0639      0.038     27.873      0.000       0.989       1.139\n",
      "doslingos                                    0.8803      0.041     21.276      0.000       0.799       0.961\n",
      "editor                                       1.3005      0.045     29.076      0.000       1.213       1.388\n",
      "editor-check                                 0.7186      0.072     10.020      0.000       0.578       0.859\n",
      "exam                                         1.7622      0.030     58.696      0.000       1.703       1.821\n",
      "huffman                                      1.5670      0.032     48.899      0.000       1.504       1.630\n",
      "images                                       1.2123      0.031     39.628      0.000       1.152       1.272\n",
      "lightsout                                    1.5444      0.025     62.225      0.000       1.496       1.593\n",
      "pixels                                       0.8150      0.039     20.906      0.000       0.739       0.891\n",
      "queues                                       1.4815      0.028     52.564      0.000       1.426       1.537\n",
      "ropes                                        1.4731      0.024     61.893      0.000       1.426       1.520\n",
      "scavhunt                                     0.8415      0.053     16.004      0.000       0.738       0.945\n",
      "setup (Linux)                                0.3610      0.358      1.009      0.313      -0.340       1.062\n",
      "setup (Mac)                                  0.1253      0.078      1.606      0.108      -0.028       0.278\n",
      "setup (Windows)                              0.2837      0.097      2.916      0.004       0.093       0.474\n",
      "speller                                      1.3130      0.038     34.914      0.000       1.239       1.387\n",
      "strbuf                                       1.4266      0.035     40.213      0.000       1.357       1.496\n",
      "style                                        0.1937      0.042      4.587      0.000       0.111       0.276\n",
      "tbuf                                         1.2988      0.033     38.833      0.000       1.233       1.364\n",
      "written                                      1.0654      0.019     55.461      0.000       1.028       1.103\n",
      "============================================================================================================\n"
     ]
    }
   ],
   "source": [
    "print(results2.summary())"
   ]
  },
  {
   "cell_type": "markdown",
   "metadata": {},
   "source": [
    "We saw that the results had started getting better. "
   ]
  },
  {
   "cell_type": "code",
   "execution_count": 57,
   "metadata": {},
   "outputs": [
    {
     "name": "stdout",
     "output_type": "stream",
     "text": [
      "Actual help time: 367\n",
      "Predicted help time: 476.63683045602164\n"
     ]
    }
   ],
   "source": [
    "i = random.randint(0, X_train.shape[0])\n",
    "rec = X_train.iloc[[i]]\n",
    "label = y_train.iloc[[i]]\n",
    "print(\"Actual help time: \" + str(label['HT'].values[0]))\n",
    "print(\"Predicted help time: \" + str(results2.predict(rec).values[0] * timeslot))"
   ]
  },
  {
   "cell_type": "markdown",
   "metadata": {},
   "source": [
    "## Cross Validation"
   ]
  },
  {
   "cell_type": "markdown",
   "metadata": {},
   "source": [
    "All we needed to do now was fine tune our bin size. We decided to use vanillacross validation for this. "
   ]
  },
  {
   "cell_type": "code",
   "execution_count": 50,
   "metadata": {},
   "outputs": [],
   "source": [
    "def cross_validation(timeslots):\n",
    "    for t in timeslots:\n",
    "        \n",
    "        # Training on the training set\n",
    "        y2_train = y_train.apply(lambda x : x // t)\n",
    "        model = sm.GLM(y2_train, X_train, family=sm.families.Poisson(statsmodels.genmod.families.links.log))\n",
    "        res = model.fit()\n",
    "        \n",
    "        # Calculating error on the cross-validation set, cannot vectorize because predict doesn't work with multiple samples for some reason\n",
    "        err = 0\n",
    "        for i in range(len(X_cv)):\n",
    "            rec = X_cv.iloc[[i]]\n",
    "            label = y_cv.iloc[[i]]\n",
    "            err += abs(res.predict(rec).values[0] * t - label.values[0])[0]\n",
    "            \n",
    "        # err2 = np.sum(abs(res.predict(X_cv) * t - y_cv))\n",
    "            \n",
    "        err /= len(X_cv)\n",
    "        # err2 /= len(X_cv)\n",
    "        \n",
    "        print(\"Timeslot: \" + str(t) + \". Average error per prediction in seconds: \" + str(err))"
   ]
  },
  {
   "cell_type": "markdown",
   "metadata": {},
   "source": [
    "Tested on different timeslots and did cross validation"
   ]
  },
  {
   "cell_type": "code",
   "execution_count": 51,
   "metadata": {},
   "outputs": [
    {
     "name": "stdout",
     "output_type": "stream",
     "text": [
      "Timeslot: 1. Average error per prediction in seconds: 260.12836487465944\n",
      "Timeslot: 3. Average error per prediction in seconds: 259.8675504174509\n",
      "Timeslot: 10. Average error per prediction in seconds: 258.9855548588442\n",
      "Timeslot: 30. Average error per prediction in seconds: 256.72383288110467\n",
      "Timeslot: 60. Average error per prediction in seconds: 253.7744682183234\n",
      "Timeslot: 90. Average error per prediction in seconds: 251.6224644782766\n",
      "Timeslot: 120. Average error per prediction in seconds: 250.20106069233665\n",
      "Timeslot: 150. Average error per prediction in seconds: 249.3368293624175\n",
      "Timeslot: 180. Average error per prediction in seconds: 249.4269757875168\n",
      "Timeslot: 210. Average error per prediction in seconds: 250.48618984412414\n",
      "Timeslot: 240. Average error per prediction in seconds: 251.80115974019293\n",
      "Timeslot: 300. Average error per prediction in seconds: 255.8779019995681\n"
     ]
    }
   ],
   "source": [
    "tl_list = [1, 3, 10, 30, 60, 90, 120, 150, 180, 210, 240, 300]\n",
    "tl_list2 = [180]\n",
    "cross_validation(tl_list)"
   ]
  },
  {
   "cell_type": "markdown",
   "metadata": {},
   "source": [
    "We observed that the minimum error occured on a timeslot of size 150 secs or 2.5 minutes. An error of approximately four minutes was great for our purposes. "
   ]
  },
  {
   "cell_type": "markdown",
   "metadata": {},
   "source": [
    "## Training final model"
   ]
  },
  {
   "cell_type": "code",
   "execution_count": 52,
   "metadata": {},
   "outputs": [],
   "source": [
    "y2_train = y_train.apply(lambda x : x // 150)\n",
    "model = sm.GLM(y2_train, X_train, family=sm.families.Poisson(statsmodels.genmod.families.links.log))\n",
    "model_res = model.fit()"
   ]
  },
  {
   "cell_type": "markdown",
   "metadata": {},
   "source": [
    "## Human VS Machine!"
   ]
  },
  {
   "cell_type": "markdown",
   "metadata": {},
   "source": [
    "Ultimately, just for fun, we decided to create this game to let a user compete with our model.\n",
    "After playing around with it for a while, we were very  pleased to see that our model was quite hard to beat. "
   ]
  },
  {
   "cell_type": "code",
   "execution_count": 53,
   "metadata": {},
   "outputs": [],
   "source": [
    "def human_vs_machine():\n",
    "    \n",
    "    idx = random.randint(0, len(X_cv))\n",
    "    sample = X_cv.iloc[[idx]]\n",
    "    label = y_cv.iloc[[idx]].values[0][0]\n",
    "    \n",
    "    machine_pred = model_res.predict(sample).values[0] * 150\n",
    "    \n",
    "    andrew = \"\"\n",
    "    new_id = \"\"\n",
    "    \n",
    "    first = 0\n",
    "    for col in sample:\n",
    "        if (sample[col].values[0] == 1):\n",
    "            if (first == 0):\n",
    "                andrew = col\n",
    "                first = 1\n",
    "            else:\n",
    "                new_id = col\n",
    "                \n",
    "    \n",
    "    print(\"Helping \" + andrew + \" with \" + new_id + \"!\")\n",
    "    \n",
    "    assignment_stats = df5['HT'].where(df5['new_id'] == new_id).dropna()\n",
    "    plt.hist(assignment_stats, bins=20, range=(0,1800))\n",
    "    \n",
    "    person_stats = df5['HT'].where(df5['andrew_id_hash'] == andrew).dropna()\n",
    "    plt.hist(person_stats, bins=20)\n",
    "    \n",
    "    plt.show()\n",
    "    \n",
    "    human_pred = int(input(\"Predict the Help time!: \"))\n",
    "    \n",
    "    print(\"Your prediction: \" + str(human_pred))\n",
    "    print(\"Machine prediction: \" + str(machine_pred))\n",
    "    print(\"\")\n",
    "    print(\"Actual help time: \" + str(label))\n",
    "    print(\"\")\n",
    "    \n",
    "    human_err = abs(human_pred-label)/label * 100\n",
    "    machine_err = abs(machine_pred-label)/label * 100\n",
    "    print(\"Human error : \" + str(human_err))\n",
    "    print(\"Machine error : \" + str(machine_err))\n",
    "    print(\"\")\n",
    "    \n",
    "    if (human_err > machine_err):\n",
    "        print(\"Machine wins!\")\n",
    "    else:\n",
    "        print(\"You win!\")\n",
    "    "
   ]
  },
  {
   "cell_type": "code",
   "execution_count": 54,
   "metadata": {},
   "outputs": [
    {
     "name": "stdout",
     "output_type": "stream",
     "text": [
      "Helping ee9df52b8820e414b470c173f87d1f9191947508 with queues!\n"
     ]
    },
    {
     "data": {
      "image/png": "[encoded data removed]",
      "text/plain": [
       "<matplotlib.figure.Figure at 0x29b121a34e0>"
      ]
     },
     "metadata": {},
     "output_type": "display_data"
    },
    {
     "name": "stdout",
     "output_type": "stream",
     "text": [
      "Predict the Help time!: 350\n",
      "Your prediction: 350\n",
      "Machine prediction: 308.5920857518558\n",
      "\n",
      "Actual help time: 279\n",
      "\n",
      "Human error : 25.448028673835125\n",
      "Machine error : 10.60648234833541\n",
      "\n",
      "Machine wins!\n"
     ]
    }
   ],
   "source": [
    "human_vs_machine()"
   ]
  },
  {
   "cell_type": "markdown",
   "metadata": {},
   "source": [
    "Thus, ultimately, we ended up with a help time predictor that can be plugged as it is into the current 122 infrastructure for predicting wait times and performs significantly better than the current implementation in use. \n",
    "\n",
    "## Next Steps\n",
    "1. We plan to try out other linear models and a few different sets of features to see if accuracy can be improved over what we have currently achieved. Being just freshman, we still have a lot to learn about this field and will continue working on this project and improving it as our knowledge base increases over the years.\n",
    "\n",
    "2. We are also in talks with the 122 staff about incorporating this and potentially replacing the current prediction algorithm in use, into the OH queue system. This will allow students to get a better estimate of the time they will have to wait at an OH and thus manage their time better. "
   ]
  }
 ],
 "metadata": {
  "kernelspec": {
   "display_name": "Python 3",
   "language": "python",
   "name": "python3"
  },
  "language_info": {
   "codemirror_mode": {
    "name": "ipython",
    "version": 3
   },
   "file_extension": ".py",
   "mimetype": "text/x-python",
   "name": "python",
   "nbconvert_exporter": "python",
   "pygments_lexer": "ipython3",
   "version": "3.6.3"
  }
 },
 "nbformat": 4,
 "nbformat_minor": 2
}
