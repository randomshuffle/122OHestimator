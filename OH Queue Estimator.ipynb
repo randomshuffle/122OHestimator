{
 "cells": [
  {
   "cell_type": "markdown",
   "metadata": {},
   "source": [
    "# 15-122 OH Queue Wait Time Estimator\n",
    "\n",
    "Being former 15-122 students, and one of beung a current TA, 15-122 is a course that is very close to our hearts. Over the course of last semester however, we observed that the wait time prediction that the 122 OH Queue tries to do is pretty inaccurate. "
   ]
  },
  {
   "cell_type": "markdown",
   "metadata": {},
   "source": [
    "![chart](https://github.com/randomshuffle/122OHestimator/blob/master/chart2.png?raw=true)"
   ]
  },
  {
   "cell_type": "markdown",
   "metadata": {},
   "source": [
    "In this particular case, the TAs had actually managed to clear the queue in less than an hour!"
   ]
  },
  {
   "cell_type": "markdown",
   "metadata": {},
   "source": [
    "We decided to fix this. Fortunately, the 122 staff collects tons of data during its OH about a student's wait time, help time, topic id of question etc. We got access to this data for a semester and decided to use  a machine learning model to try to to  predict a particular student's estimated help  time. We would then use the estimated help times of all the students being helped currently to get an estimate of the wait time for a student entering the queue.  The ad hoc algorithm converting estimated help times to wait times already  exists within the 122 infrastructure and the only issue was the help time predictions themselves. \n"
   ]
  },
  {
   "cell_type": "markdown",
   "metadata": {},
   "source": [
    "Our data pipeline was as follows- \n",
    "1. Obtaining and cleaning data (Data is far from ideal and contains several flaws)\n",
    "2. Visualizing the data (To figure out f machine learning is feasible and the model to use)\n",
    "3. Creating and training the Model (We ended up using a GLM) \n",
    "4. Fine-tuning hyper-parameters, the size of prediction bins in our case, using cross-validation.\n",
    "\n",
    "We also created a fun game at the end to allow the user to compete with our model. "
   ]
  },
  {
   "cell_type": "code",
   "execution_count": 17,
   "metadata": {},
   "outputs": [],
   "source": [
    "import pandas as pd\n",
    "import numpy as np\n",
    "import matplotlib.pyplot as plt\n",
    "import statsmodels.api as sm\n",
    "import statsmodels\n",
    "import random"
   ]
  },
  {
   "cell_type": "markdown",
   "metadata": {},
   "source": [
    "## Obtaining and cleaning data"
   ]
  },
  {
   "cell_type": "code",
   "execution_count": 18,
   "metadata": {},
   "outputs": [],
   "source": [
    "df = pd.read_csv(\"entries.csv\")\n",
    "topics = pd.read_csv(\"topics.csv\")"
   ]
  },
  {
   "cell_type": "code",
   "execution_count": 19,
   "metadata": {},
   "outputs": [
    {
     "name": "stdout",
     "output_type": "stream",
     "text": [
      "17067\n",
      "   id                            andrew_id_hash semester           entry_time  \\\n",
      "0   1  5660915b416b110d3125eddaf15d004c09f2dcf9      S17  2017-01-18 16:30:42   \n",
      "1   2  7a3ff1726a9e59878e74b78b612e705ba388f35c      S17  2017-01-18 16:30:47   \n",
      "2   3  33573dcedddbc5924f4fc0c16db8b901fd1c8286      S17  2017-01-18 16:31:00   \n",
      "3   4  2291bad572687d3d7e8fb1c4c4ad21c0b83c1e67      S17  2017-01-18 16:31:09   \n",
      "4   5  9a08eb5de601714dce83c7c7e5040509349f512c      S17  2017-01-18 16:32:51   \n",
      "\n",
      "             help_time            exit_time  wait_estimate  topic_id  ta_id  \n",
      "0  2017-01-18 16:31:36  2017-01-18 16:31:39            NaN       5.0      8  \n",
      "1  2017-01-18 16:31:44  2017-01-18 16:34:53            NaN       4.0     22  \n",
      "2  2017-01-18 16:32:12  2017-01-18 16:33:05            NaN       4.0     17  \n",
      "3  2017-01-18 16:32:28  2017-01-18 16:38:52            NaN       4.0     16  \n",
      "4  2017-01-18 16:33:15  2017-01-18 16:39:42            0.0       1.0     17  \n",
      "   id             name       out_date       due_date semester\n",
      "0   1    setup (Linux)   1/17/17 0:00   1/24/17 0:00      S17\n",
      "1   2         written1  1/17/17 21:00  1/23/17 21:00      S17\n",
      "2   3         scavhunt  1/19/17 21:00  1/26/17 21:00      S17\n",
      "3   4      setup (Mac)   1/17/17 0:00   1/24/17 0:00      S17\n",
      "4   5  setup (Windows)   1/17/17 0:00   1/24/17 0:00      S17\n"
     ]
    }
   ],
   "source": [
    "print(len(df))\n",
    "print(df.head())\n",
    "print(topics.head())"
   ]
  },
  {
   "cell_type": "markdown",
   "metadata": {},
   "source": [
    "\n",
    "As is visible, for each query made at Office Hours, we have the Andrew ID of the student (hashed), the entry time, the help time (time at which a TA started helping the student), the exit time (time at which the TA finished helping the student), the estimated wait time, the topic ID, the TA ID etc.  A lot of the rows also have NaNs interspersed. \n",
    "\n",
    "We also have 'topics data-frame' with all the topics and unique ids from the last 4 years. \n",
    "\n",
    "The features important to us are solely the help time, the Andrew ID and the Topic IDs. Thus, we first remove the unimportant columns and then compute the time the student was helped. \n"
   ]
  },
  {
   "cell_type": "code",
   "execution_count": 20,
   "metadata": {},
   "outputs": [],
   "source": [
    "df2 = df.drop(['wait_estimate', 'ta_id', 'id', 'semester'], axis=1)\n",
    "df2 = df2.dropna(axis=0, how='any')\n"
   ]
  },
  {
   "cell_type": "code",
   "execution_count": 21,
   "metadata": {},
   "outputs": [
    {
     "name": "stdout",
     "output_type": "stream",
     "text": [
      "<class 'pandas.core.frame.DataFrame'>\n",
      "RangeIndex: 120 entries, 0 to 119\n",
      "Data columns (total 2 columns):\n",
      "id      120 non-null int64\n",
      "name    120 non-null object\n",
      "dtypes: int64(1), object(1)\n",
      "memory usage: 2.0+ KB\n",
      "None\n"
     ]
    }
   ],
   "source": [
    "topics = topics.drop(['out_date', 'due_date', 'semester'], axis=1)\n",
    "print(topics.info())"
   ]
  },
  {
   "cell_type": "code",
   "execution_count": 22,
   "metadata": {},
   "outputs": [
    {
     "name": "stdout",
     "output_type": "stream",
     "text": [
      "<class 'pandas.core.frame.DataFrame'>\n",
      "Int64Index: 16062 entries, 0 to 17066\n",
      "Data columns (total 5 columns):\n",
      "andrew_id_hash    16062 non-null object\n",
      "entry_time        16062 non-null object\n",
      "help_time         16062 non-null object\n",
      "exit_time         16062 non-null object\n",
      "topic_id          16062 non-null float64\n",
      "dtypes: float64(1), object(4)\n",
      "memory usage: 752.9+ KB\n",
      "None\n"
     ]
    }
   ],
   "source": [
    "print(df2.info())"
   ]
  },
  {
   "cell_type": "code",
   "execution_count": 23,
   "metadata": {},
   "outputs": [],
   "source": [
    "df2['entry_time'] = pd.to_datetime(df2['entry_time'])\n",
    "df2['help_time'] = pd.to_datetime(df2['help_time'])\n",
    "df2['exit_time'] = pd.to_datetime(df2['exit_time'])\n",
    "df2['topic_id'] = df2['topic_id'].astype(int)"
   ]
  },
  {
   "cell_type": "code",
   "execution_count": 24,
   "metadata": {},
   "outputs": [
    {
     "name": "stdout",
     "output_type": "stream",
     "text": [
      "<class 'pandas.core.frame.DataFrame'>\n",
      "Int64Index: 16062 entries, 0 to 17066\n",
      "Data columns (total 5 columns):\n",
      "andrew_id_hash    16062 non-null object\n",
      "entry_time        16062 non-null datetime64[ns]\n",
      "help_time         16062 non-null datetime64[ns]\n",
      "exit_time         16062 non-null datetime64[ns]\n",
      "topic_id          16062 non-null int32\n",
      "dtypes: datetime64[ns](3), int32(1), object(1)\n",
      "memory usage: 690.2+ KB\n",
      "None\n"
     ]
    }
   ],
   "source": [
    "print(df2.info())"
   ]
  },
  {
   "cell_type": "code",
   "execution_count": 25,
   "metadata": {},
   "outputs": [],
   "source": [
    "df2['WT'] = (df2['help_time'] - df2['entry_time']).astype('timedelta64[s]').astype(int)\n",
    "df2['HT'] = (df2['exit_time'] - df2['help_time']).astype('timedelta64[s]').astype(int)"
   ]
  },
  {
   "cell_type": "markdown",
   "metadata": {},
   "source": [
    "Here, we calculate a student's actual help time (HT) and wait time (WT) "
   ]
  },
  {
   "cell_type": "code",
   "execution_count": 26,
   "metadata": {},
   "outputs": [
    {
     "name": "stdout",
     "output_type": "stream",
     "text": [
      "<class 'pandas.core.frame.DataFrame'>\n",
      "Int64Index: 16062 entries, 0 to 17066\n",
      "Data columns (total 4 columns):\n",
      "andrew_id_hash    16062 non-null object\n",
      "WT                16062 non-null int32\n",
      "HT                16062 non-null int32\n",
      "topic_id          16062 non-null int32\n",
      "dtypes: int32(3), object(1)\n",
      "memory usage: 1.1+ MB\n",
      "None\n",
      "                             andrew_id_hash  WT   HT  topic_id\n",
      "0  5660915b416b110d3125eddaf15d004c09f2dcf9  54    3         5\n",
      "1  7a3ff1726a9e59878e74b78b612e705ba388f35c  57  189         4\n",
      "2  33573dcedddbc5924f4fc0c16db8b901fd1c8286  72   53         4\n",
      "3  2291bad572687d3d7e8fb1c4c4ad21c0b83c1e67  79  384         4\n",
      "4  9a08eb5de601714dce83c7c7e5040509349f512c  24  387         1\n",
      "   id             name\n",
      "0   1    setup (Linux)\n",
      "1   2         written1\n",
      "2   3         scavhunt\n",
      "3   4      setup (Mac)\n",
      "4   5  setup (Windows)\n"
     ]
    }
   ],
   "source": [
    "df3 = df2[['andrew_id_hash', 'WT', 'HT', 'topic_id']]\n",
    "print(df3.info())\n",
    "print(df3.head())\n",
    "print(topics.head())"
   ]
  },
  {
   "cell_type": "markdown",
   "metadata": {},
   "source": [
    "Finally, our data is ready (Almost). We still need to do 2 things:\n",
    "1. Remove the outliers (probably not actual records and were not entered correctly)\n",
    "2. Join the topic ID in the dataset with the topic ID in the topic dataset. (We need to do this because some topics have different ids, for example the topic C0VM has 4 different ids: one for each semester the assignment was given!)"
   ]
  },
  {
   "cell_type": "markdown",
   "metadata": {},
   "source": [
    "### 1. Removing outliers"
   ]
  },
  {
   "cell_type": "code",
   "execution_count": 27,
   "metadata": {},
   "outputs": [
    {
     "name": "stdout",
     "output_type": "stream",
     "text": [
      "15533\n"
     ]
    }
   ],
   "source": [
    "df3 = df3.where(df3['HT'] > 30).dropna()\n",
    "df3 = df3.where(df3['HT'] < 2700).dropna()\n",
    "print(len(df3))"
   ]
  },
  {
   "cell_type": "markdown",
   "metadata": {},
   "source": [
    "### 2. Merging with the topic list"
   ]
  },
  {
   "cell_type": "code",
   "execution_count": 28,
   "metadata": {},
   "outputs": [
    {
     "name": "stdout",
     "output_type": "stream",
     "text": [
      "                             andrew_id_hash   WT   HT         name\n",
      "0  7a3ff1726a9e59878e74b78b612e705ba388f35c   57  189  setup (Mac)\n",
      "1  33573dcedddbc5924f4fc0c16db8b901fd1c8286   72   53  setup (Mac)\n",
      "2  2291bad572687d3d7e8fb1c4c4ad21c0b83c1e67   79  384  setup (Mac)\n",
      "3  9bf345f89e209ba0c0cf5ffb6a450669fdc96910  116   61  setup (Mac)\n",
      "4  8098b7df9506a418f44cbf339a82d59f8c4b0391  126  145  setup (Mac)\n",
      "15533\n"
     ]
    }
   ],
   "source": [
    "df4 = df3.merge(topics, left_on='topic_id', right_on='id')\n",
    "df4 = df4.drop(['topic_id', 'id'], axis=1)\n",
    "df4['WT'] = df4['WT'].astype(int)\n",
    "df4['HT'] = df4['HT'].astype(int)\n",
    "print(df4.head())\n",
    "print(len(df4))"
   ]
  },
  {
   "cell_type": "code",
   "execution_count": 29,
   "metadata": {},
   "outputs": [
    {
     "name": "stdout",
     "output_type": "stream",
     "text": [
      "['setup (Mac)' 'setup (Linux)' 'setup (Windows)' 'written1' 'scavhunt'\n",
      " 'written2' 'pixels' 'written3' 'images' 'written4' 'doslingos'\n",
      " 'images style' 'written5' 'midterm1' 'written6' 'clac-exp' 'written7'\n",
      " 'tbuf' 'exp style' 'written8' 'bloom' 'written9' 'ropes' 'written10'\n",
      " 'queues' 'written11' 'lightsout' 'written12' 'c0vm' 'written13' 'speller'\n",
      " 'exam1' 'clac' 'exam3' 'editor-check' 'editor' 'midterm2' 'strbuf'\n",
      " 'huffman' 'final']\n"
     ]
    }
   ],
   "source": [
    "topiclist = df4['name'].unique()\n",
    "print(topiclist)"
   ]
  },
  {
   "cell_type": "markdown",
   "metadata": {},
   "source": [
    "Now that we have linked the topic ids in our dataset with the topic IDs in the topic dataset, we also decide to combine the topics that are similar: we merge all the written assignments and style issues and pre-exam questions\n",
    "\n",
    "We do this because these are very similar topics and take a fairly standard amount of help time. "
   ]
  },
  {
   "cell_type": "code",
   "execution_count": 30,
   "metadata": {},
   "outputs": [],
   "source": [
    "topicmap = {}\n",
    "for topic in topiclist:\n",
    "    if (topic[:7] == 'written'):\n",
    "        topicmap[topic] = 'written'\n",
    "    elif (topic[-5:] == 'style'):\n",
    "        topicmap[topic] = 'style'\n",
    "    elif (topic == 'midterm1' or topic == 'midterm2' or topic == 'final' or topic == 'exam1' or topic == 'exam2' or topic == 'exam3'):\n",
    "        topicmap[topic] = 'exam'\n",
    "    else:\n",
    "        topicmap[topic] = topic"
   ]
  },
  {
   "cell_type": "code",
   "execution_count": 31,
   "metadata": {},
   "outputs": [
    {
     "name": "stdout",
     "output_type": "stream",
     "text": [
      "['setup (Mac)' 'setup (Linux)' 'setup (Windows)' 'written' 'scavhunt'\n",
      " 'pixels' 'images' 'doslingos' 'style' 'exam' 'clac-exp' 'tbuf' 'bloom'\n",
      " 'ropes' 'queues' 'lightsout' 'c0vm' 'speller' 'clac' 'editor-check'\n",
      " 'editor' 'strbuf' 'huffman']\n",
      "                             andrew_id_hash   WT   HT       new_id\n",
      "0  7a3ff1726a9e59878e74b78b612e705ba388f35c   57  189  setup (Mac)\n",
      "1  33573dcedddbc5924f4fc0c16db8b901fd1c8286   72   53  setup (Mac)\n",
      "2  2291bad572687d3d7e8fb1c4c4ad21c0b83c1e67   79  384  setup (Mac)\n",
      "3  9bf345f89e209ba0c0cf5ffb6a450669fdc96910  116   61  setup (Mac)\n",
      "4  8098b7df9506a418f44cbf339a82d59f8c4b0391  126  145  setup (Mac)\n"
     ]
    }
   ],
   "source": [
    "df4['new_id'] = df4['name'].apply(lambda x : topicmap[x])\n",
    "df5 = df4.drop(['name'], axis=1)\n",
    "print(df5['new_id'].unique())\n",
    "print(df5.head())"
   ]
  },
  {
   "cell_type": "code",
   "execution_count": 32,
   "metadata": {},
   "outputs": [
    {
     "name": "stdout",
     "output_type": "stream",
     "text": [
      "written            3945\n",
      "c0vm               1758\n",
      "ropes              1024\n",
      "lightsout          1022\n",
      "style               709\n",
      "queues              701\n",
      "images              697\n",
      "bloom               651\n",
      "tbuf                570\n",
      "pixels              555\n",
      "clac-exp            504\n",
      "doslingos           493\n",
      "exam                428\n",
      "huffman             420\n",
      "strbuf              352\n",
      "clac                342\n",
      "speller             321\n",
      "scavhunt            290\n",
      "editor              236\n",
      "setup (Mac)         230\n",
      "editor-check        154\n",
      "setup (Windows)     120\n",
      "setup (Linux)        11\n",
      "Name: new_id, dtype: int64\n"
     ]
    }
   ],
   "source": [
    "print(df5['new_id'].value_counts())"
   ]
  },
  {
   "cell_type": "code",
   "execution_count": 33,
   "metadata": {},
   "outputs": [
    {
     "name": "stdout",
     "output_type": "stream",
     "text": [
      "1003\n",
      "757\n",
      "209\n"
     ]
    }
   ],
   "source": [
    "print(len(df5['andrew_id_hash'].value_counts().where(df5['andrew_id_hash'].value_counts() > 0).dropna()))\n",
    "print(len(df5['andrew_id_hash'].value_counts().where(df5['andrew_id_hash'].value_counts() > 1).dropna()))\n",
    "print(len(df5['andrew_id_hash'].value_counts().where(df5['andrew_id_hash'].value_counts() > 20).dropna()))"
   ]
  },
  {
   "cell_type": "markdown",
   "metadata": {},
   "source": [
    "Note that there's relatively few students who show up more than 20 times. "
   ]
  },
  {
   "cell_type": "markdown",
   "metadata": {},
   "source": [
    "## Visualization"
   ]
  },
  {
   "cell_type": "markdown",
   "metadata": {},
   "source": [
    "We now move on to visualizing our cleaned up data. \n",
    "\n",
    "If we focus on exact values for the topics or the andrew IDs and we plot of a histogram of the help times, we get plots that look like poisson distributions."
   ]
  },
  {
   "cell_type": "code",
   "execution_count": 34,
   "metadata": {},
   "outputs": [
    {
     "data": {
      "text/plain": [
       "(array([361., 502., 464., 431., 319., 296., 253., 217., 166., 130., 117.,\n",
       "         87.,  97.,  81.,  60.,  47.,  34.,  40.,  34.,  20.,  26.,  20.,\n",
       "         14.,  19.,  18.,  10.,  16.,  10.,   5.,   5.,   2.,   5.,   9.,\n",
       "          5.,   6.,   2.,   4.,   1.,   4.,   2.,   0.,   1.,   1.,   0.,\n",
       "          1.,   1.,   0.,   1.,   0.,   1.]),\n",
       " array([  31.  ,   83.82,  136.64,  189.46,  242.28,  295.1 ,  347.92,\n",
       "         400.74,  453.56,  506.38,  559.2 ,  612.02,  664.84,  717.66,\n",
       "         770.48,  823.3 ,  876.12,  928.94,  981.76, 1034.58, 1087.4 ,\n",
       "        1140.22, 1193.04, 1245.86, 1298.68, 1351.5 , 1404.32, 1457.14,\n",
       "        1509.96, 1562.78, 1615.6 , 1668.42, 1721.24, 1774.06, 1826.88,\n",
       "        1879.7 , 1932.52, 1985.34, 2038.16, 2090.98, 2143.8 , 2196.62,\n",
       "        2249.44, 2302.26, 2355.08, 2407.9 , 2460.72, 2513.54, 2566.36,\n",
       "        2619.18, 2672.  ]),\n",
       " <a list of 50 Patch objects>)"
      ]
     },
     "execution_count": 34,
     "metadata": {},
     "output_type": "execute_result"
    },
    {
     "data": {
      "image/png": "[encoded data removed]",
      "text/plain": [
       "<matplotlib.figure.Figure at 0x29b1267b208>"
      ]
     },
     "metadata": {},
     "output_type": "display_data"
    }
   ],
   "source": [
    "writtens = df5['HT'].where(df5['new_id'] == 'written').dropna()\n",
    "plt.hist(writtens, bins=50)"
   ]
  },
  {
   "cell_type": "code",
   "execution_count": 35,
   "metadata": {},
   "outputs": [
    {
     "data": {
      "text/plain": [
       "(array([ 79., 118., 137., 153., 132., 100., 122., 106.,  75.,  75.,  75.,\n",
       "         54.,  51.,  64.,  47.,  43.,  35.,  23.,  33.,  19.,  20.,  20.,\n",
       "         18.,  17.,   9.,  18.,  10.,   9.,  12.,  13.,   2.,   9.,   7.,\n",
       "          4.,   2.,   1.,   7.,   5.,   2.,   3.,   2.,   3.,   2.,   5.,\n",
       "          4.,   4.,   1.,   4.,   2.,   2.]),\n",
       " array([  31.  ,   83.96,  136.92,  189.88,  242.84,  295.8 ,  348.76,\n",
       "         401.72,  454.68,  507.64,  560.6 ,  613.56,  666.52,  719.48,\n",
       "         772.44,  825.4 ,  878.36,  931.32,  984.28, 1037.24, 1090.2 ,\n",
       "        1143.16, 1196.12, 1249.08, 1302.04, 1355.  , 1407.96, 1460.92,\n",
       "        1513.88, 1566.84, 1619.8 , 1672.76, 1725.72, 1778.68, 1831.64,\n",
       "        1884.6 , 1937.56, 1990.52, 2043.48, 2096.44, 2149.4 , 2202.36,\n",
       "        2255.32, 2308.28, 2361.24, 2414.2 , 2467.16, 2520.12, 2573.08,\n",
       "        2626.04, 2679.  ]),\n",
       " <a list of 50 Patch objects>)"
      ]
     },
     "execution_count": 35,
     "metadata": {},
     "output_type": "execute_result"
    },
    {
     "data": {
      "image/png": "[encoded data removed]",
      "text/plain": [
       "<matplotlib.figure.Figure at 0x29b116ee278>"
      ]
     },
     "metadata": {},
     "output_type": "display_data"
    }
   ],
   "source": [
    "c0vm = df5['HT'].where(df5['new_id'] == 'c0vm').dropna()\n",
    "plt.hist(c0vm, bins=50)"
   ]
  },
  {
   "cell_type": "code",
   "execution_count": 36,
   "metadata": {},
   "outputs": [
    {
     "data": {
      "text/plain": [
       "(array([17., 17., 23., 25., 25., 28., 23., 15., 24., 19., 16.,  8., 15.,\n",
       "        14., 19., 12., 15.,  6.,  8., 11.,  7.,  6.,  7.,  7.,  4.,  4.,\n",
       "         5.,  3.,  4.,  3.,  2.,  4.,  2.,  4.,  3.,  2.,  1.,  4.,  2.,\n",
       "         0.,  0.,  0.,  0.,  1.,  0.,  1.,  2.,  0.,  0.,  2.]),\n",
       " array([  40.  ,   91.54,  143.08,  194.62,  246.16,  297.7 ,  349.24,\n",
       "         400.78,  452.32,  503.86,  555.4 ,  606.94,  658.48,  710.02,\n",
       "         761.56,  813.1 ,  864.64,  916.18,  967.72, 1019.26, 1070.8 ,\n",
       "        1122.34, 1173.88, 1225.42, 1276.96, 1328.5 , 1380.04, 1431.58,\n",
       "        1483.12, 1534.66, 1586.2 , 1637.74, 1689.28, 1740.82, 1792.36,\n",
       "        1843.9 , 1895.44, 1946.98, 1998.52, 2050.06, 2101.6 , 2153.14,\n",
       "        2204.68, 2256.22, 2307.76, 2359.3 , 2410.84, 2462.38, 2513.92,\n",
       "        2565.46, 2617.  ]),\n",
       " <a list of 50 Patch objects>)"
      ]
     },
     "execution_count": 36,
     "metadata": {},
     "output_type": "execute_result"
    },
    {
     "data": {
      "image/png": "[encoded data removed]",
      "text/plain": [
       "<matplotlib.figure.Figure at 0x29b11739240>"
      ]
     },
     "metadata": {},
     "output_type": "display_data"
    }
   ],
   "source": [
    "huffman = df5['HT'].where(df5['new_id'] == 'huffman').dropna()\n",
    "plt.hist(huffman, bins=50)"
   ]
  },
  {
   "cell_type": "code",
   "execution_count": 37,
   "metadata": {},
   "outputs": [
    {
     "data": {
      "text/plain": [
       "(array([30., 38., 44., 34., 40., 25., 26., 10., 12.,  5.,  8.,  7.,  5.,\n",
       "         4.,  2.,  4.,  1.,  0.,  1.,  1.]),\n",
       " array([  39.  ,  167.35,  295.7 ,  424.05,  552.4 ,  680.75,  809.1 ,\n",
       "         937.45, 1065.8 , 1194.15, 1322.5 , 1450.85, 1579.2 , 1707.55,\n",
       "        1835.9 , 1964.25, 2092.6 , 2220.95, 2349.3 , 2477.65, 2606.  ]),\n",
       " <a list of 20 Patch objects>)"
      ]
     },
     "execution_count": 37,
     "metadata": {},
     "output_type": "execute_result"
    },
    {
     "data": {
      "image/png": "[encoded data removed]",
      "text/plain": [
       "<matplotlib.figure.Figure at 0x29b12426eb8>"
      ]
     },
     "metadata": {},
     "output_type": "display_data"
    }
   ],
   "source": [
    "helpthispersonpls297 = df5['HT'].where(df5['andrew_id_hash'] == '21cb1f9adbacb7cf4bfb15085966652648310c05').dropna()\n",
    "plt.hist(helpthispersonpls297, bins=20)"
   ]
  },
  {
   "cell_type": "code",
   "execution_count": 38,
   "metadata": {},
   "outputs": [
    {
     "data": {
      "text/plain": [
       "(array([2., 0., 1., 2., 0., 0., 0., 1., 2., 1., 0., 1., 0., 0., 0., 1., 0.,\n",
       "        0., 0., 1.]),\n",
       " array([ 33. ,  50.7,  68.4,  86.1, 103.8, 121.5, 139.2, 156.9, 174.6,\n",
       "        192.3, 210. , 227.7, 245.4, 263.1, 280.8, 298.5, 316.2, 333.9,\n",
       "        351.6, 369.3, 387. ]),\n",
       " <a list of 20 Patch objects>)"
      ]
     },
     "execution_count": 38,
     "metadata": {},
     "output_type": "execute_result"
    },
    {
     "data": {
      "image/png": "[encoded data removed]",
      "text/plain": [
       "<matplotlib.figure.Figure at 0x29b11a68240>"
      ]
     },
     "metadata": {},
     "output_type": "display_data"
    }
   ],
   "source": [
    "helpthispersonpls12 = df5['HT'].where(df5['andrew_id_hash'] == '8062624b2a0e63429aec70cb1f934fee704435ef').dropna()\n",
    "plt.hist(helpthispersonpls12, bins=20)"
   ]
  },
  {
   "cell_type": "markdown",
   "metadata": {},
   "source": [
    "This looked promising, so we tried to make a small game to see if we could predict help times ourselves using the features we had decided on."
   ]
  },
  {
   "cell_type": "code",
   "execution_count": 39,
   "metadata": {},
   "outputs": [],
   "source": [
    "def game():\n",
    "    \n",
    "    record = df5.sample()\n",
    "    andrew = record['andrew_id_hash'].to_string(header=False, index=False)\n",
    "    ht = int(record['HT'].to_string(header=False, index=False))\n",
    "    new_id = record['new_id'].to_string(header=False, index=False)\n",
    "    \n",
    "    print(\"Helping \" + andrew + \" with \" + new_id + \"!\")\n",
    "    \n",
    "    assignment_stats = df5['HT'].where(df5['new_id'] == new_id).dropna()\n",
    "    plt.hist(assignment_stats, bins=20, range=(0,1800))\n",
    "    \n",
    "    person_stats = df5['HT'].where(df5['andrew_id_hash'] == andrew).dropna()\n",
    "    plt.hist(person_stats, bins=20)\n",
    "    \n",
    "    plt.show()\n",
    "    \n",
    "    prediction = int(input(\"Predict the Help time!: \"))\n",
    "    \n",
    "    print(\"Your prediction: \" + str(prediction))\n",
    "    print(\"Actual help time: \" + str(ht))\n",
    "    print(\"Error is: \" + str(abs(prediction-ht)/ht * 100))"
   ]
  },
  {
   "cell_type": "code",
   "execution_count": 40,
   "metadata": {},
   "outputs": [
    {
     "name": "stdout",
     "output_type": "stream",
     "text": [
      "Helping 9641cfd54915b40ee1a83fc5e7caa0e75fa7ecae with written!\n"
     ]
    },
    {
     "data": {
      "image/png": "[encoded data removed]",
      "text/plain": [
       "<matplotlib.figure.Figure at 0x29b11ae52b0>"
      ]
     },
     "metadata": {},
     "output_type": "display_data"
    },
    {
     "name": "stdout",
     "output_type": "stream",
     "text": [
      "Predict the Help time!: 250\n",
      "Your prediction: 250\n",
      "Actual help time: 220\n",
      "Error is: 13.636363636363635\n"
     ]
    }
   ],
   "source": [
    "game()"
   ]
  },
  {
   "cell_type": "markdown",
   "metadata": {},
   "source": [
    "We played around for a while and started to get good at it.\n",
    "Thats when we decided to go ahead and tried to model the poisson distribution. We asked a few TAs and searched on the internet about what we should do and decided to use a Generalized linear model with a link function suited to a poisson distribution in the end. "
   ]
  },
  {
   "cell_type": "markdown",
   "metadata": {},
   "source": [
    "## Creating the Model and Training"
   ]
  },
  {
   "cell_type": "markdown",
   "metadata": {},
   "source": [
    "In order to create the training and test set and labels we remove the andrew IDs which have less than 10 entries in the dataset, because it is difficult to fit a distribution to such a small sample size.\n",
    "We then  do a 70-30 data split"
   ]
  },
  {
   "cell_type": "code",
   "execution_count": 41,
   "metadata": {},
   "outputs": [
    {
     "name": "stdout",
     "output_type": "stream",
     "text": [
      "<class 'pandas.core.frame.DataFrame'>\n",
      "Int64Index: 15533 entries, 0 to 15532\n",
      "Columns: 373 entries, 006224cb5c837901ba7551f1b8d087c3c2fcdba3 to HT\n",
      "dtypes: int32(1), uint8(372)\n",
      "memory usage: 6.3 MB\n",
      "None\n"
     ]
    }
   ],
   "source": [
    "data = pd.get_dummies(df5['andrew_id_hash'])\n",
    "data = data.drop([col for col, val in data.sum().iteritems() if val <= 10], axis=1)\n",
    "data = data.join(pd.get_dummies(df5['new_id']))\n",
    "data = data.join(df5['HT'])\n",
    "print(data.info())"
   ]
  },
  {
   "cell_type": "code",
   "execution_count": 42,
   "metadata": {},
   "outputs": [
    {
     "name": "stdout",
     "output_type": "stream",
     "text": [
      "<class 'pandas.core.frame.DataFrame'>\n",
      "Int64Index: 10873 entries, 10986 to 8891\n",
      "Columns: 372 entries, 006224cb5c837901ba7551f1b8d087c3c2fcdba3 to written\n",
      "dtypes: uint8(372)\n",
      "memory usage: 3.9 MB\n",
      "None\n",
      "<class 'pandas.core.frame.DataFrame'>\n",
      "Int64Index: 10873 entries, 10986 to 8891\n",
      "Data columns (total 1 columns):\n",
      "HT    10873 non-null int32\n",
      "dtypes: int32(1)\n",
      "memory usage: 127.4 KB\n",
      "None\n",
      "<class 'pandas.core.frame.DataFrame'>\n",
      "Int64Index: 4660 entries, 3832 to 7270\n",
      "Columns: 372 entries, 006224cb5c837901ba7551f1b8d087c3c2fcdba3 to written\n",
      "dtypes: uint8(372)\n",
      "memory usage: 1.7 MB\n",
      "None\n",
      "<class 'pandas.core.frame.DataFrame'>\n",
      "Int64Index: 4660 entries, 3832 to 7270\n",
      "Data columns (total 1 columns):\n",
      "HT    4660 non-null int32\n",
      "dtypes: int32(1)\n",
      "memory usage: 54.6 KB\n",
      "None\n"
     ]
    }
   ],
   "source": [
    "datalen = data.shape[0]\n",
    "np.random.seed(42)\n",
    "perm = np.random.permutation(datalen)\n",
    "train_idx = perm[:int(datalen*0.7)]\n",
    "cv_idx = perm[int(datalen * 0.7):]\n",
    "\n",
    "X_train = data.loc[train_idx, data.columns != 'HT']\n",
    "y_train = data.loc[train_idx, ['HT']]\n",
    "X_cv = data.loc[cv_idx, data.columns != 'HT']\n",
    "y_cv = data.loc[cv_idx, ['HT']]\n",
    "print(X_train.info())\n",
    "print(y_train.info())\n",
    "print(X_cv.info())\n",
    "print(y_cv.info())"
   ]
  },
  {
   "cell_type": "markdown",
   "metadata": {},
   "source": [
    "### A Failed Attempt"
   ]
  },
  {
   "cell_type": "code",
   "execution_count": 43,
   "metadata": {},
   "outputs": [],
   "source": [
    "model = sm.GLM(y_train, X_train, family=sm.families.Poisson(statsmodels.genmod.families.links.log))\n",
    "results = model.fit()"
   ]
  },
  {
   "cell_type": "code",
   "execution_count": 66,
   "metadata": {},
   "outputs": [],
   "source": [
    "# Uncomment this out to see a summary of the Model.\n",
    "# We have commented it out because it's too long to output.\n",
    "#print(results.summary())"
   ]
  },
  {
   "cell_type": "code",
   "execution_count": 45,
   "metadata": {},
   "outputs": [
    {
     "name": "stdout",
     "output_type": "stream",
     "text": [
      "Actual help time: 196\n",
      "Predicted help time: 752.6903499088932\n"
     ]
    }
   ],
   "source": [
    "i = random.randint(0, X_train.shape[0])\n",
    "rec = X_train.iloc[[i]]\n",
    "label = y_train.iloc[[i]]\n",
    "print(\"Actual help time: \" + str(label['HT'].values[0]))\n",
    "print(\"Predicted help time: \" + str(results.predict(rec).values[0]))"
   ]
  },
  {
   "cell_type": "markdown",
   "metadata": {},
   "source": [
    "So initially, we tried this a lot of times but did not get good results. Thats when we realized an important mistake: we did  not divide our labels into time slots and were instead trying to predict discrete time values. (A bad idea)"
   ]
  },
  {
   "cell_type": "markdown",
   "metadata": {},
   "source": [
    "### Testing the Waters with Timeslots"
   ]
  },
  {
   "cell_type": "code",
   "execution_count": 46,
   "metadata": {},
   "outputs": [
    {
     "name": "stdout",
     "output_type": "stream",
     "text": [
      "        HT\n",
      "10986  296\n",
      "8878   417\n",
      "1346   254\n",
      "2099   160\n",
      "11498  201\n",
      "       HT\n",
      "10986   2\n",
      "8878    3\n",
      "1346    2\n",
      "2099    1\n",
      "11498   1\n"
     ]
    }
   ],
   "source": [
    "timeslot = 120\n",
    "y2_train = y_train.apply(lambda x : x // timeslot)\n",
    "print(y_train.head())\n",
    "print(y2_train.head())"
   ]
  },
  {
   "cell_type": "code",
   "execution_count": 47,
   "metadata": {},
   "outputs": [],
   "source": [
    "model = sm.GLM(y2_train, X_train, family=sm.families.Poisson(statsmodels.genmod.families.links.log))\n",
    "results2 = model.fit()"
   ]
  },
  {
   "cell_type": "code",
   "execution_count": 65,
   "metadata": {
    "scrolled": true
   },
   "outputs": [],
   "source": [
    "# Uncomment this out to see a summary of the Model. \n",
    "# We have commented it out because it's too long to output.\n",
    "#print(results2.summary2())"
   ]
  },
  {
   "cell_type": "markdown",
   "metadata": {},
   "source": [
    "We saw that the results had started getting better. "
   ]
  },
  {
   "cell_type": "code",
   "execution_count": 57,
   "metadata": {},
   "outputs": [
    {
     "name": "stdout",
     "output_type": "stream",
     "text": [
      "Actual help time: 367\n",
      "Predicted help time: 476.63683045602164\n"
     ]
    }
   ],
   "source": [
    "i = random.randint(0, X_train.shape[0])\n",
    "rec = X_train.iloc[[i]]\n",
    "label = y_train.iloc[[i]]\n",
    "print(\"Actual help time: \" + str(label['HT'].values[0]))\n",
    "print(\"Predicted help time: \" + str(results2.predict(rec).values[0] * timeslot))"
   ]
  },
  {
   "cell_type": "markdown",
   "metadata": {},
   "source": [
    "## Cross Validation"
   ]
  },
  {
   "cell_type": "markdown",
   "metadata": {},
   "source": [
    "All we needed to do now was fine tune our bin size. We decided to use vanillacross validation for this. "
   ]
  },
  {
   "cell_type": "code",
   "execution_count": 50,
   "metadata": {},
   "outputs": [],
   "source": [
    "def cross_validation(timeslots):\n",
    "    for t in timeslots:\n",
    "        \n",
    "        # Training on the training set\n",
    "        y2_train = y_train.apply(lambda x : x // t)\n",
    "        model = sm.GLM(y2_train, X_train, family=sm.families.Poisson(statsmodels.genmod.families.links.log))\n",
    "        res = model.fit()\n",
    "        \n",
    "        # Calculating error on the cross-validation set, cannot vectorize because predict doesn't work with multiple samples for some reason\n",
    "        err = 0\n",
    "        for i in range(len(X_cv)):\n",
    "            rec = X_cv.iloc[[i]]\n",
    "            label = y_cv.iloc[[i]]\n",
    "            err += abs(res.predict(rec).values[0] * t - label.values[0])[0]\n",
    "            \n",
    "        # err2 = np.sum(abs(res.predict(X_cv) * t - y_cv))\n",
    "            \n",
    "        err /= len(X_cv)\n",
    "        # err2 /= len(X_cv)\n",
    "        \n",
    "        print(\"Timeslot: \" + str(t) + \". Average error per prediction in seconds: \" + str(err))"
   ]
  },
  {
   "cell_type": "markdown",
   "metadata": {},
   "source": [
    "Tested on different timeslots and did cross validation"
   ]
  },
  {
   "cell_type": "code",
   "execution_count": 51,
   "metadata": {},
   "outputs": [
    {
     "name": "stdout",
     "output_type": "stream",
     "text": [
      "Timeslot: 1. Average error per prediction in seconds: 260.12836487465944\n",
      "Timeslot: 3. Average error per prediction in seconds: 259.8675504174509\n",
      "Timeslot: 10. Average error per prediction in seconds: 258.9855548588442\n",
      "Timeslot: 30. Average error per prediction in seconds: 256.72383288110467\n",
      "Timeslot: 60. Average error per prediction in seconds: 253.7744682183234\n",
      "Timeslot: 90. Average error per prediction in seconds: 251.6224644782766\n",
      "Timeslot: 120. Average error per prediction in seconds: 250.20106069233665\n",
      "Timeslot: 150. Average error per prediction in seconds: 249.3368293624175\n",
      "Timeslot: 180. Average error per prediction in seconds: 249.4269757875168\n",
      "Timeslot: 210. Average error per prediction in seconds: 250.48618984412414\n",
      "Timeslot: 240. Average error per prediction in seconds: 251.80115974019293\n",
      "Timeslot: 300. Average error per prediction in seconds: 255.8779019995681\n"
     ]
    }
   ],
   "source": [
    "tl_list = [1, 3, 10, 30, 60, 90, 120, 150, 180, 210, 240, 300]\n",
    "tl_list2 = [180]\n",
    "cross_validation(tl_list)"
   ]
  },
  {
   "cell_type": "markdown",
   "metadata": {},
   "source": [
    "We observed that the minimum error occured on a timeslot of size 150 secs or 2.5 minutes. An error of approximately four minutes was great for our purposes. "
   ]
  },
  {
   "cell_type": "markdown",
   "metadata": {},
   "source": [
    "## Training final model"
   ]
  },
  {
   "cell_type": "code",
   "execution_count": 52,
   "metadata": {},
   "outputs": [],
   "source": [
    "y2_train = y_train.apply(lambda x : x // 150)\n",
    "model = sm.GLM(y2_train, X_train, family=sm.families.Poisson(statsmodels.genmod.families.links.log))\n",
    "model_res = model.fit()"
   ]
  },
  {
   "cell_type": "markdown",
   "metadata": {},
   "source": [
    "## Human VS Machine!"
   ]
  },
  {
   "cell_type": "markdown",
   "metadata": {},
   "source": [
    "Ultimately, just for fun, we decided to create this game to let a user compete with our model.\n",
    "After playing around with it for a while, we were very  pleased to see that our model was quite hard to beat. "
   ]
  },
  {
   "cell_type": "code",
   "execution_count": 53,
   "metadata": {},
   "outputs": [],
   "source": [
    "def human_vs_machine():\n",
    "    \n",
    "    idx = random.randint(0, len(X_cv))\n",
    "    sample = X_cv.iloc[[idx]]\n",
    "    label = y_cv.iloc[[idx]].values[0][0]\n",
    "    \n",
    "    machine_pred = model_res.predict(sample).values[0] * 150\n",
    "    \n",
    "    andrew = \"\"\n",
    "    new_id = \"\"\n",
    "    \n",
    "    first = 0\n",
    "    for col in sample:\n",
    "        if (sample[col].values[0] == 1):\n",
    "            if (first == 0):\n",
    "                andrew = col\n",
    "                first = 1\n",
    "            else:\n",
    "                new_id = col\n",
    "                \n",
    "    \n",
    "    print(\"Helping \" + andrew + \" with \" + new_id + \"!\")\n",
    "    \n",
    "    assignment_stats = df5['HT'].where(df5['new_id'] == new_id).dropna()\n",
    "    plt.hist(assignment_stats, bins=20, range=(0,1800))\n",
    "    \n",
    "    person_stats = df5['HT'].where(df5['andrew_id_hash'] == andrew).dropna()\n",
    "    plt.hist(person_stats, bins=20)\n",
    "    \n",
    "    plt.show()\n",
    "    \n",
    "    human_pred = int(input(\"Predict the Help time!: \"))\n",
    "    \n",
    "    print(\"Your prediction: \" + str(human_pred))\n",
    "    print(\"Machine prediction: \" + str(machine_pred))\n",
    "    print(\"\")\n",
    "    print(\"Actual help time: \" + str(label))\n",
    "    print(\"\")\n",
    "    \n",
    "    human_err = abs(human_pred-label)/label * 100\n",
    "    machine_err = abs(machine_pred-label)/label * 100\n",
    "    print(\"Human error : \" + str(human_err))\n",
    "    print(\"Machine error : \" + str(machine_err))\n",
    "    print(\"\")\n",
    "    \n",
    "    if (human_err > machine_err):\n",
    "        print(\"Machine wins!\")\n",
    "    else:\n",
    "        print(\"You win!\")\n",
    "    "
   ]
  },
  {
   "cell_type": "code",
   "execution_count": 54,
   "metadata": {},
   "outputs": [
    {
     "name": "stdout",
     "output_type": "stream",
     "text": [
      "Helping ee9df52b8820e414b470c173f87d1f9191947508 with queues!\n"
     ]
    },
    {
     "data": {
      "image/png": "[encoded data removed]",
      "text/plain": [
       "<matplotlib.figure.Figure at 0x29b121a34e0>"
      ]
     },
     "metadata": {},
     "output_type": "display_data"
    },
    {
     "name": "stdout",
     "output_type": "stream",
     "text": [
      "Predict the Help time!: 350\n",
      "Your prediction: 350\n",
      "Machine prediction: 308.5920857518558\n",
      "\n",
      "Actual help time: 279\n",
      "\n",
      "Human error : 25.448028673835125\n",
      "Machine error : 10.60648234833541\n",
      "\n",
      "Machine wins!\n"
     ]
    }
   ],
   "source": [
    "human_vs_machine()"
   ]
  },
  {
   "cell_type": "markdown",
   "metadata": {},
   "source": [
    "Thus, ultimately, we ended up with a help time predictor that can be plugged as it is into the current 122 infrastructure for predicting wait times and performs significantly better than the current implementation in use. \n",
    "\n",
    "## Next Steps\n",
    "1. We plan to try out other linear models and a few different sets of features to see if accuracy can be improved over what we have currently achieved. Being just freshman, we still have a lot to learn about this field and will continue working on this project and improving it as our knowledge base increases over the years.\n",
    "\n",
    "2. We are also in talks with the 122 staff about incorporating this and potentially replacing the current prediction algorithm in use, into the OH queue system. This will allow students to get a better estimate of the time they will have to wait at an OH and thus manage their time better. "
   ]
  }
 ],
 "metadata": {
  "kernelspec": {
   "display_name": "Python 3",
   "language": "python",
   "name": "python3"
  },
  "language_info": {
   "codemirror_mode": {
    "name": "ipython",
    "version": 3
   },
   "file_extension": ".py",
   "mimetype": "text/x-python",
   "name": "python",
   "nbconvert_exporter": "python",
   "pygments_lexer": "ipython3",
   "version": "3.6.3"
  }
 },
 "nbformat": 4,
 "nbformat_minor": 2
}
