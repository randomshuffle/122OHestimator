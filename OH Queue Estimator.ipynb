{
 "cells": [
  {
   "cell_type": "code",
   "execution_count": 114,
   "metadata": {},
   "outputs": [],
   "source": [
    "import pandas as pd\n",
    "import numpy as np\n",
    "import matplotlib.pyplot as plt"
   ]
  },
  {
   "cell_type": "markdown",
   "metadata": {},
   "source": [
    "### Obtaining and cleaning data"
   ]
  },
  {
   "cell_type": "code",
   "execution_count": 131,
   "metadata": {},
   "outputs": [],
   "source": [
    "df = pd.read_csv(\"entries.csv\")\n",
    "topics = pd.read_csv(\"topics.csv\")"
   ]
  },
  {
   "cell_type": "code",
   "execution_count": 132,
   "metadata": {},
   "outputs": [
    {
     "name": "stdout",
     "output_type": "stream",
     "text": [
      "17067\n",
      "   id                            andrew_id_hash semester           entry_time  \\\n",
      "0   1  5660915b416b110d3125eddaf15d004c09f2dcf9      S17  2017-01-18 16:30:42   \n",
      "1   2  7a3ff1726a9e59878e74b78b612e705ba388f35c      S17  2017-01-18 16:30:47   \n",
      "2   3  33573dcedddbc5924f4fc0c16db8b901fd1c8286      S17  2017-01-18 16:31:00   \n",
      "3   4  2291bad572687d3d7e8fb1c4c4ad21c0b83c1e67      S17  2017-01-18 16:31:09   \n",
      "4   5  9a08eb5de601714dce83c7c7e5040509349f512c      S17  2017-01-18 16:32:51   \n",
      "\n",
      "             help_time            exit_time  wait_estimate  topic_id  ta_id  \n",
      "0  2017-01-18 16:31:36  2017-01-18 16:31:39            NaN       5.0      8  \n",
      "1  2017-01-18 16:31:44  2017-01-18 16:34:53            NaN       4.0     22  \n",
      "2  2017-01-18 16:32:12  2017-01-18 16:33:05            NaN       4.0     17  \n",
      "3  2017-01-18 16:32:28  2017-01-18 16:38:52            NaN       4.0     16  \n",
      "4  2017-01-18 16:33:15  2017-01-18 16:39:42            0.0       1.0     17  \n",
      "   id             name       out_date       due_date semester\n",
      "0   1    setup (Linux)   1/17/17 0:00   1/24/17 0:00      S17\n",
      "1   2         written1  1/17/17 21:00  1/23/17 21:00      S17\n",
      "2   3         scavhunt  1/19/17 21:00  1/26/17 21:00      S17\n",
      "3   4      setup (Mac)   1/17/17 0:00   1/24/17 0:00      S17\n",
      "4   5  setup (Windows)   1/17/17 0:00   1/24/17 0:00      S17\n"
     ]
    }
   ],
   "source": [
    "print(len(df))\n",
    "print(df.head())\n",
    "print(topics.head())"
   ]
  },
  {
   "cell_type": "code",
   "execution_count": 133,
   "metadata": {},
   "outputs": [
    {
     "name": "stdout",
     "output_type": "stream",
     "text": [
      "16062\n"
     ]
    }
   ],
   "source": [
    "df2 = df.drop(['wait_estimate', 'ta_id', 'id', 'semester'], axis=1)\n",
    "df2 = df2.dropna(axis=0, how='any')\n",
    "print(len(df2))"
   ]
  },
  {
   "cell_type": "code",
   "execution_count": 134,
   "metadata": {},
   "outputs": [
    {
     "name": "stdout",
     "output_type": "stream",
     "text": [
      "<class 'pandas.core.frame.DataFrame'>\n",
      "RangeIndex: 120 entries, 0 to 119\n",
      "Data columns (total 2 columns):\n",
      "id      120 non-null int64\n",
      "name    120 non-null object\n",
      "dtypes: int64(1), object(1)\n",
      "memory usage: 2.0+ KB\n",
      "None\n"
     ]
    }
   ],
   "source": [
    "topics = topics.drop(['out_date', 'due_date', 'semester'], axis=1)\n",
    "print(topics.info())"
   ]
  },
  {
   "cell_type": "code",
   "execution_count": 135,
   "metadata": {},
   "outputs": [
    {
     "name": "stdout",
     "output_type": "stream",
     "text": [
      "<class 'pandas.core.frame.DataFrame'>\n",
      "Int64Index: 16062 entries, 0 to 17066\n",
      "Data columns (total 5 columns):\n",
      "andrew_id_hash    16062 non-null object\n",
      "entry_time        16062 non-null object\n",
      "help_time         16062 non-null object\n",
      "exit_time         16062 non-null object\n",
      "topic_id          16062 non-null float64\n",
      "dtypes: float64(1), object(4)\n",
      "memory usage: 752.9+ KB\n",
      "None\n"
     ]
    }
   ],
   "source": [
    "print(df2.info())"
   ]
  },
  {
   "cell_type": "code",
   "execution_count": 136,
   "metadata": {},
   "outputs": [],
   "source": [
    "df2['entry_time'] = pd.to_datetime(df2['entry_time'])\n",
    "df2['help_time'] = pd.to_datetime(df2['help_time'])\n",
    "df2['exit_time'] = pd.to_datetime(df2['exit_time'])\n",
    "df2['topic_id'] = df2['topic_id'].astype(int)"
   ]
  },
  {
   "cell_type": "code",
   "execution_count": 137,
   "metadata": {},
   "outputs": [
    {
     "name": "stdout",
     "output_type": "stream",
     "text": [
      "<class 'pandas.core.frame.DataFrame'>\n",
      "Int64Index: 16062 entries, 0 to 17066\n",
      "Data columns (total 5 columns):\n",
      "andrew_id_hash    16062 non-null object\n",
      "entry_time        16062 non-null datetime64[ns]\n",
      "help_time         16062 non-null datetime64[ns]\n",
      "exit_time         16062 non-null datetime64[ns]\n",
      "topic_id          16062 non-null int64\n",
      "dtypes: datetime64[ns](3), int64(1), object(1)\n",
      "memory usage: 752.9+ KB\n",
      "None\n"
     ]
    }
   ],
   "source": [
    "print(df2.info())"
   ]
  },
  {
   "cell_type": "code",
   "execution_count": 138,
   "metadata": {},
   "outputs": [],
   "source": [
    "df2['WT'] = (df2['help_time'] - df2['entry_time']).astype('timedelta64[s]').astype(int)\n",
    "df2['HT'] = (df2['exit_time'] - df2['help_time']).astype('timedelta64[s]').astype(int)"
   ]
  },
  {
   "cell_type": "code",
   "execution_count": 139,
   "metadata": {},
   "outputs": [
    {
     "name": "stdout",
     "output_type": "stream",
     "text": [
      "<class 'pandas.core.frame.DataFrame'>\n",
      "Int64Index: 16062 entries, 0 to 17066\n",
      "Data columns (total 4 columns):\n",
      "andrew_id_hash    16062 non-null object\n",
      "WT                16062 non-null int64\n",
      "HT                16062 non-null int64\n",
      "topic_id          16062 non-null int64\n",
      "dtypes: int64(3), object(1)\n",
      "memory usage: 1.2+ MB\n",
      "None\n",
      "                             andrew_id_hash  WT   HT  topic_id\n",
      "0  5660915b416b110d3125eddaf15d004c09f2dcf9  54    3         5\n",
      "1  7a3ff1726a9e59878e74b78b612e705ba388f35c  57  189         4\n",
      "2  33573dcedddbc5924f4fc0c16db8b901fd1c8286  72   53         4\n",
      "3  2291bad572687d3d7e8fb1c4c4ad21c0b83c1e67  79  384         4\n",
      "4  9a08eb5de601714dce83c7c7e5040509349f512c  24  387         1\n",
      "   id             name\n",
      "0   1    setup (Linux)\n",
      "1   2         written1\n",
      "2   3         scavhunt\n",
      "3   4      setup (Mac)\n",
      "4   5  setup (Windows)\n"
     ]
    }
   ],
   "source": [
    "df3 = df2[['andrew_id_hash', 'WT', 'HT', 'topic_id']]\n",
    "print(df3.info())\n",
    "print(df3.head())\n",
    "print(topics.head())"
   ]
  },
  {
   "cell_type": "code",
   "execution_count": 140,
   "metadata": {},
   "outputs": [
    {
     "name": "stdout",
     "output_type": "stream",
     "text": [
      "15533\n"
     ]
    }
   ],
   "source": [
    "df3 = df3.where(df3['HT'] > 30).dropna()\n",
    "df3 = df3.where(df3['HT'] < 2700).dropna()\n",
    "print(len(df3))"
   ]
  },
  {
   "cell_type": "markdown",
   "metadata": {},
   "source": [
    "### Merging with the topic list"
   ]
  },
  {
   "cell_type": "code",
   "execution_count": 221,
   "metadata": {},
   "outputs": [
    {
     "name": "stdout",
     "output_type": "stream",
     "text": [
      "                             andrew_id_hash   WT   HT         name\n",
      "0  7a3ff1726a9e59878e74b78b612e705ba388f35c   57  189  setup (Mac)\n",
      "1  33573dcedddbc5924f4fc0c16db8b901fd1c8286   72   53  setup (Mac)\n",
      "2  2291bad572687d3d7e8fb1c4c4ad21c0b83c1e67   79  384  setup (Mac)\n",
      "3  9bf345f89e209ba0c0cf5ffb6a450669fdc96910  116   61  setup (Mac)\n",
      "4  8098b7df9506a418f44cbf339a82d59f8c4b0391  126  145  setup (Mac)\n",
      "15533\n"
     ]
    }
   ],
   "source": [
    "df4 = df3.merge(topics, left_on='topic_id', right_on='id')\n",
    "df4 = df4.drop(['topic_id', 'id'], axis=1)\n",
    "df4['WT'] = df4['WT'].astype(int)\n",
    "df4['HT'] = df4['HT'].astype(int)\n",
    "print(df4.head())\n",
    "print(len(df4))"
   ]
  },
  {
   "cell_type": "code",
   "execution_count": 222,
   "metadata": {},
   "outputs": [
    {
     "name": "stdout",
     "output_type": "stream",
     "text": [
      "['setup (Mac)' 'setup (Linux)' 'setup (Windows)' 'written1' 'scavhunt'\n",
      " 'written2' 'pixels' 'written3' 'images' 'written4' 'doslingos'\n",
      " 'images style' 'written5' 'midterm1' 'written6' 'clac-exp' 'written7'\n",
      " 'tbuf' 'exp style' 'written8' 'bloom' 'written9' 'ropes' 'written10'\n",
      " 'queues' 'written11' 'lightsout' 'written12' 'c0vm' 'written13' 'speller'\n",
      " 'exam1' 'clac' 'exam3' 'editor-check' 'editor' 'midterm2' 'strbuf'\n",
      " 'huffman' 'final']\n"
     ]
    }
   ],
   "source": [
    "topiclist = df4['name'].unique()\n",
    "print(topiclist)"
   ]
  },
  {
   "cell_type": "code",
   "execution_count": 223,
   "metadata": {},
   "outputs": [],
   "source": [
    "topicmap = {}\n",
    "for topic in topiclist:\n",
    "    if (topic[:7] == 'written'):\n",
    "        topicmap[topic] = 'written'\n",
    "    elif (topic[-5:] == 'style'):\n",
    "        topicmap[topic] = 'style'\n",
    "    elif (topic == 'midterm1' or topic == 'midterm2' or topic == 'final' or topic == 'exam1' or topic == 'exam2' or topic == 'exam3'):\n",
    "        topicmap[topic] = 'exam'\n",
    "    else:\n",
    "        topicmap[topic] = topic"
   ]
  },
  {
   "cell_type": "code",
   "execution_count": 224,
   "metadata": {},
   "outputs": [
    {
     "name": "stdout",
     "output_type": "stream",
     "text": [
      "['setup (Mac)' 'setup (Linux)' 'setup (Windows)' 'written' 'scavhunt'\n",
      " 'pixels' 'images' 'doslingos' 'style' 'exam' 'clac-exp' 'tbuf' 'bloom'\n",
      " 'ropes' 'queues' 'lightsout' 'c0vm' 'speller' 'clac' 'editor-check'\n",
      " 'editor' 'strbuf' 'huffman']\n",
      "                             andrew_id_hash   WT   HT       new_id\n",
      "0  7a3ff1726a9e59878e74b78b612e705ba388f35c   57  189  setup (Mac)\n",
      "1  33573dcedddbc5924f4fc0c16db8b901fd1c8286   72   53  setup (Mac)\n",
      "2  2291bad572687d3d7e8fb1c4c4ad21c0b83c1e67   79  384  setup (Mac)\n",
      "3  9bf345f89e209ba0c0cf5ffb6a450669fdc96910  116   61  setup (Mac)\n",
      "4  8098b7df9506a418f44cbf339a82d59f8c4b0391  126  145  setup (Mac)\n"
     ]
    }
   ],
   "source": [
    "df4['new_id'] = df4['name'].apply(lambda x : topicmap[x])\n",
    "df5 = df4.drop(['name'], axis=1)\n",
    "print(df5['new_id'].unique())\n",
    "print(df5.head())"
   ]
  },
  {
   "cell_type": "code",
   "execution_count": 225,
   "metadata": {},
   "outputs": [
    {
     "name": "stdout",
     "output_type": "stream",
     "text": [
      "written            3945\n",
      "c0vm               1758\n",
      "ropes              1024\n",
      "lightsout          1022\n",
      "style               709\n",
      "queues              701\n",
      "images              697\n",
      "bloom               651\n",
      "tbuf                570\n",
      "pixels              555\n",
      "clac-exp            504\n",
      "doslingos           493\n",
      "exam                428\n",
      "huffman             420\n",
      "strbuf              352\n",
      "clac                342\n",
      "speller             321\n",
      "scavhunt            290\n",
      "editor              236\n",
      "setup (Mac)         230\n",
      "editor-check        154\n",
      "setup (Windows)     120\n",
      "setup (Linux)        11\n",
      "Name: new_id, dtype: int64\n"
     ]
    }
   ],
   "source": [
    "print(df5['new_id'].value_counts())"
   ]
  },
  {
   "cell_type": "code",
   "execution_count": 226,
   "metadata": {},
   "outputs": [
    {
     "name": "stdout",
     "output_type": "stream",
     "text": [
      "1003\n",
      "757\n",
      "209\n",
      "21cb1f9adbacb7cf4bfb15085966652648310c05    297.0\n",
      "9552e74bcf06aaccfc4ac863c57ac0c8040d7640    233.0\n",
      "40ad830a60baf6e374a0806135957ca5daa3f7ca    199.0\n",
      "b3410512fdbf24a6ab4ee26c44d72942f29d7054    191.0\n",
      "1e71f0a29beb17e4924590a0bba9170aefc0e346    176.0\n",
      "ee9df52b8820e414b470c173f87d1f9191947508    171.0\n",
      "b94f8abee597235b3295f127dcce8027bd6a3510    162.0\n",
      "5660915b416b110d3125eddaf15d004c09f2dcf9    161.0\n",
      "fc66dfab82fdad061547aa40cdf9c33329d35928    151.0\n",
      "3e236fb0e2c1fbd7140c029ca6ba44a831775256    142.0\n",
      "e95edbc398975eb64a9b9d396b445669adbbb586    139.0\n",
      "9641cfd54915b40ee1a83fc5e7caa0e75fa7ecae    125.0\n",
      "fcd7f19d1b99ab5e1897984c08887df30eb0449b    120.0\n",
      "9af33cc369b031fb335f04660b1207915496e40f    120.0\n",
      "773f5f725a8f8c491d73539ad76c752d9457993b    118.0\n",
      "00cb4d194d9203f201f0608575e0cab8e78aaf78    115.0\n",
      "0b4c1ae362a828b876ac9ac88082161a57b3750c    107.0\n",
      "4e91b67af0b399db887b7b186c6437e92190db66    106.0\n",
      "a34e6dcd71b7cbd85572e920a11dd05fc0223b8c    106.0\n",
      "e740b05973b3001388429e166c9bf301ea43dfc2    105.0\n",
      "ae0e49a9e50fa38c65f0a09a503b0827a2131947    103.0\n",
      "3e02642b9fe7058bfc194716f70ad79ffebfc730    103.0\n",
      "31c06a4d1d0c604dcf240d43dd0d364ed21a3869    103.0\n",
      "3d6aa4ff3b4286cdc215c73d79b584df1a777a96    102.0\n",
      "63caea29f0c23d186273efd85721e58288f82130     97.0\n",
      "7a3ff1726a9e59878e74b78b612e705ba388f35c     96.0\n",
      "043f25b4402086ef46ab83c01b061911324ed320     95.0\n",
      "041d5876aff768aec01146ca1c38b41d9ff86dc5     94.0\n",
      "0301ce2ebf8e6acc96675078ec31915271ade772     92.0\n",
      "39336da3a02c026b0c12605951c433d870e4e021     91.0\n",
      "                                            ...  \n",
      "13f49095a84a678a942a847afe5947820ebce1a3     12.0\n",
      "08020ea2213623e8b3b6f4686dbdc12bf3e1669f     12.0\n",
      "6b76b0a17c0280e67db38b5473229ee2520e398d     12.0\n",
      "ea8773a50f8d2a535315e9057028289a8fd3e02d     12.0\n",
      "8062624b2a0e63429aec70cb1f934fee704435ef     12.0\n",
      "76b666ff15995a70a41331f061850ee82294c43a     12.0\n",
      "37f0f51c57e6e33fa548ddbc3efb9f94111bbc79     12.0\n",
      "59d8475e437f4eb54794b6a11a271a8d12beec7b     12.0\n",
      "2a00d3f90caf7d88fa184ddebad47b9e3fb7f5a6     12.0\n",
      "f0feca71d9fbb60bdabea63cb5ad6b75e3a0ca1d     12.0\n",
      "71da11206ef6c10b692e263240d7fbbd60d87fc6     12.0\n",
      "c18c10d143fea7f55401c71f7a1f685fc248ea86     11.0\n",
      "e7685ebac46af7caddac9e8cbbad7d5c7005de9d     11.0\n",
      "cbfc2ad6a0e7caf204ffaa3fa3fb79e160158855     11.0\n",
      "1c3a0ae9996ef2da3abbff59de6f368f16cdbcc7     11.0\n",
      "4264d8a93ff4fef8edfecda38ca9676a82f2d3ba     11.0\n",
      "492333bcb6b4257abd4e8b1d5a4b76e91ee75f0a     11.0\n",
      "7938be65cd2c79192b13e9d8716d65db29ad75df     11.0\n",
      "3b6802bc37f49ff50b654b694684d905625d54d3     11.0\n",
      "d1b7f8c5b8722e228fbe31695cb044b541f2f227     11.0\n",
      "7754767892b082c0d16b457e2ffe303de439c131     11.0\n",
      "590644fec550ce235ce0bf7a24bbfb7a2c536f4e     11.0\n",
      "81e877faf250aa3c2fc7ed90be433dc11b9513a3     11.0\n",
      "5bc97e2e81c49356cc716e20517b7c64b3008c8d     11.0\n",
      "42064e9a9e14378becee617103935efa96a49a8d     11.0\n",
      "06caf76b6932f8bbe05f8cf97ed937ef8ff39093     11.0\n",
      "de12906e0db36d2e4bbc1c5ff90414836ec64fd0     11.0\n",
      "2b433ff285f4e8913152d8db94952b20e263839e     11.0\n",
      "92e0730924f4a1082e5c2760438bfc13d2065d2d     11.0\n",
      "f2fc1d050b679b69b9b9f1995aec92792b7a1407     11.0\n",
      "Name: andrew_id_hash, Length: 349, dtype: float64\n"
     ]
    }
   ],
   "source": [
    "print(len(df5['andrew_id_hash'].value_counts().where(df5['andrew_id_hash'].value_counts() > 0).dropna()))\n",
    "print(len(df5['andrew_id_hash'].value_counts().where(df5['andrew_id_hash'].value_counts() > 1).dropna()))\n",
    "print(len(df5['andrew_id_hash'].value_counts().where(df5['andrew_id_hash'].value_counts() > 20).dropna()))\n",
    "print(df5['andrew_id_hash'].value_counts().where(df5['andrew_id_hash'].value_counts() > 10).dropna())"
   ]
  },
  {
   "cell_type": "markdown",
   "metadata": {},
   "source": [
    "### Visualization"
   ]
  },
  {
   "cell_type": "code",
   "execution_count": 248,
   "metadata": {},
   "outputs": [
    {
     "data": {
      "text/plain": [
       "(array([ 361.,  502.,  464.,  431.,  319.,  296.,  253.,  217.,  166.,\n",
       "         130.,  117.,   87.,   97.,   81.,   60.,   47.,   34.,   40.,\n",
       "          34.,   20.,   26.,   20.,   14.,   19.,   18.,   10.,   16.,\n",
       "          10.,    5.,    5.,    2.,    5.,    9.,    5.,    6.,    2.,\n",
       "           4.,    1.,    4.,    2.,    0.,    1.,    1.,    0.,    1.,\n",
       "           1.,    0.,    1.,    0.,    1.]),\n",
       " array([   31.  ,    83.82,   136.64,   189.46,   242.28,   295.1 ,\n",
       "          347.92,   400.74,   453.56,   506.38,   559.2 ,   612.02,\n",
       "          664.84,   717.66,   770.48,   823.3 ,   876.12,   928.94,\n",
       "          981.76,  1034.58,  1087.4 ,  1140.22,  1193.04,  1245.86,\n",
       "         1298.68,  1351.5 ,  1404.32,  1457.14,  1509.96,  1562.78,\n",
       "         1615.6 ,  1668.42,  1721.24,  1774.06,  1826.88,  1879.7 ,\n",
       "         1932.52,  1985.34,  2038.16,  2090.98,  2143.8 ,  2196.62,\n",
       "         2249.44,  2302.26,  2355.08,  2407.9 ,  2460.72,  2513.54,\n",
       "         2566.36,  2619.18,  2672.  ]),\n",
       " <a list of 50 Patch objects>)"
      ]
     },
     "execution_count": 248,
     "metadata": {},
     "output_type": "execute_result"
    },
    {
     "data": {
      "image/png": "[encoded data removed]",
      "text/plain": [
       "<matplotlib.figure.Figure at 0x10f028668>"
      ]
     },
     "metadata": {},
     "output_type": "display_data"
    }
   ],
   "source": [
    "writtens = df5['HT'].where(df5['new_id'] == 'written').dropna()\n",
    "plt.hist(writtens, bins=50)"
   ]
  },
  {
   "cell_type": "code",
   "execution_count": 249,
   "metadata": {},
   "outputs": [
    {
     "data": {
      "text/plain": [
       "(array([  79.,  118.,  137.,  153.,  132.,  100.,  122.,  106.,   75.,\n",
       "          75.,   75.,   54.,   51.,   64.,   47.,   43.,   35.,   23.,\n",
       "          33.,   19.,   20.,   20.,   18.,   17.,    9.,   18.,   10.,\n",
       "           9.,   12.,   13.,    2.,    9.,    7.,    4.,    2.,    1.,\n",
       "           7.,    5.,    2.,    3.,    2.,    3.,    2.,    5.,    4.,\n",
       "           4.,    1.,    4.,    2.,    2.]),\n",
       " array([   31.  ,    83.96,   136.92,   189.88,   242.84,   295.8 ,\n",
       "          348.76,   401.72,   454.68,   507.64,   560.6 ,   613.56,\n",
       "          666.52,   719.48,   772.44,   825.4 ,   878.36,   931.32,\n",
       "          984.28,  1037.24,  1090.2 ,  1143.16,  1196.12,  1249.08,\n",
       "         1302.04,  1355.  ,  1407.96,  1460.92,  1513.88,  1566.84,\n",
       "         1619.8 ,  1672.76,  1725.72,  1778.68,  1831.64,  1884.6 ,\n",
       "         1937.56,  1990.52,  2043.48,  2096.44,  2149.4 ,  2202.36,\n",
       "         2255.32,  2308.28,  2361.24,  2414.2 ,  2467.16,  2520.12,\n",
       "         2573.08,  2626.04,  2679.  ]),\n",
       " <a list of 50 Patch objects>)"
      ]
     },
     "execution_count": 249,
     "metadata": {},
     "output_type": "execute_result"
    },
    {
     "data": {
      "image/png": "[encoded data removed]",
      "text/plain": [
       "<matplotlib.figure.Figure at 0x10e497588>"
      ]
     },
     "metadata": {},
     "output_type": "display_data"
    }
   ],
   "source": [
    "c0vm = df5['HT'].where(df5['new_id'] == 'c0vm').dropna()\n",
    "plt.hist(c0vm, bins=50)"
   ]
  },
  {
   "cell_type": "code",
   "execution_count": 250,
   "metadata": {},
   "outputs": [
    {
     "data": {
      "text/plain": [
       "(array([ 17.,  17.,  23.,  25.,  25.,  28.,  23.,  15.,  24.,  19.,  16.,\n",
       "          8.,  15.,  14.,  19.,  12.,  15.,   6.,   8.,  11.,   7.,   6.,\n",
       "          7.,   7.,   4.,   4.,   5.,   3.,   4.,   3.,   2.,   4.,   2.,\n",
       "          4.,   3.,   2.,   1.,   4.,   2.,   0.,   0.,   0.,   0.,   1.,\n",
       "          0.,   1.,   2.,   0.,   0.,   2.]),\n",
       " array([   40.  ,    91.54,   143.08,   194.62,   246.16,   297.7 ,\n",
       "          349.24,   400.78,   452.32,   503.86,   555.4 ,   606.94,\n",
       "          658.48,   710.02,   761.56,   813.1 ,   864.64,   916.18,\n",
       "          967.72,  1019.26,  1070.8 ,  1122.34,  1173.88,  1225.42,\n",
       "         1276.96,  1328.5 ,  1380.04,  1431.58,  1483.12,  1534.66,\n",
       "         1586.2 ,  1637.74,  1689.28,  1740.82,  1792.36,  1843.9 ,\n",
       "         1895.44,  1946.98,  1998.52,  2050.06,  2101.6 ,  2153.14,\n",
       "         2204.68,  2256.22,  2307.76,  2359.3 ,  2410.84,  2462.38,\n",
       "         2513.92,  2565.46,  2617.  ]),\n",
       " <a list of 50 Patch objects>)"
      ]
     },
     "execution_count": 250,
     "metadata": {},
     "output_type": "execute_result"
    },
    {
     "data": {
      "image/png": "[encoded data removed]",
      "text/plain": [
       "<matplotlib.figure.Figure at 0x10e643cf8>"
      ]
     },
     "metadata": {},
     "output_type": "display_data"
    }
   ],
   "source": [
    "huffman = df5['HT'].where(df5['new_id'] == 'huffman').dropna()\n",
    "plt.hist(huffman, bins=50)"
   ]
  },
  {
   "cell_type": "code",
   "execution_count": 231,
   "metadata": {},
   "outputs": [
    {
     "data": {
      "text/plain": [
       "(array([ 30.,  38.,  44.,  34.,  40.,  25.,  26.,  10.,  12.,   5.,   8.,\n",
       "          7.,   5.,   4.,   2.,   4.,   1.,   0.,   1.,   1.]),\n",
       " array([   39.  ,   167.35,   295.7 ,   424.05,   552.4 ,   680.75,\n",
       "          809.1 ,   937.45,  1065.8 ,  1194.15,  1322.5 ,  1450.85,\n",
       "         1579.2 ,  1707.55,  1835.9 ,  1964.25,  2092.6 ,  2220.95,\n",
       "         2349.3 ,  2477.65,  2606.  ]),\n",
       " <a list of 20 Patch objects>)"
      ]
     },
     "execution_count": 231,
     "metadata": {},
     "output_type": "execute_result"
    },
    {
     "data": {
      "image/png": "[encoded data removed]",
      "text/plain": [
       "<matplotlib.figure.Figure at 0x10ee53898>"
      ]
     },
     "metadata": {},
     "output_type": "display_data"
    }
   ],
   "source": [
    "helpthispersonpls297 = df5['HT'].where(df5['andrew_id_hash'] == '21cb1f9adbacb7cf4bfb15085966652648310c05').dropna()\n",
    "plt.hist(helpthispersonpls297, bins=20)"
   ]
  },
  {
   "cell_type": "code",
   "execution_count": 232,
   "metadata": {},
   "outputs": [
    {
     "data": {
      "text/plain": [
       "(array([ 18.,   8.,  16.,  12.,   9.,   8.,   3.,   4.,   1.,   0.,   7.,\n",
       "          1.,   0.,   0.,   1.,   1.,   0.,   1.,   0.,   1.]),\n",
       " array([   58. ,   172.3,   286.6,   400.9,   515.2,   629.5,   743.8,\n",
       "          858.1,   972.4,  1086.7,  1201. ,  1315.3,  1429.6,  1543.9,\n",
       "         1658.2,  1772.5,  1886.8,  2001.1,  2115.4,  2229.7,  2344. ]),\n",
       " <a list of 20 Patch objects>)"
      ]
     },
     "execution_count": 232,
     "metadata": {},
     "output_type": "execute_result"
    },
    {
     "data": {
      "image/png": "[encoded data removed]",
      "text/plain": [
       "<matplotlib.figure.Figure at 0x10edfc9e8>"
      ]
     },
     "metadata": {},
     "output_type": "display_data"
    }
   ],
   "source": [
    "helpthispersonpls91 = df5['HT'].where(df5['andrew_id_hash'] == '39336da3a02c026b0c12605951c433d870e4e021').dropna()\n",
    "plt.hist(helpthispersonpls91, bins=20)"
   ]
  },
  {
   "cell_type": "code",
   "execution_count": 245,
   "metadata": {},
   "outputs": [],
   "source": [
    "def game():\n",
    "    \n",
    "    record = df5.sample()\n",
    "    andrew = record['andrew_id_hash'].to_string(header=False, index=False)\n",
    "    ht = int(record['HT'].to_string(header=False, index=False))\n",
    "    new_id = record['new_id'].to_string(header=False, index=False)\n",
    "    \n",
    "    print(\"Helping \" + andrew + \" with \" + new_id + \"!\")\n",
    "    \n",
    "    assignment_stats = df5['HT'].where(df5['new_id'] == new_id).dropna()\n",
    "    plt.hist(assignment_stats, bins=20, range=(0,1800))\n",
    "    \n",
    "    person_stats = df5['HT'].where(df5['andrew_id_hash'] == andrew).dropna()\n",
    "    plt.hist(person_stats, bins=20)\n",
    "    \n",
    "    plt.show()\n",
    "    \n",
    "    prediction = int(input(\"Predict the Help time!: \"))\n",
    "    \n",
    "    print(\"Your prediction: \" + str(prediction))\n",
    "    print(\"Actual help time: \" + str(ht))\n",
    "    print(\"Error is: \" + str(abs(prediction-ht)/ht * 100))"
   ]
  },
  {
   "cell_type": "code",
   "execution_count": 251,
   "metadata": {},
   "outputs": [
    {
     "name": "stdout",
     "output_type": "stream",
     "text": [
      "Helping 57c2fcd817b3483e5b1f8ea7feb59c4fd2a6af0a with huffman!\n"
     ]
    },
    {
     "data": {
      "image/png": "[encoded data removed]",
      "text/plain": [
       "<matplotlib.figure.Figure at 0x10e540550>"
      ]
     },
     "metadata": {},
     "output_type": "display_data"
    },
    {
     "name": "stdout",
     "output_type": "stream",
     "text": [
      "Predict the Help time!: 500\n",
      "Your prediction: 500\n",
      "Actual help time: 612\n",
      "Error is: 18.30065359477124\n"
     ]
    }
   ],
   "source": [
    "game()"
   ]
  },
  {
   "cell_type": "code",
   "execution_count": null,
   "metadata": {},
   "outputs": [],
   "source": []
  }
 ],
 "metadata": {
  "kernelspec": {
   "display_name": "Python 3",
   "language": "python",
   "name": "python3"
  },
  "language_info": {
   "codemirror_mode": {
    "name": "ipython",
    "version": 3
   },
   "file_extension": ".py",
   "mimetype": "text/x-python",
   "name": "python",
   "nbconvert_exporter": "python",
   "pygments_lexer": "ipython3",
   "version": "3.6.2"
  }
 },
 "nbformat": 4,
 "nbformat_minor": 2
}
