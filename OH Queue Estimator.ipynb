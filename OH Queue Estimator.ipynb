{
 "cells": [
  {
   "cell_type": "code",
   "execution_count": 72,
   "metadata": {},
   "outputs": [],
   "source": [
    "import pandas as pd\n",
    "import numpy as np\n",
    "import matplotlib.pyplot as plt\n",
    "import statsmodels.api as sm\n",
    "import random"
   ]
  },
  {
   "cell_type": "markdown",
   "metadata": {},
   "source": [
    "### Obtaining and cleaning data"
   ]
  },
  {
   "cell_type": "code",
   "execution_count": 9,
   "metadata": {},
   "outputs": [],
   "source": [
    "df = pd.read_csv(\"entries.csv\")\n",
    "topics = pd.read_csv(\"topics.csv\")"
   ]
  },
  {
   "cell_type": "code",
   "execution_count": 10,
   "metadata": {},
   "outputs": [
    {
     "name": "stdout",
     "output_type": "stream",
     "text": [
      "17067\n",
      "   id                            andrew_id_hash semester           entry_time  \\\n",
      "0   1  5660915b416b110d3125eddaf15d004c09f2dcf9      S17  2017-01-18 16:30:42   \n",
      "1   2  7a3ff1726a9e59878e74b78b612e705ba388f35c      S17  2017-01-18 16:30:47   \n",
      "2   3  33573dcedddbc5924f4fc0c16db8b901fd1c8286      S17  2017-01-18 16:31:00   \n",
      "3   4  2291bad572687d3d7e8fb1c4c4ad21c0b83c1e67      S17  2017-01-18 16:31:09   \n",
      "4   5  9a08eb5de601714dce83c7c7e5040509349f512c      S17  2017-01-18 16:32:51   \n",
      "\n",
      "             help_time            exit_time  wait_estimate  topic_id  ta_id  \n",
      "0  2017-01-18 16:31:36  2017-01-18 16:31:39            NaN       5.0      8  \n",
      "1  2017-01-18 16:31:44  2017-01-18 16:34:53            NaN       4.0     22  \n",
      "2  2017-01-18 16:32:12  2017-01-18 16:33:05            NaN       4.0     17  \n",
      "3  2017-01-18 16:32:28  2017-01-18 16:38:52            NaN       4.0     16  \n",
      "4  2017-01-18 16:33:15  2017-01-18 16:39:42            0.0       1.0     17  \n",
      "   id             name       out_date       due_date semester\n",
      "0   1    setup (Linux)   1/17/17 0:00   1/24/17 0:00      S17\n",
      "1   2         written1  1/17/17 21:00  1/23/17 21:00      S17\n",
      "2   3         scavhunt  1/19/17 21:00  1/26/17 21:00      S17\n",
      "3   4      setup (Mac)   1/17/17 0:00   1/24/17 0:00      S17\n",
      "4   5  setup (Windows)   1/17/17 0:00   1/24/17 0:00      S17\n"
     ]
    }
   ],
   "source": [
    "print(len(df))\n",
    "print(df.head())\n",
    "print(topics.head())"
   ]
  },
  {
   "cell_type": "code",
   "execution_count": 11,
   "metadata": {},
   "outputs": [
    {
     "name": "stdout",
     "output_type": "stream",
     "text": [
      "16062\n"
     ]
    }
   ],
   "source": [
    "df2 = df.drop(['wait_estimate', 'ta_id', 'id', 'semester'], axis=1)\n",
    "df2 = df2.dropna(axis=0, how='any')\n",
    "print(len(df2))"
   ]
  },
  {
   "cell_type": "code",
   "execution_count": 12,
   "metadata": {},
   "outputs": [
    {
     "name": "stdout",
     "output_type": "stream",
     "text": [
      "<class 'pandas.core.frame.DataFrame'>\n",
      "RangeIndex: 120 entries, 0 to 119\n",
      "Data columns (total 2 columns):\n",
      "id      120 non-null int64\n",
      "name    120 non-null object\n",
      "dtypes: int64(1), object(1)\n",
      "memory usage: 2.0+ KB\n",
      "None\n"
     ]
    }
   ],
   "source": [
    "topics = topics.drop(['out_date', 'due_date', 'semester'], axis=1)\n",
    "print(topics.info())"
   ]
  },
  {
   "cell_type": "code",
   "execution_count": 13,
   "metadata": {},
   "outputs": [
    {
     "name": "stdout",
     "output_type": "stream",
     "text": [
      "<class 'pandas.core.frame.DataFrame'>\n",
      "Int64Index: 16062 entries, 0 to 17066\n",
      "Data columns (total 5 columns):\n",
      "andrew_id_hash    16062 non-null object\n",
      "entry_time        16062 non-null object\n",
      "help_time         16062 non-null object\n",
      "exit_time         16062 non-null object\n",
      "topic_id          16062 non-null float64\n",
      "dtypes: float64(1), object(4)\n",
      "memory usage: 752.9+ KB\n",
      "None\n"
     ]
    }
   ],
   "source": [
    "print(df2.info())"
   ]
  },
  {
   "cell_type": "code",
   "execution_count": 14,
   "metadata": {},
   "outputs": [],
   "source": [
    "df2['entry_time'] = pd.to_datetime(df2['entry_time'])\n",
    "df2['help_time'] = pd.to_datetime(df2['help_time'])\n",
    "df2['exit_time'] = pd.to_datetime(df2['exit_time'])\n",
    "df2['topic_id'] = df2['topic_id'].astype(int)"
   ]
  },
  {
   "cell_type": "code",
   "execution_count": 15,
   "metadata": {},
   "outputs": [
    {
     "name": "stdout",
     "output_type": "stream",
     "text": [
      "<class 'pandas.core.frame.DataFrame'>\n",
      "Int64Index: 16062 entries, 0 to 17066\n",
      "Data columns (total 5 columns):\n",
      "andrew_id_hash    16062 non-null object\n",
      "entry_time        16062 non-null datetime64[ns]\n",
      "help_time         16062 non-null datetime64[ns]\n",
      "exit_time         16062 non-null datetime64[ns]\n",
      "topic_id          16062 non-null int64\n",
      "dtypes: datetime64[ns](3), int64(1), object(1)\n",
      "memory usage: 752.9+ KB\n",
      "None\n"
     ]
    }
   ],
   "source": [
    "print(df2.info())"
   ]
  },
  {
   "cell_type": "code",
   "execution_count": 16,
   "metadata": {},
   "outputs": [],
   "source": [
    "df2['WT'] = (df2['help_time'] - df2['entry_time']).astype('timedelta64[s]').astype(int)\n",
    "df2['HT'] = (df2['exit_time'] - df2['help_time']).astype('timedelta64[s]').astype(int)"
   ]
  },
  {
   "cell_type": "code",
   "execution_count": 17,
   "metadata": {},
   "outputs": [
    {
     "name": "stdout",
     "output_type": "stream",
     "text": [
      "<class 'pandas.core.frame.DataFrame'>\n",
      "Int64Index: 16062 entries, 0 to 17066\n",
      "Data columns (total 4 columns):\n",
      "andrew_id_hash    16062 non-null object\n",
      "WT                16062 non-null int64\n",
      "HT                16062 non-null int64\n",
      "topic_id          16062 non-null int64\n",
      "dtypes: int64(3), object(1)\n",
      "memory usage: 1.2+ MB\n",
      "None\n",
      "                             andrew_id_hash  WT   HT  topic_id\n",
      "0  5660915b416b110d3125eddaf15d004c09f2dcf9  54    3         5\n",
      "1  7a3ff1726a9e59878e74b78b612e705ba388f35c  57  189         4\n",
      "2  33573dcedddbc5924f4fc0c16db8b901fd1c8286  72   53         4\n",
      "3  2291bad572687d3d7e8fb1c4c4ad21c0b83c1e67  79  384         4\n",
      "4  9a08eb5de601714dce83c7c7e5040509349f512c  24  387         1\n",
      "   id             name\n",
      "0   1    setup (Linux)\n",
      "1   2         written1\n",
      "2   3         scavhunt\n",
      "3   4      setup (Mac)\n",
      "4   5  setup (Windows)\n"
     ]
    }
   ],
   "source": [
    "df3 = df2[['andrew_id_hash', 'WT', 'HT', 'topic_id']]\n",
    "print(df3.info())\n",
    "print(df3.head())\n",
    "print(topics.head())"
   ]
  },
  {
   "cell_type": "code",
   "execution_count": 18,
   "metadata": {},
   "outputs": [
    {
     "name": "stdout",
     "output_type": "stream",
     "text": [
      "15533\n"
     ]
    }
   ],
   "source": [
    "df3 = df3.where(df3['HT'] > 30).dropna()\n",
    "df3 = df3.where(df3['HT'] < 2700).dropna()\n",
    "print(len(df3))"
   ]
  },
  {
   "cell_type": "markdown",
   "metadata": {},
   "source": [
    "### Merging with the topic list"
   ]
  },
  {
   "cell_type": "code",
   "execution_count": 19,
   "metadata": {},
   "outputs": [
    {
     "name": "stdout",
     "output_type": "stream",
     "text": [
      "                             andrew_id_hash   WT   HT         name\n",
      "0  7a3ff1726a9e59878e74b78b612e705ba388f35c   57  189  setup (Mac)\n",
      "1  33573dcedddbc5924f4fc0c16db8b901fd1c8286   72   53  setup (Mac)\n",
      "2  2291bad572687d3d7e8fb1c4c4ad21c0b83c1e67   79  384  setup (Mac)\n",
      "3  9bf345f89e209ba0c0cf5ffb6a450669fdc96910  116   61  setup (Mac)\n",
      "4  8098b7df9506a418f44cbf339a82d59f8c4b0391  126  145  setup (Mac)\n",
      "15533\n"
     ]
    }
   ],
   "source": [
    "df4 = df3.merge(topics, left_on='topic_id', right_on='id')\n",
    "df4 = df4.drop(['topic_id', 'id'], axis=1)\n",
    "df4['WT'] = df4['WT'].astype(int)\n",
    "df4['HT'] = df4['HT'].astype(int)\n",
    "print(df4.head())\n",
    "print(len(df4))"
   ]
  },
  {
   "cell_type": "code",
   "execution_count": 20,
   "metadata": {},
   "outputs": [
    {
     "name": "stdout",
     "output_type": "stream",
     "text": [
      "['setup (Mac)' 'setup (Linux)' 'setup (Windows)' 'written1' 'scavhunt'\n",
      " 'written2' 'pixels' 'written3' 'images' 'written4' 'doslingos'\n",
      " 'images style' 'written5' 'midterm1' 'written6' 'clac-exp' 'written7'\n",
      " 'tbuf' 'exp style' 'written8' 'bloom' 'written9' 'ropes' 'written10'\n",
      " 'queues' 'written11' 'lightsout' 'written12' 'c0vm' 'written13' 'speller'\n",
      " 'exam1' 'clac' 'exam3' 'editor-check' 'editor' 'midterm2' 'strbuf'\n",
      " 'huffman' 'final']\n"
     ]
    }
   ],
   "source": [
    "topiclist = df4['name'].unique()\n",
    "print(topiclist)"
   ]
  },
  {
   "cell_type": "code",
   "execution_count": 21,
   "metadata": {},
   "outputs": [],
   "source": [
    "topicmap = {}\n",
    "for topic in topiclist:\n",
    "    if (topic[:7] == 'written'):\n",
    "        topicmap[topic] = 'written'\n",
    "    elif (topic[-5:] == 'style'):\n",
    "        topicmap[topic] = 'style'\n",
    "    elif (topic == 'midterm1' or topic == 'midterm2' or topic == 'final' or topic == 'exam1' or topic == 'exam2' or topic == 'exam3'):\n",
    "        topicmap[topic] = 'exam'\n",
    "    else:\n",
    "        topicmap[topic] = topic"
   ]
  },
  {
   "cell_type": "code",
   "execution_count": 22,
   "metadata": {},
   "outputs": [
    {
     "name": "stdout",
     "output_type": "stream",
     "text": [
      "['setup (Mac)' 'setup (Linux)' 'setup (Windows)' 'written' 'scavhunt'\n",
      " 'pixels' 'images' 'doslingos' 'style' 'exam' 'clac-exp' 'tbuf' 'bloom'\n",
      " 'ropes' 'queues' 'lightsout' 'c0vm' 'speller' 'clac' 'editor-check'\n",
      " 'editor' 'strbuf' 'huffman']\n",
      "                             andrew_id_hash   WT   HT       new_id\n",
      "0  7a3ff1726a9e59878e74b78b612e705ba388f35c   57  189  setup (Mac)\n",
      "1  33573dcedddbc5924f4fc0c16db8b901fd1c8286   72   53  setup (Mac)\n",
      "2  2291bad572687d3d7e8fb1c4c4ad21c0b83c1e67   79  384  setup (Mac)\n",
      "3  9bf345f89e209ba0c0cf5ffb6a450669fdc96910  116   61  setup (Mac)\n",
      "4  8098b7df9506a418f44cbf339a82d59f8c4b0391  126  145  setup (Mac)\n"
     ]
    }
   ],
   "source": [
    "df4['new_id'] = df4['name'].apply(lambda x : topicmap[x])\n",
    "df5 = df4.drop(['name'], axis=1)\n",
    "print(df5['new_id'].unique())\n",
    "print(df5.head())"
   ]
  },
  {
   "cell_type": "code",
   "execution_count": 23,
   "metadata": {},
   "outputs": [
    {
     "name": "stdout",
     "output_type": "stream",
     "text": [
      "written            3945\n",
      "c0vm               1758\n",
      "ropes              1024\n",
      "lightsout          1022\n",
      "style               709\n",
      "queues              701\n",
      "images              697\n",
      "bloom               651\n",
      "tbuf                570\n",
      "pixels              555\n",
      "clac-exp            504\n",
      "doslingos           493\n",
      "exam                428\n",
      "huffman             420\n",
      "strbuf              352\n",
      "clac                342\n",
      "speller             321\n",
      "scavhunt            290\n",
      "editor              236\n",
      "setup (Mac)         230\n",
      "editor-check        154\n",
      "setup (Windows)     120\n",
      "setup (Linux)        11\n",
      "Name: new_id, dtype: int64\n"
     ]
    }
   ],
   "source": [
    "print(df5['new_id'].value_counts())"
   ]
  },
  {
   "cell_type": "code",
   "execution_count": 24,
   "metadata": {},
   "outputs": [
    {
     "name": "stdout",
     "output_type": "stream",
     "text": [
      "1003\n",
      "757\n",
      "209\n",
      "21cb1f9adbacb7cf4bfb15085966652648310c05    297.0\n",
      "9552e74bcf06aaccfc4ac863c57ac0c8040d7640    233.0\n",
      "40ad830a60baf6e374a0806135957ca5daa3f7ca    199.0\n",
      "b3410512fdbf24a6ab4ee26c44d72942f29d7054    191.0\n",
      "1e71f0a29beb17e4924590a0bba9170aefc0e346    176.0\n",
      "ee9df52b8820e414b470c173f87d1f9191947508    171.0\n",
      "b94f8abee597235b3295f127dcce8027bd6a3510    162.0\n",
      "5660915b416b110d3125eddaf15d004c09f2dcf9    161.0\n",
      "fc66dfab82fdad061547aa40cdf9c33329d35928    151.0\n",
      "3e236fb0e2c1fbd7140c029ca6ba44a831775256    142.0\n",
      "e95edbc398975eb64a9b9d396b445669adbbb586    139.0\n",
      "9641cfd54915b40ee1a83fc5e7caa0e75fa7ecae    125.0\n",
      "fcd7f19d1b99ab5e1897984c08887df30eb0449b    120.0\n",
      "9af33cc369b031fb335f04660b1207915496e40f    120.0\n",
      "773f5f725a8f8c491d73539ad76c752d9457993b    118.0\n",
      "00cb4d194d9203f201f0608575e0cab8e78aaf78    115.0\n",
      "0b4c1ae362a828b876ac9ac88082161a57b3750c    107.0\n",
      "4e91b67af0b399db887b7b186c6437e92190db66    106.0\n",
      "a34e6dcd71b7cbd85572e920a11dd05fc0223b8c    106.0\n",
      "e740b05973b3001388429e166c9bf301ea43dfc2    105.0\n",
      "ae0e49a9e50fa38c65f0a09a503b0827a2131947    103.0\n",
      "3e02642b9fe7058bfc194716f70ad79ffebfc730    103.0\n",
      "31c06a4d1d0c604dcf240d43dd0d364ed21a3869    103.0\n",
      "3d6aa4ff3b4286cdc215c73d79b584df1a777a96    102.0\n",
      "63caea29f0c23d186273efd85721e58288f82130     97.0\n",
      "7a3ff1726a9e59878e74b78b612e705ba388f35c     96.0\n",
      "043f25b4402086ef46ab83c01b061911324ed320     95.0\n",
      "041d5876aff768aec01146ca1c38b41d9ff86dc5     94.0\n",
      "0301ce2ebf8e6acc96675078ec31915271ade772     92.0\n",
      "39336da3a02c026b0c12605951c433d870e4e021     91.0\n",
      "                                            ...  \n",
      "1fe7f219cdc2365f894d56178c6a45c6331e4c42     12.0\n",
      "8062624b2a0e63429aec70cb1f934fee704435ef     12.0\n",
      "37f0f51c57e6e33fa548ddbc3efb9f94111bbc79     12.0\n",
      "c59a787616be48bffa7d6dd2286d644205f7ae3d     12.0\n",
      "e010ecae51bb3c407e56dd2f200d71af58fc6f07     12.0\n",
      "13f49095a84a678a942a847afe5947820ebce1a3     12.0\n",
      "f0feca71d9fbb60bdabea63cb5ad6b75e3a0ca1d     12.0\n",
      "71da11206ef6c10b692e263240d7fbbd60d87fc6     12.0\n",
      "2a00d3f90caf7d88fa184ddebad47b9e3fb7f5a6     12.0\n",
      "ea8773a50f8d2a535315e9057028289a8fd3e02d     12.0\n",
      "76b666ff15995a70a41331f061850ee82294c43a     12.0\n",
      "3b6802bc37f49ff50b654b694684d905625d54d3     11.0\n",
      "81e877faf250aa3c2fc7ed90be433dc11b9513a3     11.0\n",
      "7754767892b082c0d16b457e2ffe303de439c131     11.0\n",
      "42064e9a9e14378becee617103935efa96a49a8d     11.0\n",
      "cbfc2ad6a0e7caf204ffaa3fa3fb79e160158855     11.0\n",
      "590644fec550ce235ce0bf7a24bbfb7a2c536f4e     11.0\n",
      "de12906e0db36d2e4bbc1c5ff90414836ec64fd0     11.0\n",
      "1c3a0ae9996ef2da3abbff59de6f368f16cdbcc7     11.0\n",
      "06caf76b6932f8bbe05f8cf97ed937ef8ff39093     11.0\n",
      "5bc97e2e81c49356cc716e20517b7c64b3008c8d     11.0\n",
      "e7685ebac46af7caddac9e8cbbad7d5c7005de9d     11.0\n",
      "f2fc1d050b679b69b9b9f1995aec92792b7a1407     11.0\n",
      "2b433ff285f4e8913152d8db94952b20e263839e     11.0\n",
      "d1b7f8c5b8722e228fbe31695cb044b541f2f227     11.0\n",
      "c18c10d143fea7f55401c71f7a1f685fc248ea86     11.0\n",
      "7938be65cd2c79192b13e9d8716d65db29ad75df     11.0\n",
      "92e0730924f4a1082e5c2760438bfc13d2065d2d     11.0\n",
      "492333bcb6b4257abd4e8b1d5a4b76e91ee75f0a     11.0\n",
      "4264d8a93ff4fef8edfecda38ca9676a82f2d3ba     11.0\n",
      "Name: andrew_id_hash, Length: 349, dtype: float64\n"
     ]
    }
   ],
   "source": [
    "print(len(df5['andrew_id_hash'].value_counts().where(df5['andrew_id_hash'].value_counts() > 0).dropna()))\n",
    "print(len(df5['andrew_id_hash'].value_counts().where(df5['andrew_id_hash'].value_counts() > 1).dropna()))\n",
    "print(len(df5['andrew_id_hash'].value_counts().where(df5['andrew_id_hash'].value_counts() > 20).dropna()))\n",
    "print(df5['andrew_id_hash'].value_counts().where(df5['andrew_id_hash'].value_counts() > 10).dropna())"
   ]
  },
  {
   "cell_type": "markdown",
   "metadata": {},
   "source": [
    "### Visualization"
   ]
  },
  {
   "cell_type": "code",
   "execution_count": 25,
   "metadata": {},
   "outputs": [
    {
     "data": {
      "text/plain": [
       "(array([ 361.,  502.,  464.,  431.,  319.,  296.,  253.,  217.,  166.,\n",
       "         130.,  117.,   87.,   97.,   81.,   60.,   47.,   34.,   40.,\n",
       "          34.,   20.,   26.,   20.,   14.,   19.,   18.,   10.,   16.,\n",
       "          10.,    5.,    5.,    2.,    5.,    9.,    5.,    6.,    2.,\n",
       "           4.,    1.,    4.,    2.,    0.,    1.,    1.,    0.,    1.,\n",
       "           1.,    0.,    1.,    0.,    1.]),\n",
       " array([   31.  ,    83.82,   136.64,   189.46,   242.28,   295.1 ,\n",
       "          347.92,   400.74,   453.56,   506.38,   559.2 ,   612.02,\n",
       "          664.84,   717.66,   770.48,   823.3 ,   876.12,   928.94,\n",
       "          981.76,  1034.58,  1087.4 ,  1140.22,  1193.04,  1245.86,\n",
       "         1298.68,  1351.5 ,  1404.32,  1457.14,  1509.96,  1562.78,\n",
       "         1615.6 ,  1668.42,  1721.24,  1774.06,  1826.88,  1879.7 ,\n",
       "         1932.52,  1985.34,  2038.16,  2090.98,  2143.8 ,  2196.62,\n",
       "         2249.44,  2302.26,  2355.08,  2407.9 ,  2460.72,  2513.54,\n",
       "         2566.36,  2619.18,  2672.  ]),\n",
       " <a list of 50 Patch objects>)"
      ]
     },
     "execution_count": 25,
     "metadata": {},
     "output_type": "execute_result"
    },
    {
     "data": {
      "image/png": "[encoded data removed]",
      "text/plain": [
       "<matplotlib.figure.Figure at 0x10ad06a58>"
      ]
     },
     "metadata": {},
     "output_type": "display_data"
    }
   ],
   "source": [
    "writtens = df5['HT'].where(df5['new_id'] == 'written').dropna()\n",
    "plt.hist(writtens, bins=50)"
   ]
  },
  {
   "cell_type": "code",
   "execution_count": 26,
   "metadata": {},
   "outputs": [
    {
     "data": {
      "text/plain": [
       "(array([  79.,  118.,  137.,  153.,  132.,  100.,  122.,  106.,   75.,\n",
       "          75.,   75.,   54.,   51.,   64.,   47.,   43.,   35.,   23.,\n",
       "          33.,   19.,   20.,   20.,   18.,   17.,    9.,   18.,   10.,\n",
       "           9.,   12.,   13.,    2.,    9.,    7.,    4.,    2.,    1.,\n",
       "           7.,    5.,    2.,    3.,    2.,    3.,    2.,    5.,    4.,\n",
       "           4.,    1.,    4.,    2.,    2.]),\n",
       " array([   31.  ,    83.96,   136.92,   189.88,   242.84,   295.8 ,\n",
       "          348.76,   401.72,   454.68,   507.64,   560.6 ,   613.56,\n",
       "          666.52,   719.48,   772.44,   825.4 ,   878.36,   931.32,\n",
       "          984.28,  1037.24,  1090.2 ,  1143.16,  1196.12,  1249.08,\n",
       "         1302.04,  1355.  ,  1407.96,  1460.92,  1513.88,  1566.84,\n",
       "         1619.8 ,  1672.76,  1725.72,  1778.68,  1831.64,  1884.6 ,\n",
       "         1937.56,  1990.52,  2043.48,  2096.44,  2149.4 ,  2202.36,\n",
       "         2255.32,  2308.28,  2361.24,  2414.2 ,  2467.16,  2520.12,\n",
       "         2573.08,  2626.04,  2679.  ]),\n",
       " <a list of 50 Patch objects>)"
      ]
     },
     "execution_count": 26,
     "metadata": {},
     "output_type": "execute_result"
    },
    {
     "data": {
      "image/png": "[encoded data removed]",
      "text/plain": [
       "<matplotlib.figure.Figure at 0x105313908>"
      ]
     },
     "metadata": {},
     "output_type": "display_data"
    }
   ],
   "source": [
    "c0vm = df5['HT'].where(df5['new_id'] == 'c0vm').dropna()\n",
    "plt.hist(c0vm, bins=50)"
   ]
  },
  {
   "cell_type": "code",
   "execution_count": 27,
   "metadata": {},
   "outputs": [
    {
     "data": {
      "text/plain": [
       "(array([ 17.,  17.,  23.,  25.,  25.,  28.,  23.,  15.,  24.,  19.,  16.,\n",
       "          8.,  15.,  14.,  19.,  12.,  15.,   6.,   8.,  11.,   7.,   6.,\n",
       "          7.,   7.,   4.,   4.,   5.,   3.,   4.,   3.,   2.,   4.,   2.,\n",
       "          4.,   3.,   2.,   1.,   4.,   2.,   0.,   0.,   0.,   0.,   1.,\n",
       "          0.,   1.,   2.,   0.,   0.,   2.]),\n",
       " array([   40.  ,    91.54,   143.08,   194.62,   246.16,   297.7 ,\n",
       "          349.24,   400.78,   452.32,   503.86,   555.4 ,   606.94,\n",
       "          658.48,   710.02,   761.56,   813.1 ,   864.64,   916.18,\n",
       "          967.72,  1019.26,  1070.8 ,  1122.34,  1173.88,  1225.42,\n",
       "         1276.96,  1328.5 ,  1380.04,  1431.58,  1483.12,  1534.66,\n",
       "         1586.2 ,  1637.74,  1689.28,  1740.82,  1792.36,  1843.9 ,\n",
       "         1895.44,  1946.98,  1998.52,  2050.06,  2101.6 ,  2153.14,\n",
       "         2204.68,  2256.22,  2307.76,  2359.3 ,  2410.84,  2462.38,\n",
       "         2513.92,  2565.46,  2617.  ]),\n",
       " <a list of 50 Patch objects>)"
      ]
     },
     "execution_count": 27,
     "metadata": {},
     "output_type": "execute_result"
    },
    {
     "data": {
      "image/png": "[encoded data removed]",
      "text/plain": [
       "<matplotlib.figure.Figure at 0x108fd40f0>"
      ]
     },
     "metadata": {},
     "output_type": "display_data"
    }
   ],
   "source": [
    "huffman = df5['HT'].where(df5['new_id'] == 'huffman').dropna()\n",
    "plt.hist(huffman, bins=50)"
   ]
  },
  {
   "cell_type": "code",
   "execution_count": 28,
   "metadata": {},
   "outputs": [
    {
     "data": {
      "text/plain": [
       "(array([ 30.,  38.,  44.,  34.,  40.,  25.,  26.,  10.,  12.,   5.,   8.,\n",
       "          7.,   5.,   4.,   2.,   4.,   1.,   0.,   1.,   1.]),\n",
       " array([   39.  ,   167.35,   295.7 ,   424.05,   552.4 ,   680.75,\n",
       "          809.1 ,   937.45,  1065.8 ,  1194.15,  1322.5 ,  1450.85,\n",
       "         1579.2 ,  1707.55,  1835.9 ,  1964.25,  2092.6 ,  2220.95,\n",
       "         2349.3 ,  2477.65,  2606.  ]),\n",
       " <a list of 20 Patch objects>)"
      ]
     },
     "execution_count": 28,
     "metadata": {},
     "output_type": "execute_result"
    },
    {
     "data": {
      "image/png": "[encoded data removed]",
      "text/plain": [
       "<matplotlib.figure.Figure at 0x10ae4d2e8>"
      ]
     },
     "metadata": {},
     "output_type": "display_data"
    }
   ],
   "source": [
    "helpthispersonpls297 = df5['HT'].where(df5['andrew_id_hash'] == '21cb1f9adbacb7cf4bfb15085966652648310c05').dropna()\n",
    "plt.hist(helpthispersonpls297, bins=20)"
   ]
  },
  {
   "cell_type": "code",
   "execution_count": 29,
   "metadata": {},
   "outputs": [
    {
     "data": {
      "text/plain": [
       "(array([ 18.,   8.,  16.,  12.,   9.,   8.,   3.,   4.,   1.,   0.,   7.,\n",
       "          1.,   0.,   0.,   1.,   1.,   0.,   1.,   0.,   1.]),\n",
       " array([   58. ,   172.3,   286.6,   400.9,   515.2,   629.5,   743.8,\n",
       "          858.1,   972.4,  1086.7,  1201. ,  1315.3,  1429.6,  1543.9,\n",
       "         1658.2,  1772.5,  1886.8,  2001.1,  2115.4,  2229.7,  2344. ]),\n",
       " <a list of 20 Patch objects>)"
      ]
     },
     "execution_count": 29,
     "metadata": {},
     "output_type": "execute_result"
    },
    {
     "data": {
      "image/png": "[encoded data removed]",
      "text/plain": [
       "<matplotlib.figure.Figure at 0x10ae77c88>"
      ]
     },
     "metadata": {},
     "output_type": "display_data"
    }
   ],
   "source": [
    "helpthispersonpls91 = df5['HT'].where(df5['andrew_id_hash'] == '39336da3a02c026b0c12605951c433d870e4e021').dropna()\n",
    "plt.hist(helpthispersonpls91, bins=20)"
   ]
  },
  {
   "cell_type": "code",
   "execution_count": 30,
   "metadata": {},
   "outputs": [],
   "source": [
    "def game():\n",
    "    \n",
    "    record = df5.sample()\n",
    "    andrew = record['andrew_id_hash'].to_string(header=False, index=False)\n",
    "    ht = int(record['HT'].to_string(header=False, index=False))\n",
    "    new_id = record['new_id'].to_string(header=False, index=False)\n",
    "    \n",
    "    print(\"Helping \" + andrew + \" with \" + new_id + \"!\")\n",
    "    \n",
    "    assignment_stats = df5['HT'].where(df5['new_id'] == new_id).dropna()\n",
    "    plt.hist(assignment_stats, bins=20, range=(0,1800))\n",
    "    \n",
    "    person_stats = df5['HT'].where(df5['andrew_id_hash'] == andrew).dropna()\n",
    "    plt.hist(person_stats, bins=20)\n",
    "    \n",
    "    plt.show()\n",
    "    \n",
    "    prediction = int(input(\"Predict the Help time!: \"))\n",
    "    \n",
    "    print(\"Your prediction: \" + str(prediction))\n",
    "    print(\"Actual help time: \" + str(ht))\n",
    "    print(\"Error is: \" + str(abs(prediction-ht)/ht * 100))"
   ]
  },
  {
   "cell_type": "code",
   "execution_count": 31,
   "metadata": {},
   "outputs": [
    {
     "name": "stdout",
     "output_type": "stream",
     "text": [
      "Helping 30e250d40e24d282563e686c433cb1f92fb9e47b with bloom!\n"
     ]
    },
    {
     "data": {
      "image/png": "[encoded data removed]",
      "text/plain": [
       "<matplotlib.figure.Figure at 0x10b01dcc0>"
      ]
     },
     "metadata": {},
     "output_type": "display_data"
    },
    {
     "name": "stdout",
     "output_type": "stream",
     "text": [
      "Predict the Help time!: 200\n",
      "Your prediction: 200\n",
      "Actual help time: 201\n",
      "Error is: 0.4975124378109453\n"
     ]
    }
   ],
   "source": [
    "game()"
   ]
  },
  {
   "cell_type": "markdown",
   "metadata": {},
   "source": [
    "### Get indicator variables from categorical variables"
   ]
  },
  {
   "cell_type": "code",
   "execution_count": 168,
   "metadata": {},
   "outputs": [
    {
     "name": "stdout",
     "output_type": "stream",
     "text": [
      "<class 'pandas.core.frame.DataFrame'>\n",
      "Int64Index: 15533 entries, 0 to 15532\n",
      "Columns: 372 entries, 006224cb5c837901ba7551f1b8d087c3c2fcdba3 to written\n",
      "dtypes: uint8(372)\n",
      "memory usage: 6.3 MB\n",
      "None\n"
     ]
    }
   ],
   "source": [
    "X = pd.get_dummies(df5['andrew_id_hash'])\n",
    "X = X.drop([col for col, val in X.sum().iteritems() if val <= 10], axis=1)\n",
    "X = X.join(pd.get_dummies(df5['new_id']))\n",
    "print(X.info())"
   ]
  },
  {
   "cell_type": "code",
   "execution_count": 169,
   "metadata": {},
   "outputs": [],
   "source": [
    "y = df5['HT']"
   ]
  },
  {
   "cell_type": "code",
   "execution_count": 170,
   "metadata": {},
   "outputs": [],
   "source": [
    "model = sm.GLM(y, X, family=sm.families.Poisson(statsmodels.genmod.families.links.log))\n",
    "results = model.fit()"
   ]
  },
  {
   "cell_type": "code",
   "execution_count": 171,
   "metadata": {},
   "outputs": [
    {
     "name": "stdout",
     "output_type": "stream",
     "text": [
      "                 Generalized Linear Model Regression Results                  \n",
      "==============================================================================\n",
      "Dep. Variable:                     HT   No. Observations:                15533\n",
      "Model:                            GLM   Df Residuals:                    15161\n",
      "Model Family:                 Poisson   Df Model:                          371\n",
      "Link Function:                    log   Scale:                             1.0\n",
      "Method:                          IRLS   Log-Likelihood:            -1.8691e+06\n",
      "Date:                Tue, 08 May 2018   Deviance:                   3.6205e+06\n",
      "Time:                        22:06:55   Pearson chi2:                 4.25e+06\n",
      "No. Iterations:                     5                                         \n",
      "============================================================================================================\n",
      "                                               coef    std err          z      P>|z|      [0.025      0.975]\n",
      "------------------------------------------------------------------------------------------------------------\n",
      "006224cb5c837901ba7551f1b8d087c3c2fcdba3     0.2029      0.007     29.072      0.000       0.189       0.217\n",
      "0067b4aeba1b08d3fe5ada6472fa8a514a079711    -0.1484      0.014    -10.351      0.000      -0.177      -0.120\n",
      "00cb4d194d9203f201f0608575e0cab8e78aaf78     0.3136      0.004     83.275      0.000       0.306       0.321\n",
      "00e8f150107817ea183641d4cea292e2c42d3479    -0.1441      0.007    -19.760      0.000      -0.158      -0.130\n",
      "01b9c30a0a24f7a7b3b1e2b5ebbddff10a64159f    -0.4324      0.009    -48.426      0.000      -0.450      -0.415\n",
      "0301ce2ebf8e6acc96675078ec31915271ade772    -0.3509      0.006    -58.310      0.000      -0.363      -0.339\n",
      "0373ebbfc11248eaa87e1acb58c8712ad64c6f5f     0.0933      0.010      8.902      0.000       0.073       0.114\n",
      "041d5876aff768aec01146ca1c38b41d9ff86dc5     0.0073      0.005      1.510      0.131      -0.002       0.017\n",
      "043f25b4402086ef46ab83c01b061911324ed320    -0.3242      0.006    -52.301      0.000      -0.336      -0.312\n",
      "04e1c1891039bac3824114bb548f6e43cb78192a     0.0442      0.013      3.481      0.001       0.019       0.069\n",
      "04f58f207a7227281555136355b3808419ffab92    -0.0576      0.013     -4.552      0.000      -0.082      -0.033\n",
      "050d1466a70dc5f775aedfe2a1e418142681dfa8     0.3564      0.010     34.795      0.000       0.336       0.376\n",
      "059bf44f0c6dc975e0a89dadd9ca883a4038b0cf     0.2642      0.005     48.056      0.000       0.253       0.275\n",
      "06caf76b6932f8bbe05f8cf97ed937ef8ff39093     0.2759      0.011     24.100      0.000       0.254       0.298\n",
      "075bc39fa82c2304078f7a8e45bfa882a767cf25    -0.4738      0.018    -26.902      0.000      -0.508      -0.439\n",
      "07b1735b526acbe4722f9a7f8dc76de4e0c0aeea     0.0578      0.009      6.155      0.000       0.039       0.076\n",
      "08020ea2213623e8b3b6f4686dbdc12bf3e1669f     0.3907      0.011     34.635      0.000       0.369       0.413\n",
      "08fe02a2fa2cbf80833c6884126b75d94ff611cd    -0.3847      0.009    -41.539      0.000      -0.403      -0.367\n",
      "097973347def5617759fb92a39aff8e6f232e2b7     0.0523      0.009      5.757      0.000       0.034       0.070\n",
      "0a7f1085475e9e9287e127b43add68c90d68089f    -0.0594      0.009     -6.393      0.000      -0.078      -0.041\n",
      "0b4c1ae362a828b876ac9ac88082161a57b3750c     0.1201      0.004     28.597      0.000       0.112       0.128\n",
      "0e0983221f481c43fd9cd9eeeb383ff28ac154ae    -0.5378      0.008    -70.752      0.000      -0.553      -0.523\n",
      "0fc22eb3424b71918aa5ec9b1987b8b3ad0223fd     0.4136      0.007     56.172      0.000       0.399       0.428\n",
      "0fd0b74e791db9f550e88985d552068317be9358     0.2109      0.009     23.719      0.000       0.193       0.228\n",
      "0fe4cdbdfe2fe66ea6a1c0aa7f9828a668127430    -0.3195      0.014    -22.169      0.000      -0.348      -0.291\n",
      "100da17f34de60d3c2420ef5ade38e6f6a36cbd1     0.0365      0.010      3.619      0.000       0.017       0.056\n",
      "10f21890c19fea9765d49440052635eb3cac07ca     0.3223      0.010     32.264      0.000       0.303       0.342\n",
      "115fb322f24b2d2d24eef7798ac4cb0b86a6e301    -0.5224      0.016    -33.502      0.000      -0.553      -0.492\n",
      "13d5e3da748c2fe612fe731869c0f55150eb37b1    -0.4162      0.007    -60.197      0.000      -0.430      -0.403\n",
      "13f49095a84a678a942a847afe5947820ebce1a3    -0.3283      0.015    -21.633      0.000      -0.358      -0.299\n",
      "166d93666d13f48ea30bc6ac47e38f5077ada39f     0.0566      0.008      6.890      0.000       0.041       0.073\n",
      "17f9322cf35f4774749edaddda996fb621b6ed53    -0.0589      0.012     -4.782      0.000      -0.083      -0.035\n",
      "1862a28eefc7f2b18c4d848332a7de7adc201509    -0.1791      0.010    -18.217      0.000      -0.198      -0.160\n",
      "1929276614360b33610ac9c83834315b4187e042    -0.1953      0.008    -25.563      0.000      -0.210      -0.180\n",
      "19527eed4d5fc6a84971849aed1ed43691e339c6    -0.2428      0.013    -18.706      0.000      -0.268      -0.217\n",
      "1b5ea13773948f4f078b0d2651731d8eba67c3cb     0.1378      0.005     25.151      0.000       0.127       0.149\n",
      "1b8197242af753737c19e53e0bf678354926ee40    -0.8026      0.011    -72.322      0.000      -0.824      -0.781\n",
      "1c106716a0a99bba9b2e8b98371df5c6eea1b4af     0.0631      0.010      6.186      0.000       0.043       0.083\n",
      "1c3a0ae9996ef2da3abbff59de6f368f16cdbcc7    -0.6301      0.019    -33.523      0.000      -0.667      -0.593\n",
      "1d73e18b566a00da0b06e6518938a8f19a08baed     0.0626      0.005     12.277      0.000       0.053       0.073\n",
      "1e71f0a29beb17e4924590a0bba9170aefc0e346    -0.1935      0.004    -47.516      0.000      -0.201      -0.185\n",
      "1fad85a9d2cc516e39eec39f46c459bd112e3606    -0.1256      0.008    -14.931      0.000      -0.142      -0.109\n",
      "1fd5ba8553115de12d0069c95c40766d5ec2acbc    -0.4603      0.010    -47.310      0.000      -0.479      -0.441\n",
      "1fe7f219cdc2365f894d56178c6a45c6331e4c42    -0.4411      0.019    -23.556      0.000      -0.478      -0.404\n",
      "210e913293696c1af8048239fe773048d1e6a01d    -0.2562      0.007    -35.740      0.000      -0.270      -0.242\n",
      "219d645628239e99950eb8ba15378a9e95e67e30     0.2242      0.007     32.225      0.000       0.211       0.238\n",
      "21ac5e86b1ae2f9156c29a4cb406eedd69e04b80    -0.0027      0.012     -0.233      0.815      -0.025       0.020\n",
      "21cb1f9adbacb7cf4bfb15085966652648310c05     0.3476      0.003    135.731      0.000       0.343       0.353\n",
      "21ea8a06b4b9a8a0e42da2ec998803e97d5948f9    -0.1467      0.013    -11.268      0.000      -0.172      -0.121\n",
      "2391b47589ed212e593bc58d1d08ece77db55cdf    -0.4012      0.012    -33.623      0.000      -0.425      -0.378\n",
      "247cd1db004c629a8ad5a7d88fc75de0de7972d1    -0.3381      0.006    -54.511      0.000      -0.350      -0.326\n",
      "25ce4f97010048d7baa2ecf47446184a1c934792     0.0721      0.006     11.415      0.000       0.060       0.085\n",
      "2673bcce2989faf2477e041c5ab7f9bac50134ae     0.2098      0.008     26.564      0.000       0.194       0.225\n",
      "270d2fdab318091921a2f9940ec3ce04922d3e5d    -0.0746      0.012     -6.453      0.000      -0.097      -0.052\n",
      "276768edb4b4457e0d3f7d4cdcdaeeb6c0414ff9    -0.6797      0.008    -81.785      0.000      -0.696      -0.663\n",
      "277a75a3bb0244dfb329763b0e015d78abe98744    -0.1175      0.015     -8.010      0.000      -0.146      -0.089\n",
      "27f548c627aee06fb3628c34170ed4e1022c8f9c    -0.3530      0.016    -22.674      0.000      -0.383      -0.322\n",
      "27fb688bd59677dc60d4d73de945d102e9330271     0.0724      0.006     12.371      0.000       0.061       0.084\n",
      "29b01f04b8540af5dc920e524da46fb8d41ff8ee    -0.1768      0.007    -23.920      0.000      -0.191      -0.162\n",
      "2a00d3f90caf7d88fa184ddebad47b9e3fb7f5a6    -0.8028      0.019    -41.322      0.000      -0.841      -0.765\n",
      "2a67ec1fb5d7181ff9454c7760deff7c6d7fc1c2     0.0328      0.006      5.347      0.000       0.021       0.045\n",
      "2b433ff285f4e8913152d8db94952b20e263839e     0.5087      0.010     50.765      0.000       0.489       0.528\n",
      "2b43ae46d05473a644b5307b53a84c2439477a4f    -0.1983      0.008    -24.474      0.000      -0.214      -0.182\n",
      "2b527df985c4d3d4d0e06a1e969b810fadc55d8f    -0.0732      0.012     -6.273      0.000      -0.096      -0.050\n",
      "2d35f6eddd1809a245144f6d1be3e3862d603751    -0.2507      0.012    -20.303      0.000      -0.275      -0.227\n",
      "2d517df03e6f71ac84e04e7063d824e561067c2a    -0.4192      0.012    -34.919      0.000      -0.443      -0.396\n",
      "2d55ad4c9360a4b7e5fb63bffbe0b079759ddc7a    -0.5807      0.009    -61.642      0.000      -0.599      -0.562\n",
      "2d6e445ad50f65478dc179ef217e537262976c34     0.1427      0.008     18.779      0.000       0.128       0.158\n",
      "2f1fdc7dc00bc8902a0186dfe79962538d730322     0.0553      0.008      7.059      0.000       0.040       0.071\n",
      "2f60462a73646da3c350f41958c76c22856aab36     0.1989      0.008     23.416      0.000       0.182       0.216\n",
      "30750c67a349e59cfe1af5d73f90b8422c01d9ab    -0.2809      0.007    -41.284      0.000      -0.294      -0.268\n",
      "30ad8d33a547818087547dbc0f17b76da9b20305     0.4221      0.005     76.949      0.000       0.411       0.433\n",
      "30e250d40e24d282563e686c433cb1f92fb9e47b    -0.5748      0.010    -58.430      0.000      -0.594      -0.556\n",
      "313c408d07655f9e275d897e8c1d189b3841f16d    -0.1763      0.012    -15.249      0.000      -0.199      -0.154\n",
      "3142dc3fc3f941c98780e2d01a07672e897cc2d7    -0.3164      0.006    -49.653      0.000      -0.329      -0.304\n",
      "315006c2d2b2fb8c1d53c55296c1656bf2a6c88a    -0.5224      0.013    -40.147      0.000      -0.548      -0.497\n",
      "31c06a4d1d0c604dcf240d43dd0d364ed21a3869    -0.2904      0.005    -53.126      0.000      -0.301      -0.280\n",
      "31e68be39133fc9659fa1496e34bece63ec531f3     0.0585      0.008      7.155      0.000       0.042       0.074\n",
      "322343b384ea6068479757efb5af834d0c6a548c     0.0012      0.009      0.125      0.901      -0.017       0.020\n",
      "3247ddcb13d38bc31852f16561c8301da3ed952e    -0.0741      0.008     -8.861      0.000      -0.090      -0.058\n",
      "3296db96d489d60dda39539deaeedb29884cfd3c    -0.2846      0.007    -38.513      0.000      -0.299      -0.270\n",
      "3338e35e1020feb5582e8cc9fd5cde5bdaefaf12    -0.5148      0.014    -38.089      0.000      -0.541      -0.488\n",
      "333ed3cf5d361856231657346e347becbf5c858d     0.1975      0.010     20.438      0.000       0.179       0.216\n",
      "33573dcedddbc5924f4fc0c16db8b901fd1c8286    -0.2991      0.009    -31.871      0.000      -0.318      -0.281\n",
      "355e8ac270cada6d77c0f5ac46759d16bb09083f    -0.1814      0.009    -20.830      0.000      -0.198      -0.164\n",
      "36f03b7ced0983db72f45f73dc9757efed3c9158     0.2306      0.007     31.620      0.000       0.216       0.245\n",
      "37f0f51c57e6e33fa548ddbc3efb9f94111bbc79    -0.2641      0.013    -19.667      0.000      -0.290      -0.238\n",
      "38040bd8b3683d0ad005c809de49cb1036103acc     0.0139      0.009      1.535      0.125      -0.004       0.032\n",
      "3847d9296290790cf7d189c89974fc38a5437e79     0.0344      0.010      3.458      0.001       0.015       0.054\n",
      "384b70398d58b640fec183934f85a06a18cb7fe4    -0.2385      0.009    -27.622      0.000      -0.255      -0.222\n",
      "39336da3a02c026b0c12605951c433d870e4e021     0.1215      0.005     26.287      0.000       0.112       0.131\n",
      "3b6802bc37f49ff50b654b694684d905625d54d3    -0.1806      0.015    -12.136      0.000      -0.210      -0.151\n",
      "3bc93de5ca33ec17c0541244b7b47a13c0cc63ef     0.2078      0.006     37.078      0.000       0.197       0.219\n",
      "3c5b93c63599c4a3b7a72901271aa7fdd75c1df1     0.2228      0.007     32.478      0.000       0.209       0.236\n",
      "3d6aa4ff3b4286cdc215c73d79b584df1a777a96    -0.0520      0.005    -10.872      0.000      -0.061      -0.043\n",
      "3e02642b9fe7058bfc194716f70ad79ffebfc730     0.0770      0.004     17.210      0.000       0.068       0.086\n",
      "3e236fb0e2c1fbd7140c029ca6ba44a831775256    -0.3194      0.005    -67.494      0.000      -0.329      -0.310\n",
      "3e30a8ed7e03f141c9b2a38efdb9686806dd79db     0.1826      0.012     15.614      0.000       0.160       0.206\n",
      "40ad830a60baf6e374a0806135957ca5daa3f7ca    -0.1091      0.004    -29.916      0.000      -0.116      -0.102\n",
      "41f24f752535dc071b4bec92e4468cce97b3f168    -0.0777      0.008     -9.360      0.000      -0.094      -0.061\n",
      "42064e9a9e14378becee617103935efa96a49a8d    -0.1200      0.015     -7.940      0.000      -0.150      -0.090\n",
      "4264d8a93ff4fef8edfecda38ca9676a82f2d3ba    -0.4332      0.018    -24.022      0.000      -0.469      -0.398\n",
      "426f54cb4499db2583a17a81c21407a1b2124893    -0.2385      0.015    -15.616      0.000      -0.268      -0.209\n",
      "42abaaac0640eee186f066e7f7d3ec65d8705694    -0.0586      0.012     -4.765      0.000      -0.083      -0.035\n",
      "42dd696b29be78e44ae82bd91bf22bfb8cbdd28b    -0.0483      0.008     -6.216      0.000      -0.064      -0.033\n",
      "43a1d7e6da0880f78247d715baaa1cf118389b1d    -0.0964      0.006    -15.590      0.000      -0.109      -0.084\n",
      "449bb2b2082df349ab4a682a363e7c47a549791b    -0.7864      0.016    -49.279      0.000      -0.818      -0.755\n",
      "46c2195d9ce7bb05fd488d2f5d15b979ff3310eb    -0.2987      0.013    -22.792      0.000      -0.324      -0.273\n",
      "47095acef2fd17eafc5721692bf06a81add83cbb     0.1640      0.005     32.082      0.000       0.154       0.174\n",
      "47ca0647afccdfc90230abfef6a10e3ae6087cb8    -0.5274      0.008    -68.170      0.000      -0.543      -0.512\n",
      "47e1f2010f648690070c3aec63dd23a467f5536b     0.1912      0.006     33.944      0.000       0.180       0.202\n",
      "48a2500d227c5a06e58b19cabf24f3b17afa85e4     0.4413      0.006     77.110      0.000       0.430       0.453\n",
      "48fbe0c7fd1ef3317ae558c0e46ae2fc290640c1     0.1296      0.006     22.448      0.000       0.118       0.141\n",
      "492333bcb6b4257abd4e8b1d5a4b76e91ee75f0a     0.1649      0.014     11.763      0.000       0.137       0.192\n",
      "4971eeff66a31cab39d56c0ac0fe1c348bc04c6c     0.1037      0.008     13.028      0.000       0.088       0.119\n",
      "49aa1eaed3a29e56d385c6d1b2d9fbabf6cbc11f    -0.1844      0.006    -29.620      0.000      -0.197      -0.172\n",
      "4a45c4de3aecc0089f12f401c1ffac6b0d94506e     0.3336      0.011     29.248      0.000       0.311       0.356\n",
      "4c2182cf9d2ac00fb8ce8fceb3ec852eb9ac441c    -0.3214      0.014    -23.629      0.000      -0.348      -0.295\n",
      "4c408220b16483f4c7aefbd40bceccc399c42817    -0.1710      0.011    -15.259      0.000      -0.193      -0.149\n",
      "4d95d05ec29ea5d581c21166810342e51807242d    -0.4462      0.014    -30.831      0.000      -0.475      -0.418\n",
      "4da4eacb00b805713edf2c67860c9b5a6fb53b24     0.2977      0.005     65.548      0.000       0.289       0.307\n",
      "4e7054288040b6712e858f9153769bcc5ab6d19c     0.0910      0.008     10.921      0.000       0.075       0.107\n",
      "4e91b67af0b399db887b7b186c6437e92190db66    -0.2848      0.005    -53.898      0.000      -0.295      -0.274\n",
      "4fea534d79da5cecc4be81aa689e5fd8662f7d07     0.3647      0.009     40.286      0.000       0.347       0.382\n",
      "4ff2013af51f271aa2294f536d934cfe5778679f    -0.2992      0.007    -43.946      0.000      -0.313      -0.286\n",
      "51eef7ce297b546b888391e74166e53be9563aac     0.0033      0.007      0.448      0.654      -0.011       0.018\n",
      "5573b626d831e5339408f2d947ca1790550dccf8     0.4014      0.009     44.025      0.000       0.384       0.419\n",
      "563adbdaa4a9620648b079483d6867382de9bd84     0.3943      0.011     35.288      0.000       0.372       0.416\n",
      "5660915b416b110d3125eddaf15d004c09f2dcf9    -0.8088      0.006   -141.885      0.000      -0.820      -0.798\n",
      "56a38d1000e34a968e618dc6e64908807ac8fc2e    -0.6308      0.013    -49.271      0.000      -0.656      -0.606\n",
      "575fca6254c8980f71e534de68c86c2d3f8fd004    -0.1453      0.012    -12.550      0.000      -0.168      -0.123\n",
      "57c2fcd817b3483e5b1f8ea7feb59c4fd2a6af0a    -0.0109      0.007     -1.491      0.136      -0.025       0.003\n",
      "580bfddeea5ee95f5e777e663f82f34bee03e651    -0.0452      0.010     -4.372      0.000      -0.065      -0.025\n",
      "581eee7050c54e3c5f442a9c8c5f2722a6fbe0a2    -0.4357      0.006    -68.201      0.000      -0.448      -0.423\n",
      "58a4104a868305e40cd6f5aab23f0caad3f655ad    -0.2936      0.017    -17.396      0.000      -0.327      -0.261\n",
      "590644fec550ce235ce0bf7a24bbfb7a2c536f4e    -0.2930      0.017    -17.295      0.000      -0.326      -0.260\n",
      "59d8475e437f4eb54794b6a11a271a8d12beec7b     0.0079      0.013      0.630      0.529      -0.017       0.033\n",
      "59e157632260cb73a713bbeb1ded3b7ea0fc3a07     0.3992      0.005     86.575      0.000       0.390       0.408\n",
      "5a16be629064e57edec1840f1e5fa23f750bd01d    -0.5711      0.016    -35.280      0.000      -0.603      -0.539\n",
      "5b339c2a7cff47dd2041d241acad97418cf20b6d    -0.0311      0.011     -2.909      0.004      -0.052      -0.010\n",
      "5bc97e2e81c49356cc716e20517b7c64b3008c8d    -0.1494      0.015     -9.721      0.000      -0.179      -0.119\n",
      "5f42be54b640055ce2ced08e9fe012927b72fc16    -0.1070      0.012     -9.061      0.000      -0.130      -0.084\n",
      "5f60008ae16fc614cab06927b0dea2377c198dc2    -0.0292      0.009     -3.314      0.001      -0.047      -0.012\n",
      "5ff5e0307bea0fa7bad712f60649b13fc8187bb1     0.1250      0.009     13.771      0.000       0.107       0.143\n",
      "628fdbfc9b05860953ea4ef7c0749e66ad1329df     0.0465      0.011      4.090      0.000       0.024       0.069\n",
      "62f9a90d15775a44e6c5898c1f5dabdc55193d6f     0.4979      0.009     57.696      0.000       0.481       0.515\n",
      "63caea29f0c23d186273efd85721e58288f82130    -0.0062      0.005     -1.356      0.175      -0.015       0.003\n",
      "653285a988ffcf8b845aad2381fe8108abee4081    -0.0215      0.012     -1.834      0.067      -0.045       0.001\n",
      "656e7c9ff49ddc42d04fa3b3301f1b711fdbc855     0.0642      0.005     11.689      0.000       0.053       0.075\n",
      "6610023792163716e8d302ddd50a38c2bdfdf1d7     0.1252      0.008     15.374      0.000       0.109       0.141\n",
      "664aaf8d52e1654b54408d23b2276d9171d19a9b     0.2061      0.005     40.847      0.000       0.196       0.216\n",
      "67a87b244c9fbf50006ad301e7340d7e70a7fcb8    -0.1812      0.012    -15.400      0.000      -0.204      -0.158\n",
      "68310824f4d9e2d9e888a4c00a2d2c05057786e6    -0.1666      0.009    -18.411      0.000      -0.184      -0.149\n",
      "6945099e0f9cf384a32a2674fcd0a31361247f23    -0.0333      0.014     -2.333      0.020      -0.061      -0.005\n",
      "6ab1a2443068dae41c502d2d5f786d812b272ea1     0.3313      0.008     40.505      0.000       0.315       0.347\n",
      "6b76b0a17c0280e67db38b5473229ee2520e398d     0.5554      0.011     50.454      0.000       0.534       0.577\n",
      "6b8fbe72c62315b5262975984ea3a513f1c26497    -0.4302      0.015    -29.005      0.000      -0.459      -0.401\n",
      "6c76f2af59d3eeafe4eb8ef19531391b9e25115a    -0.1441      0.008    -17.432      0.000      -0.160      -0.128\n",
      "6cf75327f5f8b23b19dec4917d533e76b23e15cc    -0.3631      0.012    -31.097      0.000      -0.386      -0.340\n",
      "6d4d5cd1b52184b97491adb1655b9181a7bab19b    -0.1533      0.009    -17.545      0.000      -0.170      -0.136\n",
      "6f08a7f53cc94c199618278f3bf47146912843b6    -0.0371      0.010     -3.762      0.000      -0.056      -0.018\n",
      "7055453cf94056f98ffc291299d56e417f0c3b14    -0.9513      0.020    -46.908      0.000      -0.991      -0.912\n",
      "71da11206ef6c10b692e263240d7fbbd60d87fc6    -0.0919      0.016     -5.767      0.000      -0.123      -0.061\n",
      "7352ff7ca7cb4d9e7c841332aaae0765f1243005    -0.2519      0.010    -25.102      0.000      -0.272      -0.232\n",
      "7440b6c752206a2c301485231f351d6a888b0add    -0.0942      0.014     -6.784      0.000      -0.121      -0.067\n",
      "76b666ff15995a70a41331f061850ee82294c43a     0.1544      0.013     11.691      0.000       0.129       0.180\n",
      "76c468d5cd44912cd75638eb6c51d0cc9719fc16    -0.0405      0.007     -5.998      0.000      -0.054      -0.027\n",
      "773f5f725a8f8c491d73539ad76c752d9457993b     0.4045      0.004    112.556      0.000       0.397       0.412\n",
      "7754767892b082c0d16b457e2ffe303de439c131     0.1424      0.015      9.524      0.000       0.113       0.172\n",
      "7938be65cd2c79192b13e9d8716d65db29ad75df    -0.2996      0.016    -19.257      0.000      -0.330      -0.269\n",
      "7a3ff1726a9e59878e74b78b612e705ba388f35c    -0.1490      0.005    -28.648      0.000      -0.159      -0.139\n",
      "7a8f5bf354658dde241106286ad21cf57e74f017    -0.3212      0.007    -42.962      0.000      -0.336      -0.307\n",
      "7b5f28d89687bc1df89e901219eda1cb40f939ef     0.0444      0.011      4.067      0.000       0.023       0.066\n",
      "7da5e32e0017fb0c502ef47960f523dc8d525e31    -0.2480      0.012    -20.543      0.000      -0.272      -0.224\n",
      "7df0b64e9fd9debcd0f901590a02051c38a642a7    -0.2710      0.014    -18.946      0.000      -0.299      -0.243\n",
      "7f016e1d4fdc455735937f4f4a531457322004bf    -0.2175      0.013    -16.912      0.000      -0.243      -0.192\n",
      "7f7bd56ff08cbb5411feb5c4e98529a35ce2415d     0.2370      0.011     21.566      0.000       0.215       0.259\n",
      "7f8f2d9019551c367d3c764b2a5198d84ba90517    -0.4074      0.010    -39.043      0.000      -0.428      -0.387\n",
      "803decb3ca5868e7a7413f7c6dbb4fb256f61c51     0.1304      0.006     20.937      0.000       0.118       0.143\n",
      "8062624b2a0e63429aec70cb1f934fee704435ef    -0.6763      0.023    -29.992      0.000      -0.721      -0.632\n",
      "8098b7df9506a418f44cbf339a82d59f8c4b0391     0.4749      0.007     66.804      0.000       0.461       0.489\n",
      "81e1a611a108f1e2d531b94b3f4cf0dd4c7fb930     0.0832      0.006     14.262      0.000       0.072       0.095\n",
      "81e6820d262d74bae6968f1d5326f2afd2f6bb66     0.3529      0.007     49.333      0.000       0.339       0.367\n",
      "81e877faf250aa3c2fc7ed90be433dc11b9513a3    -0.5623      0.017    -32.584      0.000      -0.596      -0.528\n",
      "8272305d124e80ee83a0009b7406456d5d520ba8    -0.5363      0.016    -33.562      0.000      -0.568      -0.505\n",
      "82f266f7ceb05c52bf2bc89f4b1455523f1cc7f5     0.0965      0.009     10.904      0.000       0.079       0.114\n",
      "83b396eee89bd80cbb021f119efbffb22fb1867d     0.1642      0.008     20.188      0.000       0.148       0.180\n",
      "849f2df0747aebb29ee76fd70eb75c74ee681778    -0.3264      0.008    -41.916      0.000      -0.342      -0.311\n",
      "8593cedd0de7aaca29bc3f5d509e4f1770a1bdc4     0.2786      0.006     45.522      0.000       0.267       0.291\n",
      "867d5758e905586d2d1650e70f91bb0c4b310533     0.1322      0.007     19.206      0.000       0.119       0.146\n",
      "8696809cc621a57e997a3a349a72d26fb56bfea6    -0.3848      0.010    -38.847      0.000      -0.404      -0.365\n",
      "87037400ecb4fd5e0ecf0096947803bd2b7b9a10    -0.1298      0.013     -9.776      0.000      -0.156      -0.104\n",
      "8a5346d573517fecd831becd37c5538c170bf368     0.3587      0.011     32.531      0.000       0.337       0.380\n",
      "8b0e30464f484ee586865d461703010ea966e707     0.2302      0.005     44.584      0.000       0.220       0.240\n",
      "8c023ae13a70ffa4826606ece75a2928fc61dd16     0.0037      0.008      0.464      0.643      -0.012       0.019\n",
      "8d52f28edcb04652e633cd593d5c37289638f746    -0.1870      0.009    -20.780      0.000      -0.205      -0.169\n",
      "8d5e79990881fe4be9b70ea301f860c42bbd20cc    -0.4784      0.015    -31.931      0.000      -0.508      -0.449\n",
      "8dbb2526e3f8a4efc609454044518860b7f1ddd1     0.6144      0.006    108.209      0.000       0.603       0.626\n",
      "8ed639b0c8ae8edfb51645e089226478b7a13ba5    -0.0852      0.008    -10.293      0.000      -0.101      -0.069\n",
      "8f7a073dd44a92f0cedc517309b006634c43c5ad    -0.1555      0.013    -12.247      0.000      -0.180      -0.131\n",
      "90d6c6bf0521dbc1cf763a2178a71b0de84e833e    -0.0602      0.011     -5.442      0.000      -0.082      -0.038\n",
      "91357c46a192cd532c97ffd3a99fdc18d65a497a    -0.0741      0.011     -6.567      0.000      -0.096      -0.052\n",
      "915399dcefbadc7a7e56b1421018fab2da5f2482     0.5114      0.009     55.060      0.000       0.493       0.530\n",
      "915c4101b071bd566dfb0920e32aef3273abf773     0.0774      0.012      6.345      0.000       0.053       0.101\n",
      "91e1c8bd7117dfd8c86a0b442beea4ed70923643     0.3368      0.007     50.546      0.000       0.324       0.350\n",
      "92292bc8465dd87c634d8a64a75407af742652f3    -0.2555      0.015    -17.130      0.000      -0.285      -0.226\n",
      "92e0730924f4a1082e5c2760438bfc13d2065d2d     0.4161      0.012     35.493      0.000       0.393       0.439\n",
      "93764dbd3290c27576b388b0e8a51e3bd1345f9c    -0.1431      0.010    -14.882      0.000      -0.162      -0.124\n",
      "9402246e9b175e16c3637c85eed01fb6d341193d    -0.1907      0.007    -27.680      0.000      -0.204      -0.177\n",
      "9552e74bcf06aaccfc4ac863c57ac0c8040d7640    -0.4246      0.004   -105.166      0.000      -0.433      -0.417\n",
      "95858c4cb9d93eef6a2463b657b037d5048966cf     0.0239      0.007      3.195      0.001       0.009       0.039\n",
      "963ea0569d2afed71716cc0f3ad5d79b3912027b     0.0976      0.009     10.746      0.000       0.080       0.115\n",
      "9641cfd54915b40ee1a83fc5e7caa0e75fa7ecae    -0.3175      0.005    -64.287      0.000      -0.327      -0.308\n",
      "972a2615f00f45be69a0a56fcb76713fd2fc3dd1     0.1891      0.006     34.117      0.000       0.178       0.200\n",
      "975c415fb97778a8d564634e18e1cbb6ce5cbd9f    -0.2370      0.010    -22.602      0.000      -0.258      -0.216\n",
      "97c1dad684d894c38237c91176b2ca5c490feedf    -0.1237      0.014     -8.582      0.000      -0.152      -0.095\n",
      "984cb063745ed978785516d79167329f62ddb1da     0.6180      0.005    126.035      0.000       0.608       0.628\n",
      "9968a51f274e661affdd90dfee5282bd734b70c7    -0.0890      0.010     -8.553      0.000      -0.109      -0.069\n",
      "9983f5fa63a848aefff3dd354e5bfd89d8903c05     0.4370      0.005     95.377      0.000       0.428       0.446\n",
      "9a74b50212290bec369a19a0c66dcf473e619429    -0.8088      0.014    -56.204      0.000      -0.837      -0.781\n",
      "9a7869df9eae678099a5328f06f85298246923ed    -0.0850      0.010     -8.243      0.000      -0.105      -0.065\n",
      "9af33cc369b031fb335f04660b1207915496e40f    -0.5667      0.006    -96.188      0.000      -0.578      -0.555\n",
      "9bf345f89e209ba0c0cf5ffb6a450669fdc96910    -0.4243      0.012    -36.413      0.000      -0.447      -0.401\n",
      "9d8bae8b2e979663cc0ecd6e78d64378c835507c    -0.4484      0.006    -71.995      0.000      -0.461      -0.436\n",
      "9ddb09b95dc9160bb16e5cb9c5b575f71f426927     0.2516      0.005     51.506      0.000       0.242       0.261\n",
      "9e323fc7eb1998a0eb5b130bfa8950fc8f6211f4     0.7709      0.008     97.418      0.000       0.755       0.786\n",
      "a09211e7154c75063976d4cb552c1408c7698729    -0.3843      0.011    -36.509      0.000      -0.405      -0.364\n",
      "a096c854b584f07f3f48896287679fc3cbcbe02a    -0.2042      0.011    -17.952      0.000      -0.227      -0.182\n",
      "a1eecba00a0b2acc8070df8b98cfd93a0dee5fd3     0.3539      0.006     61.220      0.000       0.343       0.365\n",
      "a2aae1d4eaf2ddb857668f91c40333aacd1780b9    -0.0059      0.006     -1.010      0.313      -0.017       0.006\n",
      "a321b778e1858698be151af2c7652733bcc1e28a    -0.3858      0.007    -51.841      0.000      -0.400      -0.371\n",
      "a34e6dcd71b7cbd85572e920a11dd05fc0223b8c     0.1023      0.004     23.587      0.000       0.094       0.111\n",
      "a397140013b2537852fb4d2a803eac27a0438df4    -0.4000      0.012    -33.744      0.000      -0.423      -0.377\n",
      "a3f510a0ce644d8f47bb5f43c5c66a74f8caf5d6    -0.2880      0.007    -39.662      0.000      -0.302      -0.274\n",
      "a546ca7aef9685e22698350cbac5da70bb03b2af    -0.4926      0.017    -29.482      0.000      -0.525      -0.460\n",
      "a5db86c0062957e03fc1f1150833603acb7f7762     0.3747      0.006     64.669      0.000       0.363       0.386\n",
      "a5fd656a67818e1eecab3af45509cc0ff46822fd     0.3757      0.009     39.679      0.000       0.357       0.394\n",
      "a8aa1562664dd51661ffdc8e3a7eab08c503b21d    -0.4561      0.012    -36.705      0.000      -0.480      -0.432\n",
      "a8dcb8dcd76d16187f2817a3a9c299776b2257cb    -0.0148      0.010     -1.427      0.154      -0.035       0.006\n",
      "aac8a77c368168fec6ae74ebf03ca0acd9752819    -0.2731      0.013    -21.279      0.000      -0.298      -0.248\n",
      "aad0a41753cc2b7c4f2e44b830cc4572cc15218a    -0.3511      0.016    -22.027      0.000      -0.382      -0.320\n",
      "ab3bc670c4cc6e81bf96e8f14e65bdd0b72aca0b    -0.4309      0.009    -48.506      0.000      -0.448      -0.413\n",
      "ac4994ec0910f62695bd3eb25f1987af03568f21    -0.5133      0.010    -53.409      0.000      -0.532      -0.494\n",
      "ac8af5454f7d9abbd2615da5bbf0734314583cb3     0.1701      0.008     21.423      0.000       0.155       0.186\n",
      "ad36a7bdf2f2d8947fd30b607ee75936b107f028     0.0449      0.007      6.103      0.000       0.030       0.059\n",
      "ad696e0bc59b73219456b01a4324b333824f9e04    -0.5737      0.019    -30.451      0.000      -0.611      -0.537\n",
      "adef72ffeefe14666adb798230eff8abe9e5ffdb     0.0108      0.007      1.620      0.105      -0.002       0.024\n",
      "ae0e49a9e50fa38c65f0a09a503b0827a2131947     0.0669      0.004     14.996      0.000       0.058       0.076\n",
      "ae80ee5278d3573dadc91bbe3a1d9f66e79768dc    -0.1714      0.014    -12.341      0.000      -0.199      -0.144\n",
      "aeb6435e58f2359bf9420c8249789e02b27dfacb     0.3868      0.009     40.885      0.000       0.368       0.405\n",
      "b12363c2697652e975586f056c9ead4fa918ab1e    -0.0025      0.007     -0.380      0.704      -0.016       0.010\n",
      "b206d4676c0614f8cfce8ed5a726f193b6c10382    -0.1612      0.007    -23.830      0.000      -0.174      -0.148\n",
      "b234a5a065b24b550614b3272b7962ab8a71698d    -0.4225      0.008    -53.489      0.000      -0.438      -0.407\n",
      "b3410512fdbf24a6ab4ee26c44d72942f29d7054    -0.4397      0.004   -102.554      0.000      -0.448      -0.431\n",
      "b6b66650176b28b41a2ccc6e17f80fe34089d1e3     0.0782      0.010      7.458      0.000       0.058       0.099\n",
      "b80f208a662b4436a75432b323ab12a5deae5315    -0.1440      0.013    -10.791      0.000      -0.170      -0.118\n",
      "b893f6b076eb0b3fc42ae9187ff5e91488715462    -0.3346      0.014    -24.612      0.000      -0.361      -0.308\n",
      "b90a99b0cd1128060cd80bbd1a17746e08b2b04a     0.4741      0.005     95.399      0.000       0.464       0.484\n",
      "b94f8abee597235b3295f127dcce8027bd6a3510     0.1512      0.004     41.379      0.000       0.144       0.158\n",
      "ba2323c9590875cf01c2debe21a8e2bed17614ae    -0.3842      0.011    -34.825      0.000      -0.406      -0.363\n",
      "bb18b735d6a628bf23adec769b2f33c994761ca2    -0.0003      0.011     -0.025      0.980      -0.022       0.022\n",
      "bb5e7d6c093642e31f8e68f43773e06c79f0e51c    -0.7048      0.012    -60.224      0.000      -0.728      -0.682\n",
      "bea9a9855ee488d7c4d5a8882adca2146bb7fa0e    -0.1867      0.015    -12.312      0.000      -0.216      -0.157\n",
      "bff0bbef06c2234dc1d5f77d8722849a40a51e73    -0.2511      0.015    -17.232      0.000      -0.280      -0.223\n",
      "c05d21bbe9c01fa10dfc6d6255c3e8fdeceb7127     0.4139      0.007     59.502      0.000       0.400       0.428\n",
      "c0cbeefd2eb33fcca5ea17601bbe0597f8e2eb08    -0.1550      0.014    -11.385      0.000      -0.182      -0.128\n",
      "c18c10d143fea7f55401c71f7a1f685fc248ea86     0.0391      0.014      2.848      0.004       0.012       0.066\n",
      "c2026557bd28135abbdbf9998bd8f18c2f128a77     0.0564      0.008      6.930      0.000       0.040       0.072\n",
      "c472b0aad7dd89e1698360c24f9d5bf1760c34a4    -0.4071      0.016    -26.191      0.000      -0.438      -0.377\n",
      "c491c56420a39042d7211ad43d120919312026e7    -0.1032      0.007    -14.428      0.000      -0.117      -0.089\n",
      "c58c8f96fcd00472acdf4a1ab059f9aad91eb7ef    -0.9437      0.018    -51.256      0.000      -0.980      -0.908\n",
      "c59a787616be48bffa7d6dd2286d644205f7ae3d     0.1788      0.012     15.127      0.000       0.156       0.202\n",
      "c5ae5840e837e1637590ef1e57ca0cba5cf35fab    -0.1396      0.008    -17.802      0.000      -0.155      -0.124\n",
      "c7c0a3097c0d7f0550dbfd2704257418d93bbaf1     0.2545      0.007     36.659      0.000       0.241       0.268\n",
      "c857da256ff22bd4f6506047c8e0ca3f7b9bff3b    -0.4230      0.008    -50.670      0.000      -0.439      -0.407\n",
      "ca153e9263a1e638b79522999eda86fbba848339    -0.7543      0.012    -62.346      0.000      -0.778      -0.731\n",
      "cad652bbf9947ad4acc334acdabbe88905584e4d    -0.3453      0.012    -28.377      0.000      -0.369      -0.321\n",
      "cb9a833a2d7d2753589877b74a82744a3bde0cd9    -0.0206      0.010     -2.134      0.033      -0.040      -0.002\n",
      "cbfc2ad6a0e7caf204ffaa3fa3fb79e160158855     0.0935      0.014      6.473      0.000       0.065       0.122\n",
      "cdc4e15452a01b07fa15d7289e3ffbbed3e0ed8f     0.0504      0.006      8.945      0.000       0.039       0.061\n",
      "ce232f0ab834bd7e3ae1a44cbbbe04257250c87c     0.3949      0.008     52.609      0.000       0.380       0.410\n",
      "cec70327954cf33522d07d72eb76d62f1fe13e78     0.6074      0.008     74.286      0.000       0.591       0.623\n",
      "cee7af469b8ba846c49318f3a4068563cf3dd05b     0.2492      0.009     27.701      0.000       0.232       0.267\n",
      "cef638b49e1b4018f5678e726c449929c08e3ee6    -0.2038      0.009    -22.143      0.000      -0.222      -0.186\n",
      "cf5913ec250ca38f1367dcdaf20425636bdca082    -0.2060      0.008    -25.480      0.000      -0.222      -0.190\n",
      "d10dd724825291d9244ca25610172432542c741d    -0.1337      0.011    -12.641      0.000      -0.154      -0.113\n",
      "d15a1896a3de599389f0dd7adbf343b2eb530b8a    -0.3107      0.011    -27.682      0.000      -0.333      -0.289\n",
      "d19c913f78a9be3c1bf1cd7cdda3199027aced29    -0.0202      0.012     -1.642      0.100      -0.044       0.004\n",
      "d1b7f8c5b8722e228fbe31695cb044b541f2f227    -0.8873      0.023    -38.305      0.000      -0.933      -0.842\n",
      "d3a16dae731076229d9f44b1e84fcf74695c8aca    -0.4589      0.010    -46.109      0.000      -0.478      -0.439\n",
      "d40b370026cdc5658409b7f2576d00dac432bb20     0.2640      0.010     25.426      0.000       0.244       0.284\n",
      "d539a57bf8b8ce9da4ff837951ddf00600617213    -0.2380      0.008    -30.595      0.000      -0.253      -0.223\n",
      "d79a59d8495ec1a94057488f50ccd5e7c37a0489    -0.2092      0.006    -33.377      0.000      -0.222      -0.197\n",
      "d826d72a54b4f55d113d9ea50a823b36c13a7fbc    -0.3495      0.013    -26.644      0.000      -0.375      -0.324\n",
      "d8d3b7acffdec28e930f9069e3be6a6edf402167    -0.4638      0.015    -30.333      0.000      -0.494      -0.434\n",
      "d905a8320cc784535f84b66c8bae4c8b870fcf8f     0.2614      0.007     36.455      0.000       0.247       0.275\n",
      "d9a98666339e7f6dadd0f6935460cb04d85163a5    -0.6500      0.016    -41.920      0.000      -0.680      -0.620\n",
      "da55d310d2dacac4915e5e5560fd260d68bf4a54    -0.2709      0.008    -33.669      0.000      -0.287      -0.255\n",
      "dd6d90e48bce2e5ad0adb3f594a864a69ed71291    -0.1122      0.008    -14.943      0.000      -0.127      -0.098\n",
      "ddb6ed217a03b71b9051f86b74dc0d75965c7225     0.0606      0.013      4.836      0.000       0.036       0.085\n",
      "ddecaeb35b0ebd41e5636f6e4c2fda182705ecd5     0.1093      0.006     17.793      0.000       0.097       0.121\n",
      "de10039b521331ccf9fc13de304b18ed64d40a3b     0.2412      0.005     47.808      0.000       0.231       0.251\n",
      "de12906e0db36d2e4bbc1c5ff90414836ec64fd0     0.4783      0.011     44.592      0.000       0.457       0.499\n",
      "de7949ad59a95e3a509a3b42c45d8f6f76b73952    -0.0129      0.012     -1.062      0.288      -0.037       0.011\n",
      "df47bcaba9551482dfc8ef430d05ecbd0b9673be     0.0007      0.008      0.086      0.931      -0.015       0.017\n",
      "df49403aec05b3350597a2e9d724a0270fbaa7bb    -0.9162      0.017    -54.816      0.000      -0.949      -0.883\n",
      "df790bd15f8c8cf554782c311601498a590ce0d1    -0.0456      0.013     -3.586      0.000      -0.070      -0.021\n",
      "e010ecae51bb3c407e56dd2f200d71af58fc6f07     0.4568      0.011     40.947      0.000       0.435       0.479\n",
      "e1659ed921375627c30b7d53cecc63d0df309064    -0.0590      0.008     -7.661      0.000      -0.074      -0.044\n",
      "e3ff7f7a5cdf6d7a096d0fc3f5d137ff69f59bef     0.0376      0.011      3.452      0.001       0.016       0.059\n",
      "e49b2ae619e18e50adeb21199a974e01ef468580    -0.4755      0.013    -37.672      0.000      -0.500      -0.451\n",
      "e56ff8ec62ca5873b5b7eb1f1cbdf0d8a1875306     0.1939      0.006     33.162      0.000       0.182       0.205\n",
      "e66507266a0bbc94eeb885e7fd7324a9c4cce1d3     0.1901      0.010     19.864      0.000       0.171       0.209\n",
      "e740b05973b3001388429e166c9bf301ea43dfc2    -0.1942      0.005    -38.774      0.000      -0.204      -0.184\n",
      "e7685ebac46af7caddac9e8cbbad7d5c7005de9d    -0.0635      0.014     -4.500      0.000      -0.091      -0.036\n",
      "e7b846a5ec1fad720b7a3669bb6fdc8896c422fe    -0.3426      0.009    -38.161      0.000      -0.360      -0.325\n",
      "e8a6af1314e59a3e871fd865833dfd44eaed7002    -0.6880      0.010    -66.833      0.000      -0.708      -0.668\n",
      "e8c9039d3beefa84a0df078d109da01318ec206e     0.5289      0.006     85.724      0.000       0.517       0.541\n",
      "e95edbc398975eb64a9b9d396b445669adbbb586    -0.3949      0.005    -83.054      0.000      -0.404      -0.386\n",
      "e9df02ccd91097a071ca6ea33277b736c88ae3c8    -0.1802      0.009    -19.491      0.000      -0.198      -0.162\n",
      "e9f8a9e0f5137535c6f6695b5da63333c7f67c92    -0.2910      0.007    -42.026      0.000      -0.305      -0.277\n",
      "ea8773a50f8d2a535315e9057028289a8fd3e02d    -0.1447      0.013    -10.836      0.000      -0.171      -0.119\n",
      "eada375a4dbc87210ca2ea195deaa1dc7413729b     0.3806      0.007     56.561      0.000       0.367       0.394\n",
      "ec3086730e41038e61583da08c07a9dbeae5f35e     0.0711      0.006     12.906      0.000       0.060       0.082\n",
      "ee1c8ba564283e324c5748adc1c957d90962244d     0.1510      0.012     12.291      0.000       0.127       0.175\n",
      "ee9df52b8820e414b470c173f87d1f9191947508    -0.3188      0.004    -73.383      0.000      -0.327      -0.310\n",
      "efb40a74341dc767bea620bf1bf0104ce9d0beba    -0.0156      0.007     -2.156      0.031      -0.030      -0.001\n",
      "f0feca71d9fbb60bdabea63cb5ad6b75e3a0ca1d     0.1977      0.012     16.291      0.000       0.174       0.221\n",
      "f13cb4eff1aecd583aea9cac14b5bb11bbb022b0     0.1854      0.009     21.217      0.000       0.168       0.203\n",
      "f1ab198a6a10ad41077b49ea1b90a29b3fb68d3a    -0.6456      0.014    -46.839      0.000      -0.673      -0.619\n",
      "f23074d04da5190ae2b95814c9a366654f73ca74    -0.1684      0.016    -10.649      0.000      -0.199      -0.137\n",
      "f2dda96c0216a749dcefb7ff962aa388f5d3ae7b     0.0262      0.009      2.989      0.003       0.009       0.043\n",
      "f2fc1d050b679b69b9b9f1995aec92792b7a1407    -0.3688      0.017    -21.230      0.000      -0.403      -0.335\n",
      "f40f7c1a4acb1267c0b098bbc49cb28960bf07ba     0.1980      0.008     23.700      0.000       0.182       0.214\n",
      "f44dc84ccf754972f63d5c97cf74874b809c39ea    -0.5129      0.007    -70.569      0.000      -0.527      -0.499\n",
      "f4781db7e0d574739153110499d48aa08ab72c5b     0.0396      0.011      3.556      0.000       0.018       0.061\n",
      "f69a2a62d9093d5b2f4bb512314d5d1754b10d70    -0.5571      0.013    -43.294      0.000      -0.582      -0.532\n",
      "f6e04d5135da2b0c0767dc81e3a1c6fad371625b     0.1057      0.009     11.330      0.000       0.087       0.124\n",
      "f6f14762c3326ff771a3b3dd75c88680a52ff9bb     0.2193      0.012     18.735      0.000       0.196       0.242\n",
      "f712079737d9c9543296064f52165919f093aa88    -0.1404      0.012    -11.843      0.000      -0.164      -0.117\n",
      "f7830893dd49fe39ed52f3a9cb424ca959b5580f    -0.3305      0.016    -20.502      0.000      -0.362      -0.299\n",
      "f9893eab7863a2150c5237db07e747c41a424dca    -0.2904      0.008    -34.245      0.000      -0.307      -0.274\n",
      "fb7d1e4d3aaf8a9e4ce51301a5d15241c6c3cad7    -0.5052      0.016    -31.189      0.000      -0.537      -0.473\n",
      "fbc89d655b0bee5e28be220fd32b387c7a05a5e2     0.2475      0.010     25.244      0.000       0.228       0.267\n",
      "fc0ae5b9e0cdd41054037a6394d7bd2e6e067eef    -0.2546      0.007    -34.167      0.000      -0.269      -0.240\n",
      "fc66dfab82fdad061547aa40cdf9c33329d35928     0.0794      0.004     20.664      0.000       0.072       0.087\n",
      "fcba6c814e849d1bbe22e5d46ff473f8153c0da5     0.3610      0.008     45.140      0.000       0.345       0.377\n",
      "fcd7f19d1b99ab5e1897984c08887df30eb0449b     0.4584      0.004    127.059      0.000       0.451       0.465\n",
      "ff756eb5ea347265b69af40d828247445923f17c     0.0007      0.010      0.070      0.944      -0.019       0.020\n",
      "bloom                                        6.0206      0.002   2513.111      0.000       6.016       6.025\n",
      "c0vm                                         6.3755      0.002   4144.311      0.000       6.372       6.379\n",
      "clac                                         6.0307      0.003   2087.983      0.000       6.025       6.036\n",
      "clac-exp                                     6.0058      0.003   2262.960      0.000       6.001       6.011\n",
      "doslingos                                    5.8371      0.003   2003.117      0.000       5.831       5.843\n",
      "editor                                       6.1927      0.003   1908.761      0.000       6.186       6.199\n",
      "editor-check                                 5.7333      0.005   1208.446      0.000       5.724       5.743\n",
      "exam                                         6.6174      0.002   3055.389      0.000       6.613       6.622\n",
      "huffman                                      6.4387      0.002   2769.341      0.000       6.434       6.443\n",
      "images                                       6.1099      0.002   2773.915      0.000       6.106       6.114\n",
      "lightsout                                    6.4262      0.002   3599.928      0.000       6.423       6.430\n",
      "pixels                                       5.8037      0.003   2160.964      0.000       5.798       5.809\n",
      "queues                                       6.3198      0.002   3067.016      0.000       6.316       6.324\n",
      "ropes                                        6.3354      0.002   3631.430      0.000       6.332       6.339\n",
      "scavhunt                                     5.8520      0.004   1598.188      0.000       5.845       5.859\n",
      "setup (Linux)                                5.4309      0.022    248.366      0.000       5.388       5.474\n",
      "setup (Mac)                                  5.2954      0.005   1084.732      0.000       5.286       5.305\n",
      "setup (Windows)                              5.3875      0.007    820.477      0.000       5.375       5.400\n",
      "speller                                      6.2219      0.003   2319.560      0.000       6.217       6.227\n",
      "strbuf                                       6.2979      0.003   2446.507      0.000       6.293       6.303\n",
      "style                                        5.3965      0.003   2072.431      0.000       5.391       5.402\n",
      "tbuf                                         6.2439      0.002   2678.003      0.000       6.239       6.248\n",
      "written                                      5.9954      0.001   4331.069      0.000       5.993       5.998\n",
      "============================================================================================================\n"
     ]
    }
   ],
   "source": [
    "print(results.summary())"
   ]
  },
  {
   "cell_type": "code",
   "execution_count": 177,
   "metadata": {},
   "outputs": [
    {
     "name": "stdout",
     "output_type": "stream",
     "text": [
      "228\n",
      "5357    423.130003\n",
      "dtype: float64\n"
     ]
    }
   ],
   "source": [
    "i = random.randint(0, X.shape[0])\n",
    "rec = X.iloc[[i]]\n",
    "label = y[i]\n",
    "print(label)\n",
    "print(results.predict(rec))"
   ]
  },
  {
   "cell_type": "code",
   "execution_count": null,
   "metadata": {},
   "outputs": [],
   "source": []
  },
  {
   "cell_type": "code",
   "execution_count": 248,
   "metadata": {},
   "outputs": [
    {
     "name": "stdout",
     "output_type": "stream",
     "text": [
      "0    189\n",
      "1     53\n",
      "2    384\n",
      "3     61\n",
      "4    145\n",
      "Name: HT, dtype: int64\n",
      "0    1\n",
      "1    0\n",
      "2    2\n",
      "3    0\n",
      "4    0\n",
      "Name: HT, dtype: int64\n"
     ]
    }
   ],
   "source": [
    "timeslot = 180\n",
    "y2 = y.apply(lambda x : x // timeslot)\n",
    "print(y.head())\n",
    "print(y2.head())"
   ]
  },
  {
   "cell_type": "code",
   "execution_count": 249,
   "metadata": {},
   "outputs": [],
   "source": [
    "model = sm.GLM(y2, X, family=sm.families.Poisson(statsmodels.genmod.families.links.log))\n",
    "results2 = model.fit()"
   ]
  },
  {
   "cell_type": "code",
   "execution_count": 250,
   "metadata": {},
   "outputs": [
    {
     "name": "stdout",
     "output_type": "stream",
     "text": [
      "                 Generalized Linear Model Regression Results                  \n",
      "==============================================================================\n",
      "Dep. Variable:                     HT   No. Observations:                15533\n",
      "Model:                            GLM   Df Residuals:                    15161\n",
      "Model Family:                 Poisson   Df Model:                          371\n",
      "Link Function:                    log   Scale:                             1.0\n",
      "Method:                          IRLS   Log-Likelihood:                -29627.\n",
      "Date:                Tue, 08 May 2018   Deviance:                       29039.\n",
      "Time:                        22:22:12   Pearson chi2:                 3.13e+04\n",
      "No. Iterations:                     6                                         \n",
      "============================================================================================================\n",
      "                                               coef    std err          z      P>|z|      [0.025      0.975]\n",
      "------------------------------------------------------------------------------------------------------------\n",
      "006224cb5c837901ba7551f1b8d087c3c2fcdba3     0.2245      0.103      2.186      0.029       0.023       0.426\n",
      "0067b4aeba1b08d3fe5ada6472fa8a514a079711    -0.2144      0.225     -0.954      0.340      -0.655       0.226\n",
      "00cb4d194d9203f201f0608575e0cab8e78aaf78     0.3647      0.054      6.694      0.000       0.258       0.471\n",
      "00e8f150107817ea183641d4cea292e2c42d3479    -0.1856      0.110     -1.692      0.091      -0.401       0.029\n",
      "01b9c30a0a24f7a7b3b1e2b5ebbddff10a64159f    -0.5314      0.140     -3.798      0.000      -0.806      -0.257\n",
      "0301ce2ebf8e6acc96675078ec31915271ade772    -0.5039      0.097     -5.183      0.000      -0.694      -0.313\n",
      "0373ebbfc11248eaa87e1acb58c8712ad64c6f5f     0.1091      0.155      0.702      0.483      -0.195       0.414\n",
      "041d5876aff768aec01146ca1c38b41d9ff86dc5    -0.0080      0.073     -0.110      0.912      -0.151       0.135\n",
      "043f25b4402086ef46ab83c01b061911324ed320    -0.4469      0.100     -4.447      0.000      -0.644      -0.250\n",
      "04e1c1891039bac3824114bb548f6e43cb78192a    -0.0282      0.197     -0.143      0.886      -0.414       0.358\n",
      "04f58f207a7227281555136355b3808419ffab92    -0.0725      0.190     -0.381      0.703      -0.446       0.301\n",
      "050d1466a70dc5f775aedfe2a1e418142681dfa8     0.4585      0.147      3.116      0.002       0.170       0.747\n",
      "059bf44f0c6dc975e0a89dadd9ca883a4038b0cf     0.3234      0.079      4.095      0.000       0.169       0.478\n",
      "06caf76b6932f8bbe05f8cf97ed937ef8ff39093     0.3096      0.165      1.871      0.061      -0.015       0.634\n",
      "075bc39fa82c2304078f7a8e45bfa882a767cf25    -0.6019      0.290     -2.076      0.038      -1.170      -0.034\n",
      "07b1735b526acbe4722f9a7f8dc76de4e0c0aeea     0.0676      0.137      0.495      0.621      -0.200       0.335\n",
      "08020ea2213623e8b3b6f4686dbdc12bf3e1669f     0.4881      0.161      3.024      0.002       0.172       0.804\n",
      "08fe02a2fa2cbf80833c6884126b75d94ff611cd    -0.4709      0.143     -3.302      0.001      -0.750      -0.191\n",
      "097973347def5617759fb92a39aff8e6f232e2b7     0.0996      0.132      0.756      0.450      -0.159       0.358\n",
      "0a7f1085475e9e9287e127b43add68c90d68089f    -0.0532      0.139     -0.384      0.701      -0.325       0.218\n",
      "0b4c1ae362a828b876ac9ac88082161a57b3750c     0.1414      0.061      2.301      0.021       0.021       0.262\n",
      "0e0983221f481c43fd9cd9eeeb383ff28ac154ae    -0.6980      0.122     -5.733      0.000      -0.937      -0.459\n",
      "0fc22eb3424b71918aa5ec9b1987b8b3ad0223fd     0.4594      0.107      4.288      0.000       0.249       0.669\n",
      "0fd0b74e791db9f550e88985d552068317be9358     0.2084      0.134      1.556      0.120      -0.054       0.471\n",
      "0fe4cdbdfe2fe66ea6a1c0aa7f9828a668127430    -0.4631      0.237     -1.957      0.050      -0.927       0.001\n",
      "100da17f34de60d3c2420ef5ade38e6f6a36cbd1     0.0348      0.147      0.236      0.813      -0.254       0.323\n",
      "10f21890c19fea9765d49440052635eb3cac07ca     0.4213      0.144      2.920      0.004       0.138       0.704\n",
      "115fb322f24b2d2d24eef7798ac4cb0b86a6e301    -0.8765      0.278     -3.151      0.002      -1.422      -0.331\n",
      "13d5e3da748c2fe612fe731869c0f55150eb37b1    -0.5011      0.108     -4.661      0.000      -0.712      -0.290\n",
      "13f49095a84a678a942a847afe5947820ebce1a3    -0.5016      0.244     -2.056      0.040      -0.980      -0.024\n",
      "166d93666d13f48ea30bc6ac47e38f5077ada39f     0.0513      0.121      0.424      0.672      -0.186       0.289\n",
      "17f9322cf35f4774749edaddda996fb621b6ed53    -0.0039      0.184     -0.021      0.983      -0.366       0.358\n",
      "1862a28eefc7f2b18c4d848332a7de7adc201509    -0.2265      0.147     -1.539      0.124      -0.515       0.062\n",
      "1929276614360b33610ac9c83834315b4187e042    -0.2454      0.117     -2.099      0.036      -0.475      -0.016\n",
      "19527eed4d5fc6a84971849aed1ed43691e339c6    -0.2679      0.197     -1.359      0.174      -0.654       0.118\n",
      "1b5ea13773948f4f078b0d2651731d8eba67c3cb     0.1771      0.079      2.230      0.026       0.021       0.333\n",
      "1b8197242af753737c19e53e0bf678354926ee40    -1.1858      0.197     -6.010      0.000      -1.572      -0.799\n",
      "1c106716a0a99bba9b2e8b98371df5c6eea1b4af     0.0783      0.151      0.519      0.604      -0.217       0.374\n",
      "1c3a0ae9996ef2da3abbff59de6f368f16cdbcc7    -0.9904      0.334     -2.966      0.003      -1.645      -0.336\n",
      "1d73e18b566a00da0b06e6518938a8f19a08baed     0.0656      0.076      0.869      0.385      -0.082       0.214\n",
      "1e71f0a29beb17e4924590a0bba9170aefc0e346    -0.2561      0.063     -4.079      0.000      -0.379      -0.133\n",
      "1fad85a9d2cc516e39eec39f46c459bd112e3606    -0.1485      0.125     -1.192      0.233      -0.393       0.096\n",
      "1fd5ba8553115de12d0069c95c40766d5ec2acbc    -0.5415      0.149     -3.641      0.000      -0.833      -0.250\n",
      "1fe7f219cdc2365f894d56178c6a45c6331e4c42    -0.6242      0.317     -1.970      0.049      -1.245      -0.003\n",
      "210e913293696c1af8048239fe773048d1e6a01d    -0.3605      0.111     -3.256      0.001      -0.577      -0.144\n",
      "219d645628239e99950eb8ba15378a9e95e67e30     0.2428      0.106      2.297      0.022       0.036       0.450\n",
      "21ac5e86b1ae2f9156c29a4cb406eedd69e04b80     0.0023      0.175      0.013      0.989      -0.341       0.346\n",
      "21cb1f9adbacb7cf4bfb15085966652648310c05     0.4183      0.037     11.222      0.000       0.345       0.491\n",
      "21ea8a06b4b9a8a0e42da2ec998803e97d5948f9    -0.2484      0.205     -1.212      0.226      -0.650       0.153\n",
      "2391b47589ed212e593bc58d1d08ece77db55cdf    -0.5350      0.187     -2.859      0.004      -0.902      -0.168\n",
      "247cd1db004c629a8ad5a7d88fc75de0de7972d1    -0.4120      0.096     -4.279      0.000      -0.601      -0.223\n",
      "25ce4f97010048d7baa2ecf47446184a1c934792     0.1171      0.092      1.270      0.204      -0.064       0.298\n",
      "2673bcce2989faf2477e041c5ab7f9bac50134ae     0.2532      0.117      2.171      0.030       0.025       0.482\n",
      "270d2fdab318091921a2f9940ec3ce04922d3e5d    -0.1250      0.175     -0.713      0.476      -0.468       0.218\n",
      "276768edb4b4457e0d3f7d4cdcdaeeb6c0414ff9    -0.8853      0.137     -6.441      0.000      -1.155      -0.616\n",
      "277a75a3bb0244dfb329763b0e015d78abe98744    -0.1819      0.230     -0.790      0.430      -0.633       0.270\n",
      "27f548c627aee06fb3628c34170ed4e1022c8f9c    -0.4512      0.244     -1.851      0.064      -0.929       0.027\n",
      "27fb688bd59677dc60d4d73de945d102e9330271     0.0741      0.087      0.851      0.395      -0.097       0.245\n",
      "29b01f04b8540af5dc920e524da46fb8d41ff8ee    -0.2391      0.112     -2.133      0.033      -0.459      -0.019\n",
      "2a00d3f90caf7d88fa184ddebad47b9e3fb7f5a6    -1.2184      0.354     -3.438      0.001      -1.913      -0.524\n",
      "2a67ec1fb5d7181ff9454c7760deff7c6d7fc1c2     0.0358      0.091      0.394      0.693      -0.142       0.214\n",
      "2b433ff285f4e8913152d8db94952b20e263839e     0.5600      0.143      3.919      0.000       0.280       0.840\n",
      "2b43ae46d05473a644b5307b53a84c2439477a4f    -0.2877      0.124     -2.311      0.021      -0.532      -0.044\n",
      "2b527df985c4d3d4d0e06a1e969b810fadc55d8f    -0.0437      0.173     -0.253      0.800      -0.382       0.295\n",
      "2d35f6eddd1809a245144f6d1be3e3862d603751    -0.3304      0.197     -1.675      0.094      -0.717       0.056\n",
      "2d517df03e6f71ac84e04e7063d824e561067c2a    -0.4925      0.187     -2.635      0.008      -0.859      -0.126\n",
      "2d55ad4c9360a4b7e5fb63bffbe0b079759ddc7a    -0.7715      0.156     -4.949      0.000      -1.077      -0.466\n",
      "2d6e445ad50f65478dc179ef217e537262976c34     0.1715      0.115      1.493      0.135      -0.054       0.397\n",
      "2f1fdc7dc00bc8902a0186dfe79962538d730322     0.0617      0.116      0.531      0.595      -0.166       0.289\n",
      "2f60462a73646da3c350f41958c76c22856aab36     0.2336      0.123      1.900      0.057      -0.007       0.474\n",
      "30750c67a349e59cfe1af5d73f90b8422c01d9ab    -0.4158      0.109     -3.822      0.000      -0.629      -0.203\n",
      "30ad8d33a547818087547dbc0f17b76da9b20305     0.4927      0.078      6.287      0.000       0.339       0.646\n",
      "30e250d40e24d282563e686c433cb1f92fb9e47b    -0.7157      0.155     -4.604      0.000      -1.020      -0.411\n",
      "313c408d07655f9e275d897e8c1d189b3841f16d    -0.1904      0.170     -1.120      0.263      -0.524       0.143\n",
      "3142dc3fc3f941c98780e2d01a07672e897cc2d7    -0.4129      0.099     -4.171      0.000      -0.607      -0.219\n",
      "315006c2d2b2fb8c1d53c55296c1656bf2a6c88a    -0.7084      0.210     -3.380      0.001      -1.119      -0.298\n",
      "31c06a4d1d0c604dcf240d43dd0d364ed21a3869    -0.3553      0.084     -4.207      0.000      -0.521      -0.190\n",
      "31e68be39133fc9659fa1496e34bece63ec531f3     0.0826      0.119      0.696      0.487      -0.150       0.315\n",
      "322343b384ea6068479757efb5af834d0c6a548c     0.0206      0.143      0.145      0.885      -0.259       0.300\n",
      "3247ddcb13d38bc31852f16561c8301da3ed952e    -0.0505      0.123     -0.411      0.681      -0.291       0.190\n",
      "3296db96d489d60dda39539deaeedb29884cfd3c    -0.3786      0.115     -3.301      0.001      -0.603      -0.154\n",
      "3338e35e1020feb5582e8cc9fd5cde5bdaefaf12    -0.6157      0.209     -2.940      0.003      -1.026      -0.205\n",
      "333ed3cf5d361856231657346e347becbf5c858d     0.2245      0.140      1.603      0.109      -0.050       0.499\n",
      "33573dcedddbc5924f4fc0c16db8b901fd1c8286    -0.3782      0.144     -2.623      0.009      -0.661      -0.096\n",
      "355e8ac270cada6d77c0f5ac46759d16bb09083f    -0.2473      0.131     -1.890      0.059      -0.504       0.009\n",
      "36f03b7ced0983db72f45f73dc9757efed3c9158     0.2996      0.106      2.821      0.005       0.091       0.508\n",
      "37f0f51c57e6e33fa548ddbc3efb9f94111bbc79    -0.3350      0.201     -1.664      0.096      -0.730       0.060\n",
      "38040bd8b3683d0ad005c809de49cb1036103acc     0.0448      0.134      0.335      0.738      -0.218       0.308\n",
      "3847d9296290790cf7d189c89974fc38a5437e79     0.0417      0.147      0.283      0.777      -0.247       0.330\n",
      "384b70398d58b640fec183934f85a06a18cb7fe4    -0.3178      0.134     -2.375      0.018      -0.580      -0.056\n",
      "39336da3a02c026b0c12605951c433d870e4e021     0.1314      0.068      1.925      0.054      -0.002       0.265\n",
      "3b6802bc37f49ff50b654b694684d905625d54d3    -0.1731      0.219     -0.789      0.430      -0.603       0.257\n",
      "3bc93de5ca33ec17c0541244b7b47a13c0cc63ef     0.2503      0.082      3.066      0.002       0.090       0.410\n",
      "3c5b93c63599c4a3b7a72901271aa7fdd75c1df1     0.2606      0.099      2.622      0.009       0.066       0.455\n",
      "3d6aa4ff3b4286cdc215c73d79b584df1a777a96    -0.0795      0.072     -1.103      0.270      -0.221       0.062\n",
      "3e02642b9fe7058bfc194716f70ad79ffebfc730     0.0942      0.066      1.426      0.154      -0.035       0.224\n",
      "3e236fb0e2c1fbd7140c029ca6ba44a831775256    -0.4140      0.074     -5.593      0.000      -0.559      -0.269\n",
      "3e30a8ed7e03f141c9b2a38efdb9686806dd79db     0.2373      0.168      1.411      0.158      -0.092       0.567\n",
      "40ad830a60baf6e374a0806135957ca5daa3f7ca    -0.1368      0.055     -2.482      0.013      -0.245      -0.029\n",
      "41f24f752535dc071b4bec92e4468cce97b3f168    -0.1167      0.124     -0.943      0.346      -0.359       0.126\n",
      "42064e9a9e14378becee617103935efa96a49a8d    -0.1018      0.225     -0.453      0.650      -0.542       0.338\n",
      "4264d8a93ff4fef8edfecda38ca9676a82f2d3ba    -0.5586      0.289     -1.931      0.054      -1.126       0.008\n",
      "426f54cb4499db2583a17a81c21407a1b2124893    -0.3061      0.237     -1.293      0.196      -0.770       0.158\n",
      "42abaaac0640eee186f066e7f7d3ec65d8705694    -0.0472      0.184     -0.257      0.797      -0.407       0.313\n",
      "42dd696b29be78e44ae82bd91bf22bfb8cbdd28b    -0.0957      0.121     -0.790      0.430      -0.333       0.142\n",
      "43a1d7e6da0880f78247d715baaa1cf118389b1d    -0.0963      0.092     -1.046      0.296      -0.277       0.084\n",
      "449bb2b2082df349ab4a682a363e7c47a549791b    -1.2976      0.302     -4.295      0.000      -1.890      -0.705\n",
      "46c2195d9ce7bb05fd488d2f5d15b979ff3310eb    -0.3355      0.194     -1.729      0.084      -0.716       0.045\n",
      "47095acef2fd17eafc5721692bf06a81add83cbb     0.2003      0.075      2.676      0.007       0.054       0.347\n",
      "47ca0647afccdfc90230abfef6a10e3ae6087cb8    -0.7131      0.125     -5.683      0.000      -0.959      -0.467\n",
      "47e1f2010f648690070c3aec63dd23a467f5536b     0.2198      0.083      2.658      0.008       0.058       0.382\n",
      "48a2500d227c5a06e58b19cabf24f3b17afa85e4     0.5165      0.081      6.339      0.000       0.357       0.676\n",
      "48fbe0c7fd1ef3317ae558c0e46ae2fc290640c1     0.1354      0.085      1.586      0.113      -0.032       0.303\n",
      "492333bcb6b4257abd4e8b1d5a4b76e91ee75f0a     0.2086      0.210      0.995      0.320      -0.202       0.619\n",
      "4971eeff66a31cab39d56c0ac0fe1c348bc04c6c     0.1053      0.117      0.899      0.369      -0.124       0.335\n",
      "49aa1eaed3a29e56d385c6d1b2d9fbabf6cbc11f    -0.2092      0.094     -2.228      0.026      -0.393      -0.025\n",
      "4a45c4de3aecc0089f12f401c1ffac6b0d94506e     0.4110      0.166      2.480      0.013       0.086       0.736\n",
      "4c2182cf9d2ac00fb8ce8fceb3ec852eb9ac441c    -0.4500      0.219     -2.054      0.040      -0.880      -0.021\n",
      "4c408220b16483f4c7aefbd40bceccc399c42817    -0.2346      0.175     -1.338      0.181      -0.578       0.109\n",
      "4d95d05ec29ea5d581c21166810342e51807242d    -0.4936      0.219     -2.253      0.024      -0.923      -0.064\n",
      "4da4eacb00b805713edf2c67860c9b5a6fb53b24     0.3532      0.066      5.386      0.000       0.225       0.482\n",
      "4e7054288040b6712e858f9153769bcc5ab6d19c     0.1316      0.120      1.094      0.274      -0.104       0.367\n",
      "4e91b67af0b399db887b7b186c6437e92190db66    -0.3840      0.083     -4.652      0.000      -0.546      -0.222\n",
      "4fea534d79da5cecc4be81aa689e5fd8662f7d07     0.4279      0.131      3.276      0.001       0.172       0.684\n",
      "4ff2013af51f271aa2294f536d934cfe5778679f    -0.4133      0.108     -3.844      0.000      -0.624      -0.203\n",
      "51eef7ce297b546b888391e74166e53be9563aac     0.0098      0.112      0.087      0.931      -0.210       0.230\n",
      "5573b626d831e5339408f2d947ca1790550dccf8     0.4905      0.133      3.697      0.000       0.230       0.751\n",
      "563adbdaa4a9620648b079483d6867382de9bd84     0.4690      0.161      2.908      0.004       0.153       0.785\n",
      "5660915b416b110d3125eddaf15d004c09f2dcf9    -1.1974      0.103    -11.611      0.000      -1.400      -0.995\n",
      "56a38d1000e34a968e618dc6e64908807ac8fc2e    -0.9796      0.230     -4.253      0.000      -1.431      -0.528\n",
      "575fca6254c8980f71e534de68c86c2d3f8fd004    -0.1475      0.170     -0.867      0.386      -0.481       0.186\n",
      "57c2fcd817b3483e5b1f8ea7feb59c4fd2a6af0a    -0.0030      0.108     -0.028      0.978      -0.215       0.209\n",
      "580bfddeea5ee95f5e777e663f82f34bee03e651    -0.0542      0.152     -0.357      0.721      -0.352       0.244\n",
      "581eee7050c54e3c5f442a9c8c5f2722a6fbe0a2    -0.5949      0.104     -5.738      0.000      -0.798      -0.392\n",
      "58a4104a868305e40cd6f5aab23f0caad3f655ad    -0.3600      0.269     -1.336      0.182      -0.888       0.168\n",
      "590644fec550ce235ce0bf7a24bbfb7a2c536f4e    -0.5411      0.289     -1.870      0.062      -1.108       0.026\n",
      "59d8475e437f4eb54794b6a11a271a8d12beec7b     0.0618      0.181      0.342      0.733      -0.293       0.417\n",
      "59e157632260cb73a713bbeb1ded3b7ea0fc3a07     0.4606      0.067      6.904      0.000       0.330       0.591\n",
      "5a16be629064e57edec1840f1e5fa23f750bd01d    -0.7546      0.268     -2.816      0.005      -1.280      -0.229\n",
      "5b339c2a7cff47dd2041d241acad97418cf20b6d    -0.0588      0.162     -0.363      0.716      -0.376       0.258\n",
      "5bc97e2e81c49356cc716e20517b7c64b3008c8d    -0.2074      0.237     -0.877      0.381      -0.671       0.256\n",
      "5f42be54b640055ce2ced08e9fe012927b72fc16    -0.1133      0.181     -0.627      0.530      -0.467       0.241\n",
      "5f60008ae16fc614cab06927b0dea2377c198dc2    -0.0182      0.132     -0.138      0.890      -0.276       0.240\n",
      "5ff5e0307bea0fa7bad712f60649b13fc8187bb1     0.1391      0.133      1.048      0.295      -0.121       0.399\n",
      "628fdbfc9b05860953ea4ef7c0749e66ad1329df     0.1152      0.168      0.686      0.493      -0.214       0.444\n",
      "62f9a90d15775a44e6c5898c1f5dabdc55193d6f     0.6025      0.123      4.916      0.000       0.362       0.843\n",
      "63caea29f0c23d186273efd85721e58288f82130    -0.0151      0.068     -0.222      0.824      -0.149       0.119\n",
      "653285a988ffcf8b845aad2381fe8108abee4081     0.0365      0.170      0.215      0.830      -0.297       0.370\n",
      "656e7c9ff49ddc42d04fa3b3301f1b711fdbc855     0.0558      0.082      0.678      0.498      -0.105       0.217\n",
      "6610023792163716e8d302ddd50a38c2bdfdf1d7     0.1226      0.121      1.013      0.311      -0.115       0.360\n",
      "664aaf8d52e1654b54408d23b2276d9171d19a9b     0.2569      0.074      3.489      0.000       0.113       0.401\n",
      "67a87b244c9fbf50006ad301e7340d7e70a7fcb8    -0.2139      0.175     -1.221      0.222      -0.557       0.129\n",
      "68310824f4d9e2d9e888a4c00a2d2c05057786e6    -0.2635      0.143     -1.848      0.065      -0.543       0.016\n",
      "6945099e0f9cf384a32a2674fcd0a31361247f23    -0.0225      0.214     -0.105      0.916      -0.442       0.397\n",
      "6ab1a2443068dae41c502d2d5f786d812b272ea1     0.3642      0.117      3.101      0.002       0.134       0.594\n",
      "6b76b0a17c0280e67db38b5473229ee2520e398d     0.6907      0.157      4.392      0.000       0.382       0.999\n",
      "6b8fbe72c62315b5262975984ea3a513f1c26497    -0.5802      0.236     -2.454      0.014      -1.044      -0.117\n",
      "6c76f2af59d3eeafe4eb8ef19531391b9e25115a    -0.1606      0.124     -1.299      0.194      -0.403       0.082\n",
      "6cf75327f5f8b23b19dec4917d533e76b23e15cc    -0.4821      0.181     -2.666      0.008      -0.836      -0.128\n",
      "6d4d5cd1b52184b97491adb1655b9181a7bab19b    -0.2227      0.136     -1.634      0.102      -0.490       0.044\n",
      "6f08a7f53cc94c199618278f3bf47146912843b6    -0.0393      0.146     -0.270      0.787      -0.325       0.246\n",
      "7055453cf94056f98ffc291299d56e417f0c3b14    -1.4877      0.409     -3.638      0.000      -2.289      -0.686\n",
      "71da11206ef6c10b692e263240d7fbbd60d87fc6    -0.1343      0.252     -0.533      0.594      -0.628       0.359\n",
      "7352ff7ca7cb4d9e7c841332aaae0765f1243005    -0.3197      0.154     -2.081      0.037      -0.621      -0.019\n",
      "7440b6c752206a2c301485231f351d6a888b0add    -0.1281      0.214     -0.598      0.550      -0.548       0.292\n",
      "76b666ff15995a70a41331f061850ee82294c43a     0.2265      0.194      1.168      0.243      -0.154       0.607\n",
      "76c468d5cd44912cd75638eb6c51d0cc9719fc16    -0.1221      0.105     -1.167      0.243      -0.327       0.083\n",
      "773f5f725a8f8c491d73539ad76c752d9457993b     0.4773      0.052      9.251      0.000       0.376       0.578\n",
      "7754767892b082c0d16b457e2ffe303de439c131     0.2138      0.225      0.951      0.342      -0.227       0.654\n",
      "7938be65cd2c79192b13e9d8716d65db29ad75df    -0.3594      0.237     -1.520      0.129      -0.823       0.104\n",
      "7a3ff1726a9e59878e74b78b612e705ba388f35c    -0.1739      0.078     -2.219      0.026      -0.328      -0.020\n",
      "7a8f5bf354658dde241106286ad21cf57e74f017    -0.3788      0.114     -3.323      0.001      -0.602      -0.155\n",
      "7b5f28d89687bc1df89e901219eda1cb40f939ef     0.0832      0.159      0.523      0.601      -0.229       0.395\n",
      "7da5e32e0017fb0c502ef47960f523dc8d525e31    -0.3533      0.187     -1.891      0.059      -0.720       0.013\n",
      "7df0b64e9fd9debcd0f901590a02051c38a642a7    -0.3221      0.231     -1.395      0.163      -0.774       0.130\n",
      "7f016e1d4fdc455735937f4f4a531457322004bf    -0.2572      0.202     -1.273      0.203      -0.653       0.139\n",
      "7f7bd56ff08cbb5411feb5c4e98529a35ce2415d     0.3010      0.162      1.862      0.063      -0.016       0.618\n",
      "7f8f2d9019551c367d3c764b2a5198d84ba90517    -0.5301      0.165     -3.204      0.001      -0.854      -0.206\n",
      "803decb3ca5868e7a7413f7c6dbb4fb256f61c51     0.1708      0.094      1.819      0.069      -0.013       0.355\n",
      "8062624b2a0e63429aec70cb1f934fee704435ef    -0.8058      0.379     -2.126      0.034      -1.549      -0.063\n",
      "8098b7df9506a418f44cbf339a82d59f8c4b0391     0.5448      0.102      5.335      0.000       0.345       0.745\n",
      "81e1a611a108f1e2d531b94b3f4cf0dd4c7fb930     0.1060      0.086      1.236      0.216      -0.062       0.274\n",
      "81e6820d262d74bae6968f1d5326f2afd2f6bb66     0.4284      0.104      4.137      0.000       0.225       0.631\n",
      "81e877faf250aa3c2fc7ed90be433dc11b9513a3    -0.6834      0.269     -2.540      0.011      -1.211      -0.156\n",
      "8272305d124e80ee83a0009b7406456d5d520ba8    -0.6450      0.259     -2.486      0.013      -1.154      -0.136\n",
      "82f266f7ceb05c52bf2bc89f4b1455523f1cc7f5     0.1199      0.132      0.911      0.362      -0.138       0.378\n",
      "83b396eee89bd80cbb021f119efbffb22fb1867d     0.2045      0.118      1.732      0.083      -0.027       0.436\n",
      "849f2df0747aebb29ee76fd70eb75c74ee681778    -0.4750      0.127     -3.753      0.000      -0.723      -0.227\n",
      "8593cedd0de7aaca29bc3f5d509e4f1770a1bdc4     0.3033      0.089      3.412      0.001       0.129       0.477\n",
      "867d5758e905586d2d1650e70f91bb0c4b310533     0.1586      0.101      1.567      0.117      -0.040       0.357\n",
      "8696809cc621a57e997a3a349a72d26fb56bfea6    -0.5230      0.159     -3.286      0.001      -0.835      -0.211\n",
      "87037400ecb4fd5e0ecf0096947803bd2b7b9a10    -0.1994      0.205     -0.973      0.331      -0.601       0.202\n",
      "8a5346d573517fecd831becd37c5538c170bf368     0.4052      0.161      2.511      0.012       0.089       0.722\n",
      "8b0e30464f484ee586865d461703010ea966e707     0.2938      0.075      3.942      0.000       0.148       0.440\n",
      "8c023ae13a70ffa4826606ece75a2928fc61dd16     0.0120      0.116      0.104      0.917      -0.215       0.239\n",
      "8d52f28edcb04652e633cd593d5c37289638f746    -0.2065      0.135     -1.528      0.127      -0.471       0.058\n",
      "8d5e79990881fe4be9b70ea301f860c42bbd20cc    -0.7692      0.259     -2.969      0.003      -1.277      -0.261\n",
      "8dbb2526e3f8a4efc609454044518860b7f1ddd1     0.7175      0.081      8.831      0.000       0.558       0.877\n",
      "8ed639b0c8ae8edfb51645e089226478b7a13ba5    -0.0899      0.123     -0.729      0.466      -0.332       0.152\n",
      "8f7a073dd44a92f0cedc517309b006634c43c5ad    -0.1954      0.197     -0.992      0.321      -0.582       0.191\n",
      "90d6c6bf0521dbc1cf763a2178a71b0de84e833e    -0.0823      0.164     -0.503      0.615      -0.404       0.239\n",
      "91357c46a192cd532c97ffd3a99fdc18d65a497a    -0.0707      0.168     -0.422      0.673      -0.399       0.258\n",
      "915399dcefbadc7a7e56b1421018fab2da5f2482     0.6390      0.134      4.778      0.000       0.377       0.901\n",
      "915c4101b071bd566dfb0920e32aef3273abf773     0.0741      0.181      0.409      0.682      -0.281       0.429\n",
      "91e1c8bd7117dfd8c86a0b442beea4ed70923643     0.4165      0.094      4.435      0.000       0.232       0.601\n",
      "92292bc8465dd87c634d8a64a75407af742652f3    -0.2804      0.225     -1.249      0.212      -0.720       0.160\n",
      "92e0730924f4a1082e5c2760438bfc13d2065d2d     0.5173      0.168      3.085      0.002       0.189       0.846\n",
      "93764dbd3290c27576b388b0e8a51e3bd1345f9c    -0.1886      0.149     -1.266      0.205      -0.481       0.103\n",
      "9402246e9b175e16c3637c85eed01fb6d341193d    -0.2610      0.108     -2.425      0.015      -0.472      -0.050\n",
      "9552e74bcf06aaccfc4ac863c57ac0c8040d7640    -0.5672      0.065     -8.751      0.000      -0.694      -0.440\n",
      "95858c4cb9d93eef6a2463b657b037d5048966cf     0.0189      0.110      0.172      0.864      -0.197       0.235\n",
      "963ea0569d2afed71716cc0f3ad5d79b3912027b     0.0904      0.138      0.656      0.512      -0.180       0.361\n",
      "9641cfd54915b40ee1a83fc5e7caa0e75fa7ecae    -0.4006      0.076     -5.238      0.000      -0.550      -0.251\n",
      "972a2615f00f45be69a0a56fcb76713fd2fc3dd1     0.2084      0.081      2.571      0.010       0.050       0.367\n",
      "975c415fb97778a8d564634e18e1cbb6ce5cbd9f    -0.2759      0.156     -1.773      0.076      -0.581       0.029\n",
      "97c1dad684d894c38237c91176b2ca5c490feedf    -0.2127      0.230     -0.923      0.356      -0.664       0.239\n",
      "984cb063745ed978785516d79167329f62ddb1da     0.7138      0.070     10.215      0.000       0.577       0.851\n",
      "9968a51f274e661affdd90dfee5282bd734b70c7    -0.1281      0.159     -0.805      0.421      -0.440       0.184\n",
      "9983f5fa63a848aefff3dd354e5bfd89d8903c05     0.5338      0.066      8.037      0.000       0.404       0.664\n",
      "9a74b50212290bec369a19a0c66dcf473e619429    -1.1128      0.251     -4.439      0.000      -1.604      -0.621\n",
      "9a7869df9eae678099a5328f06f85298246923ed    -0.1357      0.159     -0.852      0.394      -0.448       0.176\n",
      "9af33cc369b031fb335f04660b1207915496e40f    -0.7951      0.099     -8.043      0.000      -0.989      -0.601\n",
      "9bf345f89e209ba0c0cf5ffb6a450669fdc96910    -0.4459      0.173     -2.582      0.010      -0.784      -0.107\n",
      "9d8bae8b2e979663cc0ecd6e78d64378c835507c    -0.6230      0.100     -6.214      0.000      -0.820      -0.427\n",
      "9ddb09b95dc9160bb16e5cb9c5b575f71f426927     0.3198      0.070      4.553      0.000       0.182       0.457\n",
      "9e323fc7eb1998a0eb5b130bfa8950fc8f6211f4     0.8539      0.112      7.654      0.000       0.635       1.073\n",
      "a09211e7154c75063976d4cb552c1408c7698729    -0.5055      0.168     -3.003      0.003      -0.835      -0.176\n",
      "a096c854b584f07f3f48896287679fc3cbcbe02a    -0.1996      0.175     -1.138      0.255      -0.543       0.144\n",
      "a1eecba00a0b2acc8070df8b98cfd93a0dee5fd3     0.4027      0.084      4.789      0.000       0.238       0.568\n",
      "a2aae1d4eaf2ddb857668f91c40333aacd1780b9    -0.0014      0.086     -0.016      0.987      -0.171       0.168\n",
      "a321b778e1858698be151af2c7652733bcc1e28a    -0.4969      0.116     -4.295      0.000      -0.724      -0.270\n",
      "a34e6dcd71b7cbd85572e920a11dd05fc0223b8c     0.1227      0.064      1.927      0.054      -0.002       0.247\n",
      "a397140013b2537852fb4d2a803eac27a0438df4    -0.4953      0.184     -2.698      0.007      -0.855      -0.136\n",
      "a3f510a0ce644d8f47bb5f43c5c66a74f8caf5d6    -0.3753      0.113     -3.308      0.001      -0.598      -0.153\n",
      "a546ca7aef9685e22698350cbac5da70bb03b2af    -0.7245      0.280     -2.590      0.010      -1.273      -0.176\n",
      "a5db86c0062957e03fc1f1150833603acb7f7762     0.4335      0.083      5.245      0.000       0.271       0.595\n",
      "a5fd656a67818e1eecab3af45509cc0ff46822fd     0.4182      0.135      3.089      0.002       0.153       0.684\n",
      "a8aa1562664dd51661ffdc8e3a7eab08c503b21d    -0.6290      0.201     -3.129      0.002      -1.023      -0.235\n",
      "a8dcb8dcd76d16187f2817a3a9c299776b2257cb    -0.0252      0.154     -0.164      0.869      -0.326       0.276\n",
      "aac8a77c368168fec6ae74ebf03ca0acd9752819    -0.2937      0.193     -1.519      0.129      -0.673       0.085\n",
      "aad0a41753cc2b7c4f2e44b830cc4572cc15218a    -0.4385      0.251     -1.745      0.081      -0.931       0.054\n",
      "ab3bc670c4cc6e81bf96e8f14e65bdd0b72aca0b    -0.5982      0.146     -4.108      0.000      -0.884      -0.313\n",
      "ac4994ec0910f62695bd3eb25f1987af03568f21    -0.7667      0.168     -4.553      0.000      -1.097      -0.437\n",
      "ac8af5454f7d9abbd2615da5bbf0734314583cb3     0.1879      0.116      1.617      0.106      -0.040       0.416\n",
      "ad36a7bdf2f2d8947fd30b607ee75936b107f028     0.0750      0.108      0.697      0.486      -0.136       0.286\n",
      "ad696e0bc59b73219456b01a4324b333824f9e04    -0.9578      0.354     -2.704      0.007      -1.652      -0.264\n",
      "adef72ffeefe14666adb798230eff8abe9e5ffdb     0.0172      0.098      0.176      0.861      -0.174       0.209\n",
      "ae0e49a9e50fa38c65f0a09a503b0827a2131947     0.0927      0.065      1.418      0.156      -0.035       0.221\n",
      "ae80ee5278d3573dadc91bbe3a1d9f66e79768dc    -0.1781      0.209     -0.851      0.395      -0.588       0.232\n",
      "aeb6435e58f2359bf9420c8249789e02b27dfacb     0.4664      0.136      3.423      0.001       0.199       0.733\n",
      "b12363c2697652e975586f056c9ead4fa918ab1e     0.0014      0.098      0.014      0.989      -0.191       0.194\n",
      "b206d4676c0614f8cfce8ed5a726f193b6c10382    -0.1922      0.104     -1.851      0.064      -0.396       0.011\n",
      "b234a5a065b24b550614b3272b7962ab8a71698d    -0.5927      0.130     -4.575      0.000      -0.847      -0.339\n",
      "b3410512fdbf24a6ab4ee26c44d72942f29d7054    -0.6064      0.069     -8.798      0.000      -0.741      -0.471\n",
      "b6b66650176b28b41a2ccc6e17f80fe34089d1e3     0.0651      0.154      0.423      0.672      -0.236       0.367\n",
      "b80f208a662b4436a75432b323ab12a5deae5315    -0.2204      0.205     -1.075      0.282      -0.622       0.181\n",
      "b893f6b076eb0b3fc42ae9187ff5e91488715462    -0.4128      0.214     -1.926      0.054      -0.833       0.007\n",
      "b90a99b0cd1128060cd80bbd1a17746e08b2b04a     0.5772      0.071      8.142      0.000       0.438       0.716\n",
      "b94f8abee597235b3295f127dcce8027bd6a3510     0.1902      0.054      3.540      0.000       0.085       0.296\n",
      "ba2323c9590875cf01c2debe21a8e2bed17614ae    -0.5448      0.178     -3.058      0.002      -0.894      -0.196\n",
      "bb18b735d6a628bf23adec769b2f33c994761ca2     0.0354      0.165      0.214      0.830      -0.289       0.360\n",
      "bb5e7d6c093642e31f8e68f43773e06c79f0e51c    -0.8556      0.187     -4.582      0.000      -1.222      -0.490\n",
      "bea9a9855ee488d7c4d5a8882adca2146bb7fa0e    -0.2710      0.244     -1.112      0.266      -0.749       0.207\n",
      "bff0bbef06c2234dc1d5f77d8722849a40a51e73    -0.3592      0.237     -1.517      0.129      -0.823       0.105\n",
      "c05d21bbe9c01fa10dfc6d6255c3e8fdeceb7127     0.4968      0.102      4.883      0.000       0.297       0.696\n",
      "c0cbeefd2eb33fcca5ea17601bbe0597f8e2eb08    -0.2301      0.209     -1.098      0.272      -0.641       0.180\n",
      "c18c10d143fea7f55401c71f7a1f685fc248ea86     0.0330      0.206      0.160      0.873      -0.371       0.437\n",
      "c2026557bd28135abbdbf9998bd8f18c2f128a77     0.0495      0.120      0.411      0.681      -0.186       0.285\n",
      "c472b0aad7dd89e1698360c24f9d5bf1760c34a4    -0.6642      0.268     -2.479      0.013      -1.189      -0.139\n",
      "c491c56420a39042d7211ad43d120919312026e7    -0.1302      0.108     -1.208      0.227      -0.341       0.081\n",
      "c58c8f96fcd00472acdf4a1ab059f9aad91eb7ef    -1.6567      0.409     -4.052      0.000      -2.458      -0.855\n",
      "c59a787616be48bffa7d6dd2286d644205f7ae3d     0.1917      0.173      1.107      0.268      -0.148       0.531\n",
      "c5ae5840e837e1637590ef1e57ca0cba5cf35fab    -0.1739      0.117     -1.485      0.138      -0.403       0.056\n",
      "c7c0a3097c0d7f0550dbfd2704257418d93bbaf1     0.2901      0.101      2.869      0.004       0.092       0.488\n",
      "c857da256ff22bd4f6506047c8e0ca3f7b9bff3b    -0.5037      0.126     -3.990      0.000      -0.751      -0.256\n",
      "ca153e9263a1e638b79522999eda86fbba848339    -1.0544      0.209     -5.037      0.000      -1.465      -0.644\n",
      "cad652bbf9947ad4acc334acdabbe88905584e4d    -0.5222      0.201     -2.597      0.009      -0.916      -0.128\n",
      "cb9a833a2d7d2753589877b74a82744a3bde0cd9     0.0196      0.140      0.140      0.888      -0.254       0.294\n",
      "cbfc2ad6a0e7caf204ffaa3fa3fb79e160158855     0.1543      0.214      0.721      0.471      -0.265       0.574\n",
      "cdc4e15452a01b07fa15d7289e3ffbbed3e0ed8f     0.0672      0.083      0.812      0.417      -0.095       0.229\n",
      "ce232f0ab834bd7e3ae1a44cbbbe04257250c87c     0.4694      0.106      4.426      0.000       0.262       0.677\n",
      "cec70327954cf33522d07d72eb76d62f1fe13e78     0.6857      0.115      5.958      0.000       0.460       0.911\n",
      "cee7af469b8ba846c49318f3a4068563cf3dd05b     0.3002      0.132      2.281      0.023       0.042       0.558\n",
      "cef638b49e1b4018f5678e726c449929c08e3ee6    -0.2443      0.140     -1.746      0.081      -0.519       0.030\n",
      "cf5913ec250ca38f1367dcdaf20425636bdca082    -0.2668      0.123     -2.173      0.030      -0.507      -0.026\n",
      "d10dd724825291d9244ca25610172432542c741d    -0.1332      0.158     -0.845      0.398      -0.442       0.176\n",
      "d15a1896a3de599389f0dd7adbf343b2eb530b8a    -0.4092      0.173     -2.371      0.018      -0.747      -0.071\n",
      "d19c913f78a9be3c1bf1cd7cdda3199027aced29     0.0118      0.188      0.063      0.950      -0.357       0.381\n",
      "d1b7f8c5b8722e228fbe31695cb044b541f2f227    -1.0387      0.379     -2.743      0.006      -1.781      -0.297\n",
      "d3a16dae731076229d9f44b1e84fcf74695c8aca    -0.6780      0.168     -4.036      0.000      -1.007      -0.349\n",
      "d40b370026cdc5658409b7f2576d00dac432bb20     0.2947      0.151      1.956      0.050      -0.001       0.590\n",
      "d539a57bf8b8ce9da4ff837951ddf00600617213    -0.3570      0.124     -2.868      0.004      -0.601      -0.113\n",
      "d79a59d8495ec1a94057488f50ccd5e7c37a0489    -0.2433      0.096     -2.539      0.011      -0.431      -0.056\n",
      "d826d72a54b4f55d113d9ea50a823b36c13a7fbc    -0.4255      0.201     -2.118      0.034      -0.819      -0.032\n",
      "d8d3b7acffdec28e930f9069e3be6a6edf402167    -0.5451      0.236     -2.305      0.021      -1.009      -0.082\n",
      "d905a8320cc784535f84b66c8bae4c8b870fcf8f     0.3159      0.103      3.075      0.002       0.115       0.517\n",
      "d9a98666339e7f6dadd0f6935460cb04d85163a5    -0.9792      0.278     -3.520      0.000      -1.524      -0.434\n",
      "da55d310d2dacac4915e5e5560fd260d68bf4a54    -0.3084      0.120     -2.566      0.010      -0.544      -0.073\n",
      "dd6d90e48bce2e5ad0adb3f594a864a69ed71291    -0.1465      0.113     -1.298      0.194      -0.368       0.075\n",
      "ddb6ed217a03b71b9051f86b74dc0d75965c7225     0.0895      0.190      0.471      0.638      -0.283       0.462\n",
      "ddecaeb35b0ebd41e5636f6e4c2fda182705ecd5     0.1169      0.091      1.285      0.199      -0.061       0.295\n",
      "de10039b521331ccf9fc13de304b18ed64d40a3b     0.2891      0.073      3.938      0.000       0.145       0.433\n",
      "de12906e0db36d2e4bbc1c5ff90414836ec64fd0     0.5863      0.151      3.890      0.000       0.291       0.882\n",
      "de7949ad59a95e3a509a3b42c45d8f6f76b73952     0.0589      0.172      0.341      0.733      -0.279       0.397\n",
      "df47bcaba9551482dfc8ef430d05ecbd0b9673be     0.0031      0.119      0.026      0.979      -0.231       0.237\n",
      "df49403aec05b3350597a2e9d724a0270fbaa7bb    -1.3607      0.317     -4.295      0.000      -1.982      -0.740\n",
      "df790bd15f8c8cf554782c311601498a590ce0d1    -0.0853      0.194     -0.441      0.659      -0.465       0.294\n",
      "e010ecae51bb3c407e56dd2f200d71af58fc6f07     0.5451      0.161      3.380      0.001       0.229       0.861\n",
      "e1659ed921375627c30b7d53cecc63d0df309064    -0.0636      0.114     -0.560      0.575      -0.286       0.159\n",
      "e3ff7f7a5cdf6d7a096d0fc3f5d137ff69f59bef     0.0169      0.163      0.103      0.918      -0.303       0.337\n",
      "e49b2ae619e18e50adeb21199a974e01ef468580    -0.5906      0.201     -2.940      0.003      -0.984      -0.197\n",
      "e56ff8ec62ca5873b5b7eb1f1cbdf0d8a1875306     0.2372      0.085      2.793      0.005       0.071       0.404\n",
      "e66507266a0bbc94eeb885e7fd7324a9c4cce1d3     0.2690      0.139      1.940      0.052      -0.003       0.541\n",
      "e740b05973b3001388429e166c9bf301ea43dfc2    -0.2584      0.077     -3.371      0.001      -0.409      -0.108\n",
      "e7685ebac46af7caddac9e8cbbad7d5c7005de9d    -0.1124      0.214     -0.524      0.600      -0.533       0.308\n",
      "e7b846a5ec1fad720b7a3669bb6fdc8896c422fe    -0.3900      0.136     -2.863      0.004      -0.657      -0.123\n",
      "e8a6af1314e59a3e871fd865833dfd44eaed7002    -0.9501      0.173     -5.505      0.000      -1.288      -0.612\n",
      "e8c9039d3beefa84a0df078d109da01318ec206e     0.6195      0.087      7.096      0.000       0.448       0.791\n",
      "e95edbc398975eb64a9b9d396b445669adbbb586    -0.5059      0.074     -6.832      0.000      -0.651      -0.361\n",
      "e9df02ccd91097a071ca6ea33277b736c88ae3c8    -0.2130      0.138     -1.546      0.122      -0.483       0.057\n",
      "e9f8a9e0f5137535c6f6695b5da63333c7f67c92    -0.4101      0.109     -3.770      0.000      -0.623      -0.197\n",
      "ea8773a50f8d2a535315e9057028289a8fd3e02d    -0.1612      0.197     -0.818      0.414      -0.548       0.225\n",
      "eada375a4dbc87210ca2ea195deaa1dc7413729b     0.4524      0.096      4.727      0.000       0.265       0.640\n",
      "ec3086730e41038e61583da08c07a9dbeae5f35e     0.0795      0.081      0.977      0.328      -0.080       0.239\n",
      "ee1c8ba564283e324c5748adc1c957d90962244d     0.1618      0.184      0.880      0.379      -0.198       0.522\n",
      "ee9df52b8820e414b470c173f87d1f9191947508    -0.4275      0.068     -6.263      0.000      -0.561      -0.294\n",
      "efb40a74341dc767bea620bf1bf0104ce9d0beba    -0.0502      0.109     -0.459      0.646      -0.265       0.164\n",
      "f0feca71d9fbb60bdabea63cb5ad6b75e3a0ca1d     0.2352      0.178      1.323      0.186      -0.113       0.584\n",
      "f13cb4eff1aecd583aea9cac14b5bb11bbb022b0     0.2252      0.132      1.704      0.088      -0.034       0.484\n",
      "f1ab198a6a10ad41077b49ea1b90a29b3fb68d3a    -0.8580      0.230     -3.726      0.000      -1.309      -0.407\n",
      "f23074d04da5190ae2b95814c9a366654f73ca74    -0.2197      0.251     -0.874      0.382      -0.712       0.273\n",
      "f2dda96c0216a749dcefb7ff962aa388f5d3ae7b     0.0484      0.127      0.380      0.704      -0.201       0.298\n",
      "f2fc1d050b679b69b9b9f1995aec92792b7a1407    -0.4205      0.268     -1.569      0.117      -0.946       0.105\n",
      "f40f7c1a4acb1267c0b098bbc49cb28960bf07ba     0.2594      0.124      2.091      0.037       0.016       0.503\n",
      "f44dc84ccf754972f63d5c97cf74874b809c39ea    -0.6593      0.116     -5.677      0.000      -0.887      -0.432\n",
      "f4781db7e0d574739153110499d48aa08ab72c5b     0.0517      0.165      0.313      0.754      -0.273       0.376\n",
      "f69a2a62d9093d5b2f4bb512314d5d1754b10d70    -0.7622      0.209     -3.641      0.000      -1.173      -0.352\n",
      "f6e04d5135da2b0c0767dc81e3a1c6fad371625b     0.1368      0.137      0.996      0.319      -0.133       0.406\n",
      "f6f14762c3326ff771a3b3dd75c88680a52ff9bb     0.3007      0.170      1.768      0.077      -0.033       0.634\n",
      "f712079737d9c9543296064f52165919f093aa88    -0.1432      0.175     -0.818      0.413      -0.486       0.200\n",
      "f7830893dd49fe39ed52f3a9cb424ca959b5580f    -0.5643      0.280     -2.015      0.044      -1.113      -0.015\n",
      "f9893eab7863a2150c5237db07e747c41a424dca    -0.3848      0.133     -2.901      0.004      -0.645      -0.125\n",
      "fb7d1e4d3aaf8a9e4ce51301a5d15241c6c3cad7    -0.7075      0.268     -2.638      0.008      -1.233      -0.182\n",
      "fbc89d655b0bee5e28be220fd32b387c7a05a5e2     0.2950      0.139      2.120      0.034       0.022       0.568\n",
      "fc0ae5b9e0cdd41054037a6394d7bd2e6e067eef    -0.3222      0.115     -2.810      0.005      -0.547      -0.097\n",
      "fc66dfab82fdad061547aa40cdf9c33329d35928     0.0868      0.057      1.515      0.130      -0.025       0.199\n",
      "fcba6c814e849d1bbe22e5d46ff473f8153c0da5     0.4337      0.116      3.728      0.000       0.206       0.662\n",
      "fcd7f19d1b99ab5e1897984c08887df30eb0449b     0.5526      0.052     10.668      0.000       0.451       0.654\n",
      "ff756eb5ea347265b69af40d828247445923f17c     0.0281      0.146      0.193      0.847      -0.258       0.314\n",
      "bloom                                        0.5839      0.037     15.986      0.000       0.512       0.656\n",
      "c0vm                                         1.0237      0.023     44.892      0.000       0.979       1.068\n",
      "clac                                         0.6027      0.043     13.921      0.000       0.518       0.688\n",
      "clac-exp                                     0.5533      0.041     13.608      0.000       0.474       0.633\n",
      "doslingos                                    0.3100      0.046      6.717      0.000       0.220       0.400\n",
      "editor                                       0.7935      0.048     16.564      0.000       0.700       0.887\n",
      "editor-check                                 0.2067      0.074      2.783      0.005       0.061       0.352\n",
      "exam                                         1.3023      0.031     41.494      0.000       1.241       1.364\n",
      "huffman                                      1.0840      0.034     31.935      0.000       1.017       1.151\n",
      "images                                       0.7054      0.033     21.357      0.000       0.641       0.770\n",
      "lightsout                                    1.0836      0.026     41.065      0.000       1.032       1.135\n",
      "pixels                                       0.2800      0.042      6.657      0.000       0.198       0.362\n",
      "queues                                       0.9564      0.031     31.263      0.000       0.896       1.016\n",
      "ropes                                        0.9657      0.026     37.305      0.000       0.915       1.016\n",
      "scavhunt                                     0.3509      0.058      6.093      0.000       0.238       0.464\n",
      "setup (Linux)                               -0.4182      0.412     -1.014      0.311      -1.227       0.390\n",
      "setup (Mac)                                 -0.5113      0.089     -5.750      0.000      -0.686      -0.337\n",
      "setup (Windows)                             -0.4280      0.121     -3.538      0.000      -0.665      -0.191\n",
      "speller                                      0.8348      0.039     21.157      0.000       0.757       0.912\n",
      "strbuf                                       0.9244      0.038     24.502      0.000       0.850       0.998\n",
      "style                                       -0.3395      0.046     -7.409      0.000      -0.429      -0.250\n",
      "tbuf                                         0.8526      0.035     24.413      0.000       0.784       0.921\n",
      "written                                      0.5484      0.021     26.188      0.000       0.507       0.589\n",
      "============================================================================================================\n"
     ]
    }
   ],
   "source": [
    "print(results2.summary())"
   ]
  },
  {
   "cell_type": "code",
   "execution_count": 262,
   "metadata": {},
   "outputs": [
    {
     "name": "stdout",
     "output_type": "stream",
     "text": [
      "1\n",
      "1773    1.185025\n",
      "dtype: float64\n"
     ]
    }
   ],
   "source": [
    "i = random.randint(0, X.shape[0])\n",
    "rec = X.iloc[[i]]\n",
    "label = y2[i]\n",
    "print(label)\n",
    "print(results2.predict(rec))"
   ]
  },
  {
   "cell_type": "code",
   "execution_count": null,
   "metadata": {},
   "outputs": [],
   "source": []
  }
 ],
 "metadata": {
  "kernelspec": {
   "display_name": "Python 3",
   "language": "python",
   "name": "python3"
  },
  "language_info": {
   "codemirror_mode": {
    "name": "ipython",
    "version": 3
   },
   "file_extension": ".py",
   "mimetype": "text/x-python",
   "name": "python",
   "nbconvert_exporter": "python",
   "pygments_lexer": "ipython3",
   "version": "3.6.2"
  }
 },
 "nbformat": 4,
 "nbformat_minor": 2
}
